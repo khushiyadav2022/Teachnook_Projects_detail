{
  "nbformat": 4,
  "nbformat_minor": 0,
  "metadata": {
    "colab": {
      "provenance": [],
      "collapsed_sections": []
    },
    "kernelspec": {
      "name": "python3",
      "display_name": "Python 3"
    },
    "language_info": {
      "name": "python"
    }
  },
  "cells": [
    {
      "cell_type": "markdown",
      "source": [
        "CLASS 5"
      ],
      "metadata": {
        "id": "4PxXKaQpat2c"
      }
    },
    {
      "cell_type": "code",
      "source": [
        "import module\n",
        "module.greet(\"khushi\",\"good evening\")"
      ],
      "metadata": {
        "colab": {
          "base_uri": "https://localhost:8080/"
        },
        "id": "3X96L9Jga-5o",
        "outputId": "061f86c5-7eb3-4f4f-b4b3-bd3b89030723"
      },
      "execution_count": null,
      "outputs": [
        {
          "output_type": "stream",
          "name": "stdout",
          "text": [
            "good evening khushi\n"
          ]
        }
      ]
    },
    {
      "cell_type": "code",
      "source": [
        "#advance argument passing\n",
        "def a(greeting):\n",
        "  print(\"hello all\",greeting)\n",
        "a(\"good morning\")"
      ],
      "metadata": {
        "colab": {
          "base_uri": "https://localhost:8080/"
        },
        "id": "cbnmKabKer9z",
        "outputId": "f71026be-152d-4402-9b27-bee0210b63d1"
      },
      "execution_count": null,
      "outputs": [
        {
          "output_type": "stream",
          "name": "stdout",
          "text": [
            "hello all good morning\n"
          ]
        }
      ]
    },
    {
      "cell_type": "code",
      "source": [
        "#positional arguments\n",
        "def pos(name,city,batch):\n",
        "  print(\"I am \",name,\"from \",city,\"my baatch  is \",batch)\n",
        "\n",
        "pos(\"khushi\",\"udaipur\",2022)"
      ],
      "metadata": {
        "colab": {
          "base_uri": "https://localhost:8080/"
        },
        "id": "dKXDzgTser4l",
        "outputId": "ebac4209-d30a-4e41-ae8e-00a162ad65e4"
      },
      "execution_count": null,
      "outputs": [
        {
          "output_type": "stream",
          "name": "stdout",
          "text": [
            "I am  khushi from  udaipur my baatch  is  2022\n"
          ]
        }
      ]
    },
    {
      "cell_type": "code",
      "source": [
        "def pos(name,city,batch):\n",
        "  print(\"from \",city,\"my baatch  is \",batch, \"I  am \",name)\n",
        "\n",
        "pos(\"khushi\",\"udaipur\",2022)"
      ],
      "metadata": {
        "colab": {
          "base_uri": "https://localhost:8080/"
        },
        "id": "a8XXDPCyerxw",
        "outputId": "8f9bf373-f969-420b-eb58-0bdf9ce8292a"
      },
      "execution_count": null,
      "outputs": [
        {
          "output_type": "stream",
          "name": "stdout",
          "text": [
            "from  udaipur my baatch  is  2022 I  am  khushi\n"
          ]
        }
      ]
    },
    {
      "cell_type": "code",
      "source": [
        "#keyword arguments\n",
        "def key(course,batch,status):\n",
        "  print(\"I started learning\",course,\"course and my batch no is\",batch, \"status is\",status)\n",
        "\n",
        "key(course=\"python\",batch=\"2022\",status=\"ongoing\")"
      ],
      "metadata": {
        "colab": {
          "base_uri": "https://localhost:8080/"
        },
        "id": "hUujrXIPerwr",
        "outputId": "23162cdb-7bca-4775-c6fa-f6ba0d6fa707"
      },
      "execution_count": null,
      "outputs": [
        {
          "output_type": "stream",
          "name": "stdout",
          "text": [
            "I started learning python course and my batch no is 2022 status is ongoing\n"
          ]
        }
      ]
    },
    {
      "cell_type": "code",
      "source": [
        "def key(course,batch,status):\n",
        "  print(\"I started learning\",course,\"course and my batch no is\",batch, \"status is\",status)\n",
        "\n",
        "key(\"python\",batch=\"2022\",status=\"ongoing\")"
      ],
      "metadata": {
        "colab": {
          "base_uri": "https://localhost:8080/"
        },
        "id": "Rct9QgZqerq7",
        "outputId": "87a0a698-2e3f-4bae-def0-bb4eac388f19"
      },
      "execution_count": null,
      "outputs": [
        {
          "output_type": "stream",
          "name": "stdout",
          "text": [
            "I started learning python course and my batch no is 2022 status is ongoing\n"
          ]
        }
      ]
    },
    {
      "cell_type": "code",
      "source": [
        "def key(course,batch,status):\n",
        "  print(\"I started learning\",course,\"course and my batch no is\",batch, \"status is\",status)\n",
        "\n",
        "key(course=\"python\",batch=\"2022\",\"ongoing\")"
      ],
      "metadata": {
        "colab": {
          "base_uri": "https://localhost:8080/",
          "height": 130
        },
        "id": "vL7UsJqFerp6",
        "outputId": "2cc54697-8bcc-467c-9b3a-87419e6cdb59"
      },
      "execution_count": null,
      "outputs": [
        {
          "output_type": "error",
          "ename": "SyntaxError",
          "evalue": "ignored",
          "traceback": [
            "\u001b[0;36m  File \u001b[0;32m\"<ipython-input-66-2bca47492876>\"\u001b[0;36m, line \u001b[0;32m4\u001b[0m\n\u001b[0;31m    key(course=\"python\",batch=\"2022\",\"ongoing\")\u001b[0m\n\u001b[0m                                    ^\u001b[0m\n\u001b[0;31mSyntaxError\u001b[0m\u001b[0;31m:\u001b[0m positional argument follows keyword argument\n"
          ]
        }
      ]
    },
    {
      "cell_type": "code",
      "source": [
        "def key(course,batch,status):\n",
        "  print(\"I started learning\",course,\"course and my batch no is\",batch, \"status is\",status)\n",
        "\n",
        "key(\"python\",batch=\"2022\",status=\"ongoing\")"
      ],
      "metadata": {
        "colab": {
          "base_uri": "https://localhost:8080/"
        },
        "id": "TLNczHNNerkN",
        "outputId": "2061be4b-4023-4f2a-86c9-6f5785d76ce2"
      },
      "execution_count": null,
      "outputs": [
        {
          "output_type": "stream",
          "name": "stdout",
          "text": [
            "I started learning html course and my batch no is 2022 status is ongoing\n"
          ]
        }
      ]
    },
    {
      "cell_type": "code",
      "source": [
        "def key(course,batch,status):\n",
        "  print(\"I started learning\",course,\"course and my batch no is\",batch, \"status is\",status)\n",
        "\n",
        "key()"
      ],
      "metadata": {
        "colab": {
          "base_uri": "https://localhost:8080/",
          "height": 200
        },
        "id": "QwoTI3EWerjM",
        "outputId": "a93e1ed0-1855-441e-8776-b0df178c3655"
      },
      "execution_count": null,
      "outputs": [
        {
          "output_type": "error",
          "ename": "TypeError",
          "evalue": "ignored",
          "traceback": [
            "\u001b[0;31m---------------------------------------------------------------------------\u001b[0m",
            "\u001b[0;31mTypeError\u001b[0m                                 Traceback (most recent call last)",
            "\u001b[0;32m<ipython-input-68-1375974f5a0a>\u001b[0m in \u001b[0;36m<module>\u001b[0;34m\u001b[0m\n\u001b[1;32m      2\u001b[0m   \u001b[0mprint\u001b[0m\u001b[0;34m(\u001b[0m\u001b[0;34m\"I started learning\"\u001b[0m\u001b[0;34m,\u001b[0m\u001b[0mcourse\u001b[0m\u001b[0;34m,\u001b[0m\u001b[0;34m\"course and my batch no is\"\u001b[0m\u001b[0;34m,\u001b[0m\u001b[0mbatch\u001b[0m\u001b[0;34m,\u001b[0m \u001b[0;34m\"status is\"\u001b[0m\u001b[0;34m,\u001b[0m\u001b[0mstatus\u001b[0m\u001b[0;34m)\u001b[0m\u001b[0;34m\u001b[0m\u001b[0;34m\u001b[0m\u001b[0m\n\u001b[1;32m      3\u001b[0m \u001b[0;34m\u001b[0m\u001b[0m\n\u001b[0;32m----> 4\u001b[0;31m \u001b[0mkey\u001b[0m\u001b[0;34m(\u001b[0m\u001b[0;34m)\u001b[0m\u001b[0;34m\u001b[0m\u001b[0;34m\u001b[0m\u001b[0m\n\u001b[0m",
            "\u001b[0;31mTypeError\u001b[0m: key() missing 3 required positional arguments: 'course', 'batch', and 'status'"
          ]
        }
      ]
    },
    {
      "cell_type": "code",
      "source": [],
      "metadata": {
        "id": "Dq_WLkZJerdS"
      },
      "execution_count": null,
      "outputs": []
    },
    {
      "cell_type": "code",
      "source": [],
      "metadata": {
        "id": "JB5Q0DmyercY"
      },
      "execution_count": null,
      "outputs": []
    },
    {
      "cell_type": "code",
      "source": [],
      "metadata": {
        "id": "whEGPYKserWP"
      },
      "execution_count": null,
      "outputs": []
    },
    {
      "cell_type": "code",
      "source": [],
      "metadata": {
        "id": "c-5HOPbGerVT"
      },
      "execution_count": null,
      "outputs": []
    },
    {
      "cell_type": "code",
      "source": [],
      "metadata": {
        "id": "o_j64r6_erPH"
      },
      "execution_count": null,
      "outputs": []
    },
    {
      "cell_type": "code",
      "source": [],
      "metadata": {
        "id": "AQ3YAzbVerOK"
      },
      "execution_count": null,
      "outputs": []
    },
    {
      "cell_type": "code",
      "source": [],
      "metadata": {
        "id": "XMAJ7WWrerIN"
      },
      "execution_count": null,
      "outputs": []
    },
    {
      "cell_type": "code",
      "source": [],
      "metadata": {
        "id": "c0PX3SgwerB3"
      },
      "execution_count": null,
      "outputs": []
    },
    {
      "cell_type": "code",
      "source": [],
      "metadata": {
        "id": "hUeiZTPyeq5t"
      },
      "execution_count": null,
      "outputs": []
    },
    {
      "cell_type": "code",
      "source": [],
      "metadata": {
        "id": "hAxT7iQfeqvk"
      },
      "execution_count": null,
      "outputs": []
    },
    {
      "cell_type": "code",
      "source": [],
      "metadata": {
        "id": "ga949aFZeqjl"
      },
      "execution_count": null,
      "outputs": []
    },
    {
      "cell_type": "code",
      "source": [],
      "metadata": {
        "id": "nkJTdQWDeqiZ"
      },
      "execution_count": null,
      "outputs": []
    },
    {
      "cell_type": "markdown",
      "source": [
        "CLASS 6\n"
      ],
      "metadata": {
        "id": "XdUOwJa2GAUg"
      }
    },
    {
      "cell_type": "code",
      "execution_count": null,
      "metadata": {
        "id": "eA5GOwjssp9J",
        "colab": {
          "base_uri": "https://localhost:8080/"
        },
        "outputId": "9ee3ef8e-c4f3-454a-9ce9-bfe1145d12a9"
      },
      "outputs": [
        {
          "output_type": "stream",
          "name": "stdout",
          "text": [
            "teacher name is khushi\n",
            "the students are 1\n",
            "the students are 2\n",
            "the students are 3\n",
            "the students are 33\n",
            "the students are 44\n",
            "the students are 34\n",
            "the students are 5\n",
            "the students are 5\n",
            "the students are 6\n"
          ]
        }
      ],
      "source": [
        "def batch(teacher,*args):\n",
        "  print(\"teacher name is\",teacher)\n",
        "  for studentno in args:\n",
        "    print(\"the students are\",studentno)\n",
        "\n",
        "batch(\"khushi\",1,2,3,33,44,34,5,5,6)"
      ]
    },
    {
      "cell_type": "code",
      "source": [
        "def data(teacher,*a,**totalstudent):\n",
        "  print(teacher,\"teacher is going to handle below roll no\")\n",
        "  for studentno in a:\n",
        "     print(studentno)\n",
        "\n",
        "  for subject in totalstudent:\n",
        "     print(subject, totalstudent[subject])\n",
        "\n",
        "data(\"khushi\",1,2,3,4,5,math=3,science=2,python=10)\n"
      ],
      "metadata": {
        "colab": {
          "base_uri": "https://localhost:8080/"
        },
        "id": "BGh96_XdG7zo",
        "outputId": "29989dc8-58ce-4041-eade-0ee96289ddae"
      },
      "execution_count": null,
      "outputs": [
        {
          "output_type": "stream",
          "name": "stdout",
          "text": [
            "khushi teacher is going to handle below roll no\n",
            "1\n",
            "2\n",
            "3\n",
            "4\n",
            "5\n",
            "math 3\n",
            "science 2\n",
            "python 10\n"
          ]
        }
      ]
    },
    {
      "cell_type": "code",
      "source": [
        "def record(*no,**result):\n",
        "  print(no)\n",
        "  print(result)\n",
        "\n",
        "record(1,2,3,4,python=\"10 student passed\",practical=\"2 student passed\")"
      ],
      "metadata": {
        "colab": {
          "base_uri": "https://localhost:8080/"
        },
        "id": "fU0t6zdhIqMG",
        "outputId": "953c071e-94ff-4fd8-fd78-d963d1560385"
      },
      "execution_count": null,
      "outputs": [
        {
          "output_type": "stream",
          "name": "stdout",
          "text": [
            "(1, 2, 3, 4)\n",
            "{'python': '10 student passed', 'practical': '2 student passed'}\n"
          ]
        }
      ]
    },
    {
      "cell_type": "code",
      "source": [
        "#lamda function-execute one expression at a time\n",
        "def func(a,b,c,d):\n",
        "  print(a,b,c,d)\n",
        "func(1,11,1,2)"
      ],
      "metadata": {
        "colab": {
          "base_uri": "https://localhost:8080/"
        },
        "id": "JFgALBKsKO43",
        "outputId": "455c7533-3bda-4b62-83d5-c620b370e611"
      },
      "execution_count": null,
      "outputs": [
        {
          "output_type": "stream",
          "name": "stdout",
          "text": [
            "1 11 1 2\n"
          ]
        }
      ]
    },
    {
      "cell_type": "code",
      "source": [
        "x=lambda x:x+10\n",
        "print(x(4))"
      ],
      "metadata": {
        "colab": {
          "base_uri": "https://localhost:8080/"
        },
        "id": "PKjaW1bEKpOv",
        "outputId": "ad504fab-f067-40fb-c129-36b682dee058"
      },
      "execution_count": null,
      "outputs": [
        {
          "output_type": "stream",
          "name": "stdout",
          "text": [
            "14\n"
          ]
        }
      ]
    },
    {
      "cell_type": "code",
      "source": [
        "cal=lambda x,y,z:x+y*z\n",
        "print(cal(2,3,4))"
      ],
      "metadata": {
        "colab": {
          "base_uri": "https://localhost:8080/"
        },
        "id": "IG6NmtYZKxof",
        "outputId": "80cf78c5-29b9-4473-c986-bb030c2de5ec"
      },
      "execution_count": null,
      "outputs": [
        {
          "output_type": "stream",
          "name": "stdout",
          "text": [
            "14\n"
          ]
        }
      ]
    },
    {
      "cell_type": "code",
      "source": [
        "print((lambda a,b,c:a+b+c)(1,2,23))"
      ],
      "metadata": {
        "colab": {
          "base_uri": "https://localhost:8080/"
        },
        "id": "I5Up187VLMAg",
        "outputId": "765c6410-4dff-40af-b361-c77790cc6d7b"
      },
      "execution_count": null,
      "outputs": [
        {
          "output_type": "stream",
          "name": "stdout",
          "text": [
            "26\n"
          ]
        }
      ]
    },
    {
      "cell_type": "code",
      "source": [
        "tables=(lambda x=y:x*10 for y in range(1,11))\n",
        "for table in tables:\n",
        "     print(table())"
      ],
      "metadata": {
        "colab": {
          "base_uri": "https://localhost:8080/"
        },
        "id": "8SjX57I1MJw8",
        "outputId": "42167ad8-018a-4f6e-d552-7618a6674b91"
      },
      "execution_count": null,
      "outputs": [
        {
          "output_type": "stream",
          "name": "stdout",
          "text": [
            "10\n",
            "20\n",
            "30\n",
            "40\n",
            "50\n",
            "60\n",
            "70\n",
            "80\n",
            "90\n",
            "100\n"
          ]
        }
      ]
    },
    {
      "cell_type": "code",
      "source": [
        "y=lambda a,b: a if(a>b) else b\n",
        "print(y(2,9))"
      ],
      "metadata": {
        "colab": {
          "base_uri": "https://localhost:8080/"
        },
        "id": "A6lAbp1DMpkS",
        "outputId": "5b272b1e-e8e7-4937-d5f8-ce42013b5172"
      },
      "execution_count": null,
      "outputs": [
        {
          "output_type": "stream",
          "name": "stdout",
          "text": [
            "9\n"
          ]
        }
      ]
    },
    {
      "cell_type": "markdown",
      "source": [
        "CLASS 7"
      ],
      "metadata": {
        "id": "rI8dnCXFnUKU"
      }
    },
    {
      "cell_type": "code",
      "source": [
        "#files: the information can be written, read, modified and stored(saved)\n",
        "#different type of modes\n",
        "#Read mode\n",
        "#Write mode\n",
        "#Append mode"
      ],
      "metadata": {
        "id": "NSS80rsQOtPt"
      },
      "execution_count": null,
      "outputs": []
    },
    {
      "cell_type": "code",
      "source": [
        "myfile=open(\"file.txt\",\"r\")\n",
        "print(myfile.read())"
      ],
      "metadata": {
        "colab": {
          "base_uri": "https://localhost:8080/"
        },
        "id": "5B3c8OBAO2oB",
        "outputId": "0d0b2722-585f-4f23-cbf4-b4b88d389f24"
      },
      "execution_count": null,
      "outputs": [
        {
          "output_type": "stream",
          "name": "stdout",
          "text": [
            "this is written by programmer\n"
          ]
        }
      ]
    },
    {
      "cell_type": "code",
      "source": [
        "myfile=open(\"file.txt\",\"w\")\n",
        "myfile.write(\"this is written by programmer\")"
      ],
      "metadata": {
        "colab": {
          "base_uri": "https://localhost:8080/"
        },
        "id": "aLUjOhqhSfT6",
        "outputId": "1341d95f-537e-43f8-de03-6f42510ac81d"
      },
      "execution_count": null,
      "outputs": [
        {
          "output_type": "execute_result",
          "data": {
            "text/plain": [
              "29"
            ]
          },
          "metadata": {},
          "execution_count": 38
        }
      ]
    },
    {
      "cell_type": "code",
      "source": [
        "myfile=open(\"file.txt\",\"r\")\n",
        "print(myfile.read())"
      ],
      "metadata": {
        "colab": {
          "base_uri": "https://localhost:8080/"
        },
        "id": "5w-tZ0y1Syll",
        "outputId": "319a3a57-f92b-4a36-e874-69ac07e75551"
      },
      "execution_count": null,
      "outputs": [
        {
          "output_type": "stream",
          "name": "stdout",
          "text": [
            "this is written by programmer\n",
            " this is written by the progrmmer\n"
          ]
        }
      ]
    },
    {
      "cell_type": "code",
      "source": [
        "myfile.close"
      ],
      "metadata": {
        "colab": {
          "base_uri": "https://localhost:8080/"
        },
        "id": "thhrSxp4TAVw",
        "outputId": "e8eec852-9ffb-4733-8af1-57f236740714"
      },
      "execution_count": null,
      "outputs": [
        {
          "output_type": "execute_result",
          "data": {
            "text/plain": [
              "<function TextIOWrapper.close()>"
            ]
          },
          "metadata": {},
          "execution_count": 42
        }
      ]
    },
    {
      "cell_type": "code",
      "source": [
        "myfile=open(\"file.txt\",\"a\")\n",
        "myfile.write(\"\\n this is written by the progrmmer\")"
      ],
      "metadata": {
        "colab": {
          "base_uri": "https://localhost:8080/"
        },
        "id": "K21xWpp_UMS0",
        "outputId": "66b3ca1f-1784-430b-c9b2-cb925701a128"
      },
      "execution_count": null,
      "outputs": [
        {
          "output_type": "execute_result",
          "data": {
            "text/plain": [
              "34"
            ]
          },
          "metadata": {},
          "execution_count": 43
        }
      ]
    },
    {
      "cell_type": "code",
      "source": [
        "myfile=open(\"file.txt\",\"r\")\n",
        "print(myfile.read())"
      ],
      "metadata": {
        "colab": {
          "base_uri": "https://localhost:8080/"
        },
        "id": "4zcedE02UfFr",
        "outputId": "9807dc0b-b21a-417d-c613-6ca6051fdc85"
      },
      "execution_count": null,
      "outputs": [
        {
          "output_type": "stream",
          "name": "stdout",
          "text": [
            "this is written by programmer\n"
          ]
        }
      ]
    },
    {
      "cell_type": "code",
      "source": [],
      "metadata": {
        "id": "NVYBYXEmUkb6"
      },
      "execution_count": null,
      "outputs": []
    },
    {
      "cell_type": "markdown",
      "source": [
        "CLASS 8 -live session"
      ],
      "metadata": {
        "id": "WzzWYPLNnY9K"
      }
    },
    {
      "cell_type": "code",
      "source": [
        "#COMPREHENTION\n",
        "list=[1,2,3,45,4,5,8,88,44]"
      ],
      "metadata": {
        "id": "1ogFxVGKnaRQ"
      },
      "execution_count": null,
      "outputs": []
    },
    {
      "cell_type": "code",
      "source": [
        "print(list)"
      ],
      "metadata": {
        "colab": {
          "base_uri": "https://localhost:8080/"
        },
        "id": "BiKE0rGfoVn1",
        "outputId": "b51dab9b-541a-473e-bf7f-28d79cbc4e1c"
      },
      "execution_count": null,
      "outputs": [
        {
          "output_type": "stream",
          "name": "stdout",
          "text": [
            "[1, 2, 3, 45, 4, 5, 8, 88, 44]\n"
          ]
        }
      ]
    },
    {
      "cell_type": "code",
      "source": [
        "even_list=[]\n",
        "for x in list:\n",
        "  if x %2==0:\n",
        "    even_list.append(x)\n",
        "print(even_list)"
      ],
      "metadata": {
        "colab": {
          "base_uri": "https://localhost:8080/"
        },
        "id": "GCzbPbo1oXMX",
        "outputId": "b7de27d6-5af7-462a-d8f0-b65c4e978696"
      },
      "execution_count": null,
      "outputs": [
        {
          "output_type": "stream",
          "name": "stdout",
          "text": [
            "[2, 4, 8, 88, 44]\n"
          ]
        }
      ]
    },
    {
      "cell_type": "code",
      "source": [
        "odd_list=[]\n",
        "for x in list:\n",
        "  if x %2!=0:\n",
        "    odd_list.append(x)\n",
        "print(odd_list)"
      ],
      "metadata": {
        "colab": {
          "base_uri": "https://localhost:8080/"
        },
        "id": "NC7Nsq0ao2Ta",
        "outputId": "5561a004-ea2b-413a-8578-7416c4570855"
      },
      "execution_count": null,
      "outputs": [
        {
          "output_type": "stream",
          "name": "stdout",
          "text": [
            "[1, 3, 45, 5]\n"
          ]
        }
      ]
    },
    {
      "cell_type": "code",
      "source": [
        "#list comprehention\n",
        "\n",
        "evenlist=[y for y in list if y %2==0]\n",
        "print(evenlist)"
      ],
      "metadata": {
        "colab": {
          "base_uri": "https://localhost:8080/"
        },
        "id": "E2lIgha4pLS9",
        "outputId": "809b3531-8502-4c60-ebb7-87868e2287fc"
      },
      "execution_count": null,
      "outputs": [
        {
          "output_type": "stream",
          "name": "stdout",
          "text": [
            "[2, 4, 8, 88, 44]\n"
          ]
        }
      ]
    },
    {
      "cell_type": "code",
      "source": [
        "oddlist=[y for y in list if y %2!=0]\n",
        "print(oddlist)"
      ],
      "metadata": {
        "colab": {
          "base_uri": "https://localhost:8080/"
        },
        "id": "XyjinPn0pl1l",
        "outputId": "b5095806-748f-4bcd-cee4-788f874d9aaf"
      },
      "execution_count": null,
      "outputs": [
        {
          "output_type": "stream",
          "name": "stdout",
          "text": [
            "[1, 3, 45, 5]\n"
          ]
        }
      ]
    },
    {
      "cell_type": "code",
      "source": [
        "#dic \n",
        "mydic={}\n",
        "for z in list:\n",
        "  mydic[z]=z**2\n",
        "print(mydic)\n"
      ],
      "metadata": {
        "colab": {
          "base_uri": "https://localhost:8080/"
        },
        "id": "rdZoo1Uzp98m",
        "outputId": "e5dbdc75-196e-4ed1-f439-a8b46083b1c4"
      },
      "execution_count": null,
      "outputs": [
        {
          "output_type": "stream",
          "name": "stdout",
          "text": [
            "{1: 1, 2: 4, 3: 9, 45: 2025, 4: 16, 5: 25, 8: 64, 88: 7744, 44: 1936}\n"
          ]
        }
      ]
    },
    {
      "cell_type": "code",
      "source": [
        "#dictionary comprehension\n",
        "my_dic={z : z**2 for z in list}\n",
        "print(my_dic)"
      ],
      "metadata": {
        "colab": {
          "base_uri": "https://localhost:8080/"
        },
        "id": "oejPn8SrrZRh",
        "outputId": "cf55a47f-deaa-4104-f3f6-906ff5247592"
      },
      "execution_count": null,
      "outputs": [
        {
          "output_type": "stream",
          "name": "stdout",
          "text": [
            "{1: 1, 2: 4, 3: 9, 45: 2025, 4: 16, 5: 25, 8: 64, 88: 7744, 44: 1936}\n"
          ]
        }
      ]
    },
    {
      "cell_type": "markdown",
      "source": [
        "Class 7"
      ],
      "metadata": {
        "id": "eeBUZziiuP1E"
      }
    },
    {
      "cell_type": "code",
      "source": [
        "#context manager-managing the resources"
      ],
      "metadata": {
        "id": "xjHuXbkMsw93"
      },
      "execution_count": null,
      "outputs": []
    },
    {
      "cell_type": "code",
      "source": [
        "file=open(\"file.txt\",\"w\")\n",
        "file.write(\"thanku all\")\n",
        "file.close()"
      ],
      "metadata": {
        "id": "5po-_Up8ubwp"
      },
      "execution_count": null,
      "outputs": []
    },
    {
      "cell_type": "code",
      "source": [
        "#exception handling "
      ],
      "metadata": {
        "id": "CVMhqO2tvsGW"
      },
      "execution_count": null,
      "outputs": []
    },
    {
      "cell_type": "code",
      "source": [
        "print(2/0)"
      ],
      "metadata": {
        "colab": {
          "base_uri": "https://localhost:8080/",
          "height": 165
        },
        "id": "ASrUkBs7wNGH",
        "outputId": "2c7fd2d4-f48c-440e-b824-6356ec0dc4a2"
      },
      "execution_count": null,
      "outputs": [
        {
          "output_type": "error",
          "ename": "ZeroDivisionError",
          "evalue": "ignored",
          "traceback": [
            "\u001b[0;31m---------------------------------------------------------------------------\u001b[0m",
            "\u001b[0;31mZeroDivisionError\u001b[0m                         Traceback (most recent call last)",
            "\u001b[0;32m<ipython-input-27-d2c0889640ff>\u001b[0m in \u001b[0;36m<module>\u001b[0;34m\u001b[0m\n\u001b[0;32m----> 1\u001b[0;31m \u001b[0mprint\u001b[0m\u001b[0;34m(\u001b[0m\u001b[0;36m2\u001b[0m\u001b[0;34m/\u001b[0m\u001b[0;36m0\u001b[0m\u001b[0;34m)\u001b[0m\u001b[0;34m\u001b[0m\u001b[0;34m\u001b[0m\u001b[0m\n\u001b[0m",
            "\u001b[0;31mZeroDivisionError\u001b[0m: division by zero"
          ]
        }
      ]
    },
    {
      "cell_type": "code",
      "source": [
        "try:\n",
        "  print(2/0)\n",
        "except:\n",
        "  print(\"hiiii....don't divide with '0'\")"
      ],
      "metadata": {
        "colab": {
          "base_uri": "https://localhost:8080/"
        },
        "id": "cFDlU4uewPxx",
        "outputId": "96e5f150-1ec6-41da-d56a-29891f9b8843"
      },
      "execution_count": null,
      "outputs": [
        {
          "output_type": "stream",
          "name": "stdout",
          "text": [
            "hiiii....don't divide with '0'\n"
          ]
        }
      ]
    },
    {
      "cell_type": "code",
      "source": [
        "try:\n",
        "  print(\"abcd\")\n",
        "  print(abcd)\n",
        "except:\n",
        "  print(\"partially completed\")\n",
        " "
      ],
      "metadata": {
        "colab": {
          "base_uri": "https://localhost:8080/"
        },
        "id": "bSn1J_fXwbla",
        "outputId": "991254f8-c3ff-48fe-b0a0-ec5bc363d964"
      },
      "execution_count": null,
      "outputs": [
        {
          "output_type": "stream",
          "name": "stdout",
          "text": [
            "abcd\n",
            "partially completed\n"
          ]
        }
      ]
    },
    {
      "cell_type": "code",
      "source": [
        "mylist=[1,2,3,4,5,6,7]\n",
        "try:\n",
        "  print(mylist[2])\n",
        "  print(mylist[19])\n",
        "except:\n",
        "  print(\"out of the list\")"
      ],
      "metadata": {
        "colab": {
          "base_uri": "https://localhost:8080/"
        },
        "id": "cZGxXYC6xKrW",
        "outputId": "195d9dd3-19b2-45c7-a151-239c6266202b"
      },
      "execution_count": null,
      "outputs": [
        {
          "output_type": "stream",
          "name": "stdout",
          "text": [
            "3\n",
            "out of the list\n"
          ]
        }
      ]
    },
    {
      "cell_type": "code",
      "source": [
        "list=[1,2,3,4,66,77]\n",
        "\n",
        "try:\n",
        "    if list >20:\n",
        "      print(list)\n",
        "except:\n",
        "  print(\"error occured\")"
      ],
      "metadata": {
        "colab": {
          "base_uri": "https://localhost:8080/"
        },
        "id": "H7NREDYMycTQ",
        "outputId": "b3e19252-1714-4ac8-e3f6-1fce8b8ac93e"
      },
      "execution_count": null,
      "outputs": [
        {
          "output_type": "stream",
          "name": "stdout",
          "text": [
            "error occured\n"
          ]
        }
      ]
    },
    {
      "cell_type": "code",
      "source": [
        "try:\n",
        "  x=(4/1)\n",
        "  print(x)\n",
        "  y=(9/0)\n",
        "except:\n",
        "  print(\"error occured\")\n",
        "finally:\n",
        "  print(\"partially done\")"
      ],
      "metadata": {
        "colab": {
          "base_uri": "https://localhost:8080/"
        },
        "id": "celKROON0cF7",
        "outputId": "0b3217d6-2aab-44b4-ed66-31a3b3905d1f"
      },
      "execution_count": null,
      "outputs": [
        {
          "output_type": "stream",
          "name": "stdout",
          "text": [
            "4.0\n",
            "error occured\n",
            "partially done\n"
          ]
        }
      ]
    },
    {
      "cell_type": "code",
      "source": [
        "try:\n",
        "  raise(9/0)\n",
        "except:\n",
        "  print(\"error\")\n",
        "  raise"
      ],
      "metadata": {
        "colab": {
          "base_uri": "https://localhost:8080/",
          "height": 252
        },
        "id": "5TUZkM8Y20rE",
        "outputId": "e6942a7b-4c8b-425e-d18e-87f44248072a"
      },
      "execution_count": null,
      "outputs": [
        {
          "output_type": "stream",
          "name": "stdout",
          "text": [
            "error\n"
          ]
        },
        {
          "output_type": "error",
          "ename": "ZeroDivisionError",
          "evalue": "ignored",
          "traceback": [
            "\u001b[0;31m---------------------------------------------------------------------------\u001b[0m",
            "\u001b[0;31mZeroDivisionError\u001b[0m                         Traceback (most recent call last)",
            "\u001b[0;32m<ipython-input-48-fa8d6ee4a79f>\u001b[0m in \u001b[0;36m<module>\u001b[0;34m\u001b[0m\n\u001b[1;32m      1\u001b[0m \u001b[0;32mtry\u001b[0m\u001b[0;34m:\u001b[0m\u001b[0;34m\u001b[0m\u001b[0;34m\u001b[0m\u001b[0m\n\u001b[0;32m----> 2\u001b[0;31m   \u001b[0;32mraise\u001b[0m\u001b[0;34m(\u001b[0m\u001b[0;36m9\u001b[0m\u001b[0;34m/\u001b[0m\u001b[0;36m0\u001b[0m\u001b[0;34m)\u001b[0m\u001b[0;34m\u001b[0m\u001b[0;34m\u001b[0m\u001b[0m\n\u001b[0m\u001b[1;32m      3\u001b[0m \u001b[0;32mexcept\u001b[0m\u001b[0;34m:\u001b[0m\u001b[0;34m\u001b[0m\u001b[0;34m\u001b[0m\u001b[0m\n\u001b[1;32m      4\u001b[0m   \u001b[0mprint\u001b[0m\u001b[0;34m(\u001b[0m\u001b[0;34m\"error\"\u001b[0m\u001b[0;34m)\u001b[0m\u001b[0;34m\u001b[0m\u001b[0;34m\u001b[0m\u001b[0m\n\u001b[1;32m      5\u001b[0m   \u001b[0;32mraise\u001b[0m\u001b[0;34m\u001b[0m\u001b[0;34m\u001b[0m\u001b[0m\n",
            "\u001b[0;31mZeroDivisionError\u001b[0m: division by zero"
          ]
        }
      ]
    },
    {
      "cell_type": "code",
      "source": [
        "try:\n",
        "  raise(\"abcd\")\n",
        "except:\n",
        "  print(\"error\")\n",
        "  "
      ],
      "metadata": {
        "colab": {
          "base_uri": "https://localhost:8080/"
        },
        "id": "EWy-5ocb3hgc",
        "outputId": "cd5dcc78-71d3-4455-effa-dc33daca4294"
      },
      "execution_count": null,
      "outputs": [
        {
          "output_type": "stream",
          "name": "stdout",
          "text": [
            "error\n"
          ]
        }
      ]
    },
    {
      "cell_type": "code",
      "source": [
        "try:\n",
        "  raise(\"abcd\")\n",
        "except:\n",
        "  print(\"error\")\n",
        "  raise\n",
        "  "
      ],
      "metadata": {
        "colab": {
          "base_uri": "https://localhost:8080/",
          "height": 252
        },
        "id": "WHOKtG1N4HHu",
        "outputId": "9d60664a-a92b-4255-81ab-bc86b90733e2"
      },
      "execution_count": null,
      "outputs": [
        {
          "output_type": "stream",
          "name": "stdout",
          "text": [
            "error\n"
          ]
        },
        {
          "output_type": "error",
          "ename": "TypeError",
          "evalue": "ignored",
          "traceback": [
            "\u001b[0;31m---------------------------------------------------------------------------\u001b[0m",
            "\u001b[0;31mTypeError\u001b[0m                                 Traceback (most recent call last)",
            "\u001b[0;32m<ipython-input-53-b371638d4764>\u001b[0m in \u001b[0;36m<module>\u001b[0;34m\u001b[0m\n\u001b[1;32m      1\u001b[0m \u001b[0;32mtry\u001b[0m\u001b[0;34m:\u001b[0m\u001b[0;34m\u001b[0m\u001b[0;34m\u001b[0m\u001b[0m\n\u001b[0;32m----> 2\u001b[0;31m   \u001b[0;32mraise\u001b[0m\u001b[0;34m(\u001b[0m\u001b[0;34m\"abcd\"\u001b[0m\u001b[0;34m)\u001b[0m\u001b[0;34m\u001b[0m\u001b[0;34m\u001b[0m\u001b[0m\n\u001b[0m\u001b[1;32m      3\u001b[0m \u001b[0;32mexcept\u001b[0m\u001b[0;34m:\u001b[0m\u001b[0;34m\u001b[0m\u001b[0;34m\u001b[0m\u001b[0m\n\u001b[1;32m      4\u001b[0m   \u001b[0mprint\u001b[0m\u001b[0;34m(\u001b[0m\u001b[0;34m\"error\"\u001b[0m\u001b[0;34m)\u001b[0m\u001b[0;34m\u001b[0m\u001b[0;34m\u001b[0m\u001b[0m\n\u001b[1;32m      5\u001b[0m   \u001b[0;32mraise\u001b[0m\u001b[0;34m\u001b[0m\u001b[0;34m\u001b[0m\u001b[0m\n",
            "\u001b[0;31mTypeError\u001b[0m: exceptions must derive from BaseException"
          ]
        }
      ]
    },
    {
      "cell_type": "code",
      "source": [
        "import sys\n",
        "try:\n",
        "  x=open(\"file.txt\",\"r\")\n",
        "  print(x.read())\n",
        "except:\n",
        "  print(\"file doen't exist\")\n",
        "finally:\n",
        "  print(\"done\")"
      ],
      "metadata": {
        "colab": {
          "base_uri": "https://localhost:8080/"
        },
        "id": "-nUmrSF14TDD",
        "outputId": "bb6e6253-ada1-460a-bf17-02befe5f03aa"
      },
      "execution_count": null,
      "outputs": [
        {
          "output_type": "stream",
          "name": "stdout",
          "text": [
            "thanku all\n",
            "done\n"
          ]
        }
      ]
    },
    {
      "cell_type": "code",
      "source": [
        "with open(\"file.txt\",\"r\") as f:\n",
        "  print(f.read())"
      ],
      "metadata": {
        "colab": {
          "base_uri": "https://localhost:8080/"
        },
        "id": "dzPKHAnh4jL1",
        "outputId": "528a5ca8-6156-45d3-8b02-0954241f795e"
      },
      "execution_count": null,
      "outputs": [
        {
          "output_type": "stream",
          "name": "stdout",
          "text": [
            "thanku all\n"
          ]
        }
      ]
    },
    {
      "cell_type": "code",
      "source": [
        "with open(\"file.txt\",\"a\") as f:\n",
        "  f.write(\"welcome to my pc\")"
      ],
      "metadata": {
        "id": "NgCKIQR_5nmO"
      },
      "execution_count": null,
      "outputs": []
    },
    {
      "cell_type": "code",
      "source": [
        "with open(\"file.txt\",\"r\") as f:\n",
        "  print(f.read())"
      ],
      "metadata": {
        "colab": {
          "base_uri": "https://localhost:8080/"
        },
        "id": "sIJ1wXq36X78",
        "outputId": "25ac4809-cfc6-4f01-b822-14f56b590b4f"
      },
      "execution_count": null,
      "outputs": [
        {
          "output_type": "stream",
          "name": "stdout",
          "text": [
            "thanku allwelcome to my pc\n"
          ]
        }
      ]
    },
    {
      "cell_type": "code",
      "source": [
        "with open(\"file.txt\",\"a+\") as f:\n",
        "  f.write(\"welcome\")\n",
        "  print(f.read())"
      ],
      "metadata": {
        "colab": {
          "base_uri": "https://localhost:8080/"
        },
        "id": "llH93re-6gYm",
        "outputId": "84bcd219-251b-4995-d49d-51b214f7081a"
      },
      "execution_count": null,
      "outputs": [
        {
          "output_type": "stream",
          "name": "stdout",
          "text": [
            "\n"
          ]
        }
      ]
    },
    {
      "cell_type": "markdown",
      "source": [
        "CLASS 8"
      ],
      "metadata": {
        "id": "xXt3Fxsq8dg2"
      }
    },
    {
      "cell_type": "code",
      "source": [
        "#python decorators: will allow the users to modify or add new functionality to an existing object without modufying the struture\n",
        "def data():\n",
        "  print(\"hi everyone\")\n",
        "data()\n",
        "\n"
      ],
      "metadata": {
        "colab": {
          "base_uri": "https://localhost:8080/"
        },
        "id": "0L0T6GpC6qQV",
        "outputId": "8336000a-f00b-4036-948c-ac4119307145"
      },
      "execution_count": null,
      "outputs": [
        {
          "output_type": "stream",
          "name": "stdout",
          "text": [
            "hi everyone\n"
          ]
        }
      ]
    },
    {
      "cell_type": "code",
      "source": [
        "details=data()\n",
        "data()\n"
      ],
      "metadata": {
        "colab": {
          "base_uri": "https://localhost:8080/"
        },
        "id": "x8lK5h81DHak",
        "outputId": "74daca25-4f56-45fd-ec7a-74b6ab9227bd"
      },
      "execution_count": null,
      "outputs": [
        {
          "output_type": "stream",
          "name": "stdout",
          "text": [
            "hi everyone\n",
            "hi everyone\n"
          ]
        }
      ]
    },
    {
      "cell_type": "code",
      "source": [],
      "metadata": {
        "id": "G-pBvkBDDRjb"
      },
      "execution_count": null,
      "outputs": []
    },
    {
      "cell_type": "code",
      "source": [
        "def increment(num1):\n",
        "  return num1+1\n",
        "def decrement(num1):\n",
        "  return num1-1\n",
        "increment(22)\n"
      ],
      "metadata": {
        "colab": {
          "base_uri": "https://localhost:8080/"
        },
        "id": "B2nPb5ViDXvP",
        "outputId": "b928fae4-7506-453e-bf8c-7c2cfbe2e087"
      },
      "execution_count": null,
      "outputs": [
        {
          "output_type": "execute_result",
          "data": {
            "text/plain": [
              "23"
            ]
          },
          "metadata": {},
          "execution_count": 81
        }
      ]
    },
    {
      "cell_type": "code",
      "source": [
        "def incdec(func,num1):\n",
        "  result=func(num1)\n",
        "  return result\n",
        "incdec(increment,7)"
      ],
      "metadata": {
        "colab": {
          "base_uri": "https://localhost:8080/"
        },
        "id": "33wmLSKEEH3f",
        "outputId": "a856a6e6-4e05-44e7-f76a-e547beb1c78f"
      },
      "execution_count": null,
      "outputs": [
        {
          "output_type": "execute_result",
          "data": {
            "text/plain": [
              "8"
            ]
          },
          "metadata": {},
          "execution_count": 82
        }
      ]
    },
    {
      "cell_type": "code",
      "source": [
        "s=\"python\"\n",
        "# print(s[1:5])\n",
        "print(s[-5:-1:2])"
      ],
      "metadata": {
        "colab": {
          "base_uri": "https://localhost:8080/"
        },
        "id": "04EjFhlZE-ii",
        "outputId": "19278d96-d69d-4f68-80d2-14a76dcf1bab"
      },
      "execution_count": null,
      "outputs": [
        {
          "output_type": "stream",
          "name": "stdout",
          "text": [
            "yh\n"
          ]
        }
      ]
    },
    {
      "cell_type": "code",
      "source": [
        "#string formatting: allows you to format the selected part of the string\n",
        "\n",
        "print(\"hello %s, welcome\" %\"class\")"
      ],
      "metadata": {
        "colab": {
          "base_uri": "https://localhost:8080/"
        },
        "id": "avk6IhbJJvRG",
        "outputId": "fafd8f36-0444-4d01-80b2-d53e8e3e7753"
      },
      "execution_count": null,
      "outputs": [
        {
          "output_type": "stream",
          "name": "stdout",
          "text": [
            "hello class, welcome\n"
          ]
        }
      ]
    },
    {
      "cell_type": "code",
      "source": [
        "print(\"hello %s, welcome %s\" %(\"class\",\"all\"))"
      ],
      "metadata": {
        "colab": {
          "base_uri": "https://localhost:8080/"
        },
        "id": "rdqjIgGxKmEX",
        "outputId": "4ac29f6b-beae-479e-a0e2-76b86ea0917e"
      },
      "execution_count": null,
      "outputs": [
        {
          "output_type": "stream",
          "name": "stdout",
          "text": [
            "hello class, welcome all\n"
          ]
        }
      ]
    },
    {
      "cell_type": "code",
      "source": [
        "print(\"hello {}\".format(\"class\"))"
      ],
      "metadata": {
        "colab": {
          "base_uri": "https://localhost:8080/"
        },
        "id": "zjpRH64tO6uX",
        "outputId": "ea49eb96-776f-4899-f624-e5eaa2ce9507"
      },
      "execution_count": null,
      "outputs": [
        {
          "output_type": "stream",
          "name": "stdout",
          "text": [
            "hello class\n"
          ]
        }
      ]
    },
    {
      "cell_type": "markdown",
      "source": [
        "CLASS 9"
      ],
      "metadata": {
        "id": "hJiDDtFtP7_R"
      }
    },
    {
      "cell_type": "code",
      "source": [
        "#STRING FORMATTING \n",
        "#FOUR WAYS\n",
        "# % operator, format , f string , string template class \n",
        "\n",
        "#operator method\n",
        "print(\"hello %s, welcome\" %\"class\")"
      ],
      "metadata": {
        "colab": {
          "base_uri": "https://localhost:8080/"
        },
        "id": "evF7L5tuPlIF",
        "outputId": "0d052083-fded-471a-ea4d-290228a378ee"
      },
      "execution_count": null,
      "outputs": [
        {
          "output_type": "stream",
          "name": "stdout",
          "text": [
            "hello class, welcome\n"
          ]
        }
      ]
    },
    {
      "cell_type": "code",
      "source": [
        "#format method\n",
        "print(\"hello {}, you are {}\".format(\"class\",\"welcome\",\"all\"))"
      ],
      "metadata": {
        "colab": {
          "base_uri": "https://localhost:8080/"
        },
        "id": "sjHPlS20UzQl",
        "outputId": "5c8f49d2-ed45-482f-a428-84191a30a935"
      },
      "execution_count": null,
      "outputs": [
        {
          "output_type": "stream",
          "name": "stdout",
          "text": [
            "hello class, you are welcome\n"
          ]
        }
      ]
    },
    {
      "cell_type": "code",
      "source": [
        "print(\"hello {}, you are {} ,welcome {}\".format(\"class\",\"welcome\",\"all\"))"
      ],
      "metadata": {
        "colab": {
          "base_uri": "https://localhost:8080/"
        },
        "id": "Gc3u34Ox5ArQ",
        "outputId": "f18651f8-c0ea-4a14-e68d-8e8cfd0188a8"
      },
      "execution_count": null,
      "outputs": [
        {
          "output_type": "stream",
          "name": "stdout",
          "text": [
            "hello class, you are welcome ,welcome all\n"
          ]
        }
      ]
    },
    {
      "cell_type": "code",
      "source": [
        "print(\"hello:{a}\".format(a=\"welcome\"))"
      ],
      "metadata": {
        "colab": {
          "base_uri": "https://localhost:8080/"
        },
        "id": "Pvnk9shO4ads",
        "outputId": "1a334f26-fa8e-4f40-9df6-07fcabae85a7"
      },
      "execution_count": null,
      "outputs": [
        {
          "output_type": "stream",
          "name": "stdout",
          "text": [
            "hello:welcome\n"
          ]
        }
      ]
    },
    {
      "cell_type": "code",
      "source": [
        "# f string -you can embed the value \n",
        "name=\"khushi\"\n",
        "print(\"my favorite is\",name)"
      ],
      "metadata": {
        "id": "M6LYP13iU4LF",
        "colab": {
          "base_uri": "https://localhost:8080/"
        },
        "outputId": "6c2bb8b0-2fdc-4301-dce1-d3dba45e597e"
      },
      "execution_count": null,
      "outputs": [
        {
          "output_type": "stream",
          "name": "stdout",
          "text": [
            "my favorite is khushi\n"
          ]
        }
      ]
    },
    {
      "cell_type": "code",
      "source": [
        "n1=10\n",
        "n2=20\n",
        "print(f\"the addition is {n1+n2}\")"
      ],
      "metadata": {
        "colab": {
          "base_uri": "https://localhost:8080/"
        },
        "id": "kPErb9z057t5",
        "outputId": "d86086cf-dad5-42f7-c962-eb9fbdd3ccdd"
      },
      "execution_count": null,
      "outputs": [
        {
          "output_type": "stream",
          "name": "stdout",
          "text": [
            "the addition is 30\n"
          ]
        }
      ]
    },
    {
      "cell_type": "code",
      "source": [
        "# Regular expression-> its a search pattern (check somthing present or not)"
      ],
      "metadata": {
        "id": "WDWYv8Qu6IiZ"
      },
      "execution_count": null,
      "outputs": []
    },
    {
      "cell_type": "code",
      "source": [
        "import re\n",
        "greet=\"hello, you are welcome\""
      ],
      "metadata": {
        "id": "SQifxBww66sG"
      },
      "execution_count": null,
      "outputs": []
    },
    {
      "cell_type": "code",
      "source": [
        "data = re.search(\"you\",greet)\n",
        "print(data)\n",
        "print(\"start of the index number\",data.start())\n",
        "print(\"end of the index number\",data.end())"
      ],
      "metadata": {
        "colab": {
          "base_uri": "https://localhost:8080/"
        },
        "id": "00xxR9Qf7ZVq",
        "outputId": "f729cc6f-8ef1-40cc-8284-0fe079b3495a"
      },
      "execution_count": null,
      "outputs": [
        {
          "output_type": "stream",
          "name": "stdout",
          "text": [
            "<re.Match object; span=(7, 10), match='you'>\n",
            "start of the index number 7\n",
            "end of the index number 10\n"
          ]
        }
      ]
    },
    {
      "cell_type": "code",
      "source": [
        "print(greet[7:10])"
      ],
      "metadata": {
        "colab": {
          "base_uri": "https://localhost:8080/"
        },
        "id": "piSP3S5k7qZj",
        "outputId": "4710155d-ca07-4647-d4c8-3b7ca6e0879d"
      },
      "execution_count": null,
      "outputs": [
        {
          "output_type": "stream",
          "name": "stdout",
          "text": [
            "you\n"
          ]
        }
      ]
    },
    {
      "cell_type": "code",
      "source": [
        "data1=re.sub(\"\\s\",\" And \",greet)\n",
        "print(data1)"
      ],
      "metadata": {
        "colab": {
          "base_uri": "https://localhost:8080/"
        },
        "id": "6hi0K7zP860A",
        "outputId": "a684cc33-7e4b-4add-b86f-6e7c0531c812"
      },
      "execution_count": null,
      "outputs": [
        {
          "output_type": "stream",
          "name": "stdout",
          "text": [
            "hello, And you And are And welcome\n"
          ]
        }
      ]
    },
    {
      "cell_type": "code",
      "source": [
        "# data1=re.sub(\"\\s\", 2 ,greet)\n",
        "# print(data1)"
      ],
      "metadata": {
        "id": "JdZNfYg7_LhG"
      },
      "execution_count": null,
      "outputs": []
    },
    {
      "cell_type": "code",
      "source": [
        "greet=\"hello you are welcome 99999\"\n",
        "match=re.findall(\"\\d\",greet)\n",
        "print(match)"
      ],
      "metadata": {
        "colab": {
          "base_uri": "https://localhost:8080/"
        },
        "id": "qPoH5EqtAF-y",
        "outputId": "64a26241-9880-40f3-cf3c-1085fbaa5c51"
      },
      "execution_count": null,
      "outputs": [
        {
          "output_type": "stream",
          "name": "stdout",
          "text": [
            "['9', '9', '9', '9', '9']\n"
          ]
        }
      ]
    },
    {
      "cell_type": "code",
      "source": [
        "greet=\"hello you are welcome 7777\"\n",
        "match=re.findall(\"\\d+\",greet)\n",
        "# mat=re.sub(\"\\d\",3,greet)\n",
        "# print(mat)\n",
        "print(match)"
      ],
      "metadata": {
        "colab": {
          "base_uri": "https://localhost:8080/"
        },
        "id": "2i0Qnm7iASLK",
        "outputId": "a8d331f9-990a-4789-fdb6-d67c47fd4688"
      },
      "execution_count": null,
      "outputs": [
        {
          "output_type": "stream",
          "name": "stdout",
          "text": [
            "['7777']\n"
          ]
        }
      ]
    },
    {
      "cell_type": "code",
      "source": [
        "match1=re.split(\"\\s\",greet)\n",
        "print(match1)"
      ],
      "metadata": {
        "colab": {
          "base_uri": "https://localhost:8080/"
        },
        "id": "0kyYcSZ-AYqE",
        "outputId": "5baa928a-d86d-4c12-8eac-dcbb5f3c7a0b"
      },
      "execution_count": null,
      "outputs": [
        {
          "output_type": "stream",
          "name": "stdout",
          "text": [
            "['hello', 'you', 'are', 'welcome', '7777']\n"
          ]
        }
      ]
    },
    {
      "cell_type": "markdown",
      "source": [
        "CLASS 10"
      ],
      "metadata": {
        "id": "pYz9j5lwFD89"
      }
    },
    {
      "cell_type": "code",
      "source": [
        "#comprehension-> can be done in short and precise way\n",
        "#list\n",
        "list1=[1,2,3,4,5,6,7]\n",
        "print(list1)"
      ],
      "metadata": {
        "colab": {
          "base_uri": "https://localhost:8080/"
        },
        "id": "rQPvi2XFA1vl",
        "outputId": "009c68cc-d0a5-40ed-c659-5c7c0f5f2ecf"
      },
      "execution_count": null,
      "outputs": [
        {
          "output_type": "stream",
          "name": "stdout",
          "text": [
            "[1, 2, 3, 4, 5, 6, 7]\n"
          ]
        }
      ]
    },
    {
      "cell_type": "code",
      "source": [
        "even_list=[]\n",
        "for value in list1:\n",
        "  if value %2==0:\n",
        "    even_list.append(value)\n",
        "print(even_list)"
      ],
      "metadata": {
        "colab": {
          "base_uri": "https://localhost:8080/"
        },
        "id": "ySl00-qZGAET",
        "outputId": "4376587f-b29d-4917-dedf-ae789253b65d"
      },
      "execution_count": null,
      "outputs": [
        {
          "output_type": "stream",
          "name": "stdout",
          "text": [
            "[2, 4, 6]\n"
          ]
        }
      ]
    },
    {
      "cell_type": "code",
      "source": [
        "odd_list=[]\n",
        "for value in list1:\n",
        "  if value %2!=0:\n",
        "    odd_list.append(value)\n",
        "print(odd_list)"
      ],
      "metadata": {
        "colab": {
          "base_uri": "https://localhost:8080/"
        },
        "id": "7_05vv-cG2fD",
        "outputId": "c75e4ff7-fe69-444d-baac-7b5fcc07a255"
      },
      "execution_count": null,
      "outputs": [
        {
          "output_type": "stream",
          "name": "stdout",
          "text": [
            "[1, 3, 5, 7]\n"
          ]
        }
      ]
    },
    {
      "cell_type": "code",
      "source": [
        "even_list=[value for value in list1 if value %2==0]      #list comprehension \n",
        "print(even_list)"
      ],
      "metadata": {
        "colab": {
          "base_uri": "https://localhost:8080/"
        },
        "id": "-62-pN1eGGQK",
        "outputId": "4d12fbb4-b2f2-4a0a-8756-48f769397737"
      },
      "execution_count": null,
      "outputs": [
        {
          "output_type": "stream",
          "name": "stdout",
          "text": [
            "[2, 4, 6]\n"
          ]
        }
      ]
    },
    {
      "cell_type": "code",
      "source": [
        "odd_list=[value for value in list1 if value %2!=0]\n",
        "print(odd_list)"
      ],
      "metadata": {
        "colab": {
          "base_uri": "https://localhost:8080/"
        },
        "id": "kLlaiq0zGwZe",
        "outputId": "c1b14cc5-5cb9-45ec-b382-33994f7b1eb7"
      },
      "execution_count": null,
      "outputs": [
        {
          "output_type": "stream",
          "name": "stdout",
          "text": [
            "[1, 3, 5, 7]\n"
          ]
        }
      ]
    },
    {
      "cell_type": "code",
      "source": [
        "list=[1,21,1]\n",
        "even=[value if value %2==0 else print(\"error\") for value in list]\n",
        "print(even)"
      ],
      "metadata": {
        "colab": {
          "base_uri": "https://localhost:8080/"
        },
        "id": "FlZ1iJ1zHgwW",
        "outputId": "bc2d18ff-15cd-4522-ccf1-66ac90a95e72"
      },
      "execution_count": null,
      "outputs": [
        {
          "output_type": "stream",
          "name": "stdout",
          "text": [
            "error\n",
            "error\n",
            "error\n",
            "[None, None, None]\n"
          ]
        }
      ]
    },
    {
      "cell_type": "code",
      "source": [
        "list=[1,21,1,22]\n",
        "even=[value if value %2==0 else \"error\" for value in list]\n",
        "print(even)"
      ],
      "metadata": {
        "colab": {
          "base_uri": "https://localhost:8080/"
        },
        "id": "rwo0I_DcRGnH",
        "outputId": "b44ef3c0-2a5b-4031-fd6f-96ee6f619558"
      },
      "execution_count": null,
      "outputs": [
        {
          "output_type": "stream",
          "name": "stdout",
          "text": [
            "['error', 'error', 'error', 22]\n"
          ]
        }
      ]
    },
    {
      "cell_type": "code",
      "source": [
        "num=[i for i in range(50) if i%2==0]\n",
        "print(num)"
      ],
      "metadata": {
        "colab": {
          "base_uri": "https://localhost:8080/"
        },
        "id": "KUTeavk7HwYH",
        "outputId": "87d2aa2c-cc51-414f-ef1c-7981f986d60b"
      },
      "execution_count": null,
      "outputs": [
        {
          "output_type": "stream",
          "name": "stdout",
          "text": [
            "[0, 2, 4, 6, 8, 10, 12, 14, 16, 18, 20, 22, 24, 26, 28, 30, 32, 34, 36, 38, 40, 42, 44, 46, 48]\n"
          ]
        }
      ]
    },
    {
      "cell_type": "code",
      "source": [
        "details=(\"data\" if i%2==0 else \"error\" for i in range(10))\n",
        "print(details)"
      ],
      "metadata": {
        "colab": {
          "base_uri": "https://localhost:8080/"
        },
        "id": "-DHYrpF2JhD8",
        "outputId": "e6841726-4f97-47b5-9bf2-267fa36dbcda"
      },
      "execution_count": null,
      "outputs": [
        {
          "output_type": "stream",
          "name": "stdout",
          "text": [
            "<generator object <genexpr> at 0x7f893153d4d0>\n"
          ]
        }
      ]
    },
    {
      "cell_type": "code",
      "source": [
        "#dictonary\n",
        "list=[1,2,3,4,5,6]\n",
        "mydict={}\n",
        "for value in list:\n",
        "  mydict[value]=value**2\n",
        "print(mydict)"
      ],
      "metadata": {
        "colab": {
          "base_uri": "https://localhost:8080/"
        },
        "id": "tYPXAvEhK29l",
        "outputId": "9e4a3bd2-7662-4398-8898-e15e49bf501a"
      },
      "execution_count": null,
      "outputs": [
        {
          "output_type": "stream",
          "name": "stdout",
          "text": [
            "{1: 1, 2: 4, 3: 9, 4: 16, 5: 25, 6: 36}\n"
          ]
        }
      ]
    },
    {
      "cell_type": "code",
      "source": [
        "mydict={value:value**2 for value in list}\n",
        "print(mydict)"
      ],
      "metadata": {
        "colab": {
          "base_uri": "https://localhost:8080/"
        },
        "id": "5ytiRSwGMa7Z",
        "outputId": "57f676f8-32c5-4494-fc34-40977afd7a15"
      },
      "execution_count": null,
      "outputs": [
        {
          "output_type": "stream",
          "name": "stdout",
          "text": [
            "{1: 1, 2: 4, 3: 9, 4: 16, 5: 25, 6: 36}\n"
          ]
        }
      ]
    },
    {
      "cell_type": "code",
      "source": [
        "even_set=set()\n",
        "for value in list:\n",
        "  if value %2==0:\n",
        "    even_set.add(value)\n",
        "print(even_set)"
      ],
      "metadata": {
        "colab": {
          "base_uri": "https://localhost:8080/"
        },
        "id": "Bqav8a9tMvIy",
        "outputId": "7d094bbc-f9fa-4d59-bd47-a659c4c50560"
      },
      "execution_count": null,
      "outputs": [
        {
          "output_type": "stream",
          "name": "stdout",
          "text": [
            "{2, 4, 6}\n"
          ]
        }
      ]
    },
    {
      "cell_type": "code",
      "source": [
        "#set comprehention\n",
        "set={x for x in list if x%2!=0}\n",
        "print(set)"
      ],
      "metadata": {
        "colab": {
          "base_uri": "https://localhost:8080/"
        },
        "id": "S-DnMtQjPzH0",
        "outputId": "8217df6f-ca8d-419e-ad33-59dc371e037b"
      },
      "execution_count": null,
      "outputs": [
        {
          "output_type": "stream",
          "name": "stdout",
          "text": [
            "{1, 3, 5}\n"
          ]
        }
      ]
    },
    {
      "cell_type": "markdown",
      "source": [
        "CLASS 11"
      ],
      "metadata": {
        "id": "r0wCdDYHSu_x"
      }
    },
    {
      "cell_type": "code",
      "source": [
        "#Genrators -genrating a next value/ iterator (done by yield keywords)\n",
        "def mygenrator(n):\n",
        " \n",
        "  print(\"this is printed before yield statement\",n)\n",
        "  yield n\n",
        "  yield n*2\n",
        "\n",
        "x=mygenrator(100)\n",
        "print(next(x))\n",
        "print(next(x))\n",
        "\n"
      ],
      "metadata": {
        "id": "djYkdDwxQmii",
        "colab": {
          "base_uri": "https://localhost:8080/"
        },
        "outputId": "555e8de7-6b47-4270-9956-b2026e3faffe"
      },
      "execution_count": 6,
      "outputs": [
        {
          "output_type": "stream",
          "name": "stdout",
          "text": [
            "this is printed before yield statement 100\n",
            "100\n",
            "200\n"
          ]
        }
      ]
    },
    {
      "cell_type": "code",
      "source": [
        "def gen():\n",
        "  for value in range(10):\n",
        "    if(value%2==0):\n",
        "      yield value\n",
        "      yield value*2\n",
        "      print(\"*****\")\n",
        "\n",
        "for value in gen():\n",
        "  print(value)"
      ],
      "metadata": {
        "colab": {
          "base_uri": "https://localhost:8080/"
        },
        "id": "PjtiICop9JYn",
        "outputId": "cd8560d7-3cba-488b-cb1e-12581c4d9518"
      },
      "execution_count": 12,
      "outputs": [
        {
          "output_type": "stream",
          "name": "stdout",
          "text": [
            "0\n",
            "0\n",
            "*****\n",
            "2\n",
            "4\n",
            "*****\n",
            "4\n",
            "8\n",
            "*****\n",
            "6\n",
            "12\n",
            "*****\n",
            "8\n",
            "16\n",
            "*****\n"
          ]
        }
      ]
    },
    {
      "cell_type": "code",
      "source": [
        "mylist=[2,4,6,8]\n",
        "a=(x**2 for x in mylist)\n",
        "# print(next(a))\n",
        "# print(next(a))\n",
        "# print(next(a))\n",
        "for gen in a:\n",
        "  print(gen)\n"
      ],
      "metadata": {
        "colab": {
          "base_uri": "https://localhost:8080/"
        },
        "id": "ouTKoSee-nxF",
        "outputId": "fcd6675a-ce16-4025-943b-077d5f0afc9f"
      },
      "execution_count": 19,
      "outputs": [
        {
          "output_type": "stream",
          "name": "stdout",
          "text": [
            "4\n",
            "16\n",
            "36\n",
            "64\n"
          ]
        }
      ]
    },
    {
      "cell_type": "code",
      "source": [
        "#OOP-> Object Oriented Programming Language\n",
        "#few fundamental concept are used in oop\n",
        "# class--> is a blueprint or plan OR collection of objects\n",
        "class mylaptop():\n",
        "  #class attribute --> the changes can be applied to all objects\n",
        "  processor=\"Intel I5\"\n",
        "  display=\"Full HD touch screen\"\n",
        "\n",
        "  # Instance attribute--> is a varible belonging to only one object\n",
        "  def __init__(a,color):\n",
        "    a.color=color\n",
        "\n",
        "  #method\n",
        "  def greet(a):\n",
        "     print(\"hello\")\n",
        "\n",
        "  #Inheritance --> inheitet the behaviour of main class (mean you use property of main class)\n",
        "class mymobile(mylaptop):\n",
        "    def __init__(a,color,camera):\n",
        "        a.camera=camera\n",
        "        mylaptop .__init__(a,color)         #invoking OR initiating the parent class\n",
        "\n",
        "\n",
        "mylaptop.processor=\"Intel I7\"        #change entire attribute\n",
        "\n",
        "\n",
        "\n"
      ],
      "metadata": {
        "id": "K--cRs2R__Nk"
      },
      "execution_count": 64,
      "outputs": []
    },
    {
      "cell_type": "code",
      "source": [
        "myobj=mylaptop()\n",
        "myobj1.processor=\"Pentium\"  # change only particular object's attribute\n",
        "myobj2=mylaptop()\n",
        "print(myobj.processor)\n",
        "print(myobj1.processor)\n",
        "print(myobj2.processor, myobj2.display)\n",
        "\n",
        "print(mylaptop.processor)\n",
        "print(mylaptop.display)"
      ],
      "metadata": {
        "colab": {
          "base_uri": "https://localhost:8080/"
        },
        "id": "x82BP0DSD5K0",
        "outputId": "e61ec753-3cc3-4890-ef3c-50a6c21e58ed"
      },
      "execution_count": 44,
      "outputs": [
        {
          "output_type": "stream",
          "name": "stdout",
          "text": [
            "Intel I7\n",
            "Pentium\n",
            "Intel I7 Full HD touch screen\n",
            "Intel I7\n",
            "Full HD touch screen\n"
          ]
        }
      ]
    },
    {
      "cell_type": "code",
      "source": [
        "#Instance attribute -belonging to only one object\n",
        "obj=mylaptop(\"red\")\n",
        "obj1=mylaptop(\"black\")\n",
        "print(obj.color, obj.processor)\n",
        "print(obj1.color, obj1.processor)"
      ],
      "metadata": {
        "colab": {
          "base_uri": "https://localhost:8080/"
        },
        "id": "tgeIRzSoEHHZ",
        "outputId": "3da4ec65-ef53-496e-85f3-4c70616ac245"
      },
      "execution_count": 51,
      "outputs": [
        {
          "output_type": "stream",
          "name": "stdout",
          "text": [
            "red Intel I7\n",
            "black Intel I7\n"
          ]
        }
      ]
    },
    {
      "cell_type": "code",
      "source": [
        "#method\n",
        "obj3=mylaptop(\"red\")\n",
        "obj=mylaptop(\"red\")\n",
        "print(obj.color, obj.processor, obj.display)\n",
        "obj3.greet()\n"
      ],
      "metadata": {
        "colab": {
          "base_uri": "https://localhost:8080/"
        },
        "id": "NY-wCCLeI79J",
        "outputId": "5355d854-0dae-46c0-f0f4-aad447c0c509"
      },
      "execution_count": 55,
      "outputs": [
        {
          "output_type": "stream",
          "name": "stdout",
          "text": [
            "red Intel I7 Full HD touch screen\n",
            "hello\n"
          ]
        }
      ]
    },
    {
      "cell_type": "markdown",
      "source": [
        "CLASS 12"
      ],
      "metadata": {
        "id": "P7uZix_FP3SQ"
      }
    },
    {
      "cell_type": "code",
      "source": [
        "#Inheritance --> inheitet the behaviour of main class (mean you use property of main class)\n",
        "object=mymobile(\"grey\",\"samsung\")\n",
        "print(object.color, object.camera, object.processor)"
      ],
      "metadata": {
        "colab": {
          "base_uri": "https://localhost:8080/"
        },
        "id": "NihTEgt6OW5v",
        "outputId": "58dfbcc1-6bd3-43d5-bc64-4403fc53b12f"
      },
      "execution_count": 66,
      "outputs": [
        {
          "output_type": "stream",
          "name": "stdout",
          "text": [
            "grey samsung Intel I7\n"
          ]
        }
      ]
    },
    {
      "cell_type": "code",
      "source": [
        "#Encapsulation -->trying to hide something OR enclosing the data (eg. hide your password)\n",
        "#two method -1. public encapsulation 2. private encapsulation\n",
        "\n",
        "# public encapsulation\n",
        "class data ():\n",
        "  def __init__(self,username, password):\n",
        "    self.username=username\n",
        "    self.password=password\n"
      ],
      "metadata": {
        "id": "cSlSP_MWRrSg"
      },
      "execution_count": 67,
      "outputs": []
    },
    {
      "cell_type": "code",
      "source": [
        "encap=data(\"admin\",\"pass\")\n",
        "print(encap.username, encap.password)"
      ],
      "metadata": {
        "colab": {
          "base_uri": "https://localhost:8080/"
        },
        "id": "dpe0ao0oVXrD",
        "outputId": "39f70cf4-0c01-4dda-c4a9-e2c9b96cd772"
      },
      "execution_count": 70,
      "outputs": [
        {
          "output_type": "stream",
          "name": "stdout",
          "text": [
            "admin pass\n"
          ]
        }
      ]
    },
    {
      "cell_type": "code",
      "source": [
        "# private encapsulation\n",
        "class data ():\n",
        "  def __init__(self,username, password):\n",
        "    self.username=username\n",
        "    self.__password=password\n",
        "  def func(self):\n",
        "    print(self.__password)\n"
      ],
      "metadata": {
        "id": "6lP1kpaIVjLm"
      },
      "execution_count": 73,
      "outputs": []
    },
    {
      "cell_type": "code",
      "source": [
        "encap=data(\"admin\",\"pass\")\n",
        "print(encap.username)\n"
      ],
      "metadata": {
        "colab": {
          "base_uri": "https://localhost:8080/"
        },
        "id": "VLWBcIr-Wj0b",
        "outputId": "7fa6f01a-a8e9-4bde-c77f-d6333b221dab"
      },
      "execution_count": 77,
      "outputs": [
        {
          "output_type": "stream",
          "name": "stdout",
          "text": [
            "admin\n"
          ]
        }
      ]
    },
    {
      "cell_type": "code",
      "source": [
        "encap.func()       # when you call then only you get password"
      ],
      "metadata": {
        "colab": {
          "base_uri": "https://localhost:8080/"
        },
        "id": "LbNmWY7aWkqU",
        "outputId": "9cfa90b6-c2f4-4c05-d7d4-17619a270cc0"
      },
      "execution_count": 79,
      "outputs": [
        {
          "output_type": "stream",
          "name": "stdout",
          "text": [
            "pass\n"
          ]
        }
      ]
    },
    {
      "cell_type": "code",
      "source": [
        "#Polymorphism--> many forms (some parent class not fit to child class)\n",
        "class bird():\n",
        "  def intro(self):\n",
        "    print(\"there are difff type of birds\")\n",
        "  def fly(self):\n",
        "    print(\"most of birds can fly\")\n",
        "\n",
        "class parrot(bird):\n",
        "  def fly(self):\n",
        "    print(\"parrot can fly\")\n",
        "\n",
        "class penguin(bird):\n",
        "  def fly(self):\n",
        "    print(\"penguin can't fly\")\n"
      ],
      "metadata": {
        "id": "Oop_txj4Xisv"
      },
      "execution_count": 81,
      "outputs": []
    },
    {
      "cell_type": "code",
      "source": [
        "obj_bird=bird()\n",
        "obj_parr=parrot()\n",
        "obj_penguin=penguin()\n",
        "\n",
        "obj_bird.intro()\n",
        "obj_bird.fly()\n",
        "\n",
        "obj_parr.intro()\n",
        "obj_parr.fly()\n",
        "\n",
        "obj_penguin.intro()\n",
        "obj_penguin.fly()"
      ],
      "metadata": {
        "colab": {
          "base_uri": "https://localhost:8080/"
        },
        "id": "mEUtSp0vX3nZ",
        "outputId": "b8369fde-03c1-4597-84a6-ae5fbecbebb1"
      },
      "execution_count": 84,
      "outputs": [
        {
          "output_type": "stream",
          "name": "stdout",
          "text": [
            "there are difff type of birds\n",
            "most of birds can fly\n",
            "there are difff type of birds\n",
            "parrot can fly\n",
            "there are difff type of birds\n",
            "penguin can't fly\n"
          ]
        }
      ]
    },
    {
      "cell_type": "code",
      "source": [],
      "metadata": {
        "id": "OyioPZiWZgfy"
      },
      "execution_count": null,
      "outputs": []
    }
  ]
}