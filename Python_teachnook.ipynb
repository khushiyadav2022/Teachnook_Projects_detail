{
  "nbformat": 4,
  "nbformat_minor": 0,
  "metadata": {
    "colab": {
      "provenance": [],
      "collapsed_sections": []
    },
    "kernelspec": {
      "name": "python3",
      "display_name": "Python 3"
    },
    "language_info": {
      "name": "python"
    }
  },
  "cells": [
    {
      "cell_type": "markdown",
      "source": [
        "Class1"
      ],
      "metadata": {
        "id": "X26e-8etv5Xx"
      }
    },
    {
      "cell_type": "code",
      "source": [
        "#variables\n",
        "a=\"khushi\" #string\n",
        "b=3  #int\n",
        "c=45.44  #float\n",
        "\n"
      ],
      "metadata": {
        "id": "Yxm3iXjODF8A"
      },
      "execution_count": null,
      "outputs": []
    },
    {
      "cell_type": "code",
      "source": [
        "print(type(a))\n",
        "print(type(b))\n",
        "print(type(c))"
      ],
      "metadata": {
        "colab": {
          "base_uri": "https://localhost:8080/"
        },
        "id": "XmonyiabDU9U",
        "outputId": "acb1b611-2f2d-4adb-b93b-8f5709e548be"
      },
      "execution_count": null,
      "outputs": [
        {
          "output_type": "stream",
          "name": "stdout",
          "text": [
            "<class 'str'>\n",
            "<class 'int'>\n",
            "<class 'float'>\n"
          ]
        }
      ]
    },
    {
      "cell_type": "code",
      "source": [
        "a=5\n",
        "b=6\n",
        "print(a+b)\n",
        "print(a-b)\n",
        "print(a*b)\n",
        "print(a/b)\n"
      ],
      "metadata": {
        "colab": {
          "base_uri": "https://localhost:8080/"
        },
        "id": "j024Nza3Dfk1",
        "outputId": "9c062f9c-58f0-4c21-9314-ef0c08b0c3c1"
      },
      "execution_count": null,
      "outputs": [
        {
          "output_type": "stream",
          "name": "stdout",
          "text": [
            "11\n",
            "-1\n",
            "30\n",
            "0.8333333333333334\n"
          ]
        }
      ]
    },
    {
      "cell_type": "code",
      "source": [
        "add=a+b\n",
        "print(add)"
      ],
      "metadata": {
        "colab": {
          "base_uri": "https://localhost:8080/"
        },
        "id": "hR_FOCa3FEST",
        "outputId": "85e6ece2-9cfc-4458-847c-140787fbcfcf"
      },
      "execution_count": null,
      "outputs": [
        {
          "output_type": "stream",
          "name": "stdout",
          "text": [
            "11\n"
          ]
        }
      ]
    },
    {
      "cell_type": "markdown",
      "source": [
        "Class 2\n"
      ],
      "metadata": {
        "id": "A3aq79iStp3I"
      }
    },
    {
      "cell_type": "code",
      "source": [
        "#collection datatypes in python\n",
        "#list, tuple,set,dictionary \n",
        "#list-> ordered collection of datatypes,[],mutable(changable)"
      ],
      "metadata": {
        "id": "LmZ_9aBCCut1"
      },
      "execution_count": null,
      "outputs": []
    },
    {
      "cell_type": "code",
      "execution_count": null,
      "metadata": {
        "colab": {
          "base_uri": "https://localhost:8080/"
        },
        "id": "zJIKfyzhA0yK",
        "outputId": "5a9b0ff0-2c43-45f5-86b7-75e18107a766"
      },
      "outputs": [
        {
          "output_type": "stream",
          "name": "stdout",
          "text": [
            "['khushi', 'mivaan']\n"
          ]
        }
      ],
      "source": [
        "mylist=[\"khushi\",\"mivaan\"]\n",
        "print(mylist)"
      ]
    },
    {
      "cell_type": "code",
      "source": [
        "mylist1=[\"khushi\",1992,7.4,True]\n",
        "print(mylist1)\n"
      ],
      "metadata": {
        "colab": {
          "base_uri": "https://localhost:8080/"
        },
        "id": "LUBkpSySBA8m",
        "outputId": "11dc7e54-6239-4bfd-a31c-a84c8cc8971c"
      },
      "execution_count": null,
      "outputs": [
        {
          "output_type": "stream",
          "name": "stdout",
          "text": [
            "['khushi', 1992, 7.4, True]\n"
          ]
        }
      ]
    },
    {
      "cell_type": "code",
      "source": [
        "#Indexing"
      ],
      "metadata": {
        "id": "o-KFxREBBlly"
      },
      "execution_count": null,
      "outputs": []
    },
    {
      "cell_type": "code",
      "source": [
        "print(mylist1[0])"
      ],
      "metadata": {
        "colab": {
          "base_uri": "https://localhost:8080/"
        },
        "id": "MHVDNVEsBYSa",
        "outputId": "aabcde9a-bc73-4cf8-f950-82c362ef0de6"
      },
      "execution_count": null,
      "outputs": [
        {
          "output_type": "stream",
          "name": "stdout",
          "text": [
            "khushi\n"
          ]
        }
      ]
    },
    {
      "cell_type": "code",
      "source": [
        "#update\n",
        "mylist1=[\"khushi\",1992,7.4,True]\n",
        "mylist1[1]=1993\n",
        "print(mylist1)"
      ],
      "metadata": {
        "colab": {
          "base_uri": "https://localhost:8080/"
        },
        "id": "y8pQuQj6C-kh",
        "outputId": "251a9619-6db5-405f-9a32-b7681bc38a07"
      },
      "execution_count": null,
      "outputs": [
        {
          "output_type": "stream",
          "name": "stdout",
          "text": [
            "['khushi', 1993, 7.4, True]\n"
          ]
        }
      ]
    },
    {
      "cell_type": "code",
      "source": [
        "#append\n",
        "mylist.append(\"you\")\n",
        "print(mylist)\n"
      ],
      "metadata": {
        "colab": {
          "base_uri": "https://localhost:8080/"
        },
        "id": "SF5wW-rGElau",
        "outputId": "4ba70114-80d2-4728-a814-b98244411071"
      },
      "execution_count": null,
      "outputs": [
        {
          "output_type": "stream",
          "name": "stdout",
          "text": [
            "['khushi', 'mivaan', 'you', 'you', 'you']\n"
          ]
        }
      ]
    },
    {
      "cell_type": "code",
      "source": [
        "del(mylist[3])\n",
        "print(mylist)"
      ],
      "metadata": {
        "colab": {
          "base_uri": "https://localhost:8080/"
        },
        "id": "WpBYwS7DFT6H",
        "outputId": "ec9fd477-6205-43c5-ac8e-eac4ac3de601"
      },
      "execution_count": null,
      "outputs": [
        {
          "output_type": "stream",
          "name": "stdout",
          "text": [
            "['khushi', 'mivaan', 'you', 'you']\n"
          ]
        }
      ]
    },
    {
      "cell_type": "code",
      "source": [
        "mylist.insert(2,\"hai\")\n",
        "print(mylist)"
      ],
      "metadata": {
        "colab": {
          "base_uri": "https://localhost:8080/"
        },
        "id": "RekdBLhuFnWS",
        "outputId": "cd3b2851-dc07-402d-9f5a-ef6caa0abc6a"
      },
      "execution_count": null,
      "outputs": [
        {
          "output_type": "stream",
          "name": "stdout",
          "text": [
            "['khushi', 'mivaan', 'hai', 'you', 'you', 'hai']\n"
          ]
        }
      ]
    },
    {
      "cell_type": "code",
      "source": [
        "mylist.pop(2)\n",
        "print(mylist)"
      ],
      "metadata": {
        "colab": {
          "base_uri": "https://localhost:8080/"
        },
        "id": "m7mjJBZyFxNK",
        "outputId": "6e70218e-0368-4094-bf37-9159bc0d1864"
      },
      "execution_count": null,
      "outputs": [
        {
          "output_type": "stream",
          "name": "stdout",
          "text": [
            "['khushi', 'mivaan', 'you', 'hai']\n"
          ]
        }
      ]
    },
    {
      "cell_type": "code",
      "source": [
        "mylist.remove(\"mivaan\")\n",
        "print(mylist)"
      ],
      "metadata": {
        "colab": {
          "base_uri": "https://localhost:8080/"
        },
        "id": "8YPgqn9xGC0x",
        "outputId": "cb262bd2-3b88-4804-a4ff-e6a06c123aef"
      },
      "execution_count": null,
      "outputs": [
        {
          "output_type": "stream",
          "name": "stdout",
          "text": [
            "['khushi', 'you', 'hai']\n"
          ]
        }
      ]
    },
    {
      "cell_type": "markdown",
      "source": [
        "Class 3"
      ],
      "metadata": {
        "id": "TGlYT6PJtkTz"
      }
    },
    {
      "cell_type": "code",
      "source": [
        "#TUPLE-ordered collection of data types,(),immutable"
      ],
      "metadata": {
        "id": "MQjmcEzwHJuY"
      },
      "execution_count": null,
      "outputs": []
    },
    {
      "cell_type": "code",
      "source": [
        "tuple=(\"dell\",\"ASUS\",\"hP\",27)\n",
        "print(tuple)\n"
      ],
      "metadata": {
        "colab": {
          "base_uri": "https://localhost:8080/"
        },
        "id": "m0LpLcx_tbAd",
        "outputId": "4b1dd56b-24ec-4b28-fb15-34d653d94446"
      },
      "execution_count": null,
      "outputs": [
        {
          "output_type": "stream",
          "name": "stdout",
          "text": [
            "('dell', 'ASUS', 'hP', 27)\n"
          ]
        }
      ]
    },
    {
      "cell_type": "code",
      "source": [
        "tuple.remove(\"dell\")"
      ],
      "metadata": {
        "colab": {
          "base_uri": "https://localhost:8080/",
          "height": 165
        },
        "id": "QE2Pk8_Kukt4",
        "outputId": "ca4a55df-170b-4fa9-c2ad-4a0e2a7d1658"
      },
      "execution_count": null,
      "outputs": [
        {
          "output_type": "error",
          "ename": "AttributeError",
          "evalue": "ignored",
          "traceback": [
            "\u001b[0;31m---------------------------------------------------------------------------\u001b[0m",
            "\u001b[0;31mAttributeError\u001b[0m                            Traceback (most recent call last)",
            "\u001b[0;32m<ipython-input-3-8df28beb9f18>\u001b[0m in \u001b[0;36m<module>\u001b[0;34m\u001b[0m\n\u001b[0;32m----> 1\u001b[0;31m \u001b[0mtuple\u001b[0m\u001b[0;34m.\u001b[0m\u001b[0mremove\u001b[0m\u001b[0;34m(\u001b[0m\u001b[0;34m\"dell\"\u001b[0m\u001b[0;34m)\u001b[0m\u001b[0;34m\u001b[0m\u001b[0;34m\u001b[0m\u001b[0m\n\u001b[0m",
            "\u001b[0;31mAttributeError\u001b[0m: 'tuple' object has no attribute 'remove'"
          ]
        }
      ]
    },
    {
      "cell_type": "code",
      "source": [
        "tuple.append(\"dell\")"
      ],
      "metadata": {
        "colab": {
          "base_uri": "https://localhost:8080/",
          "height": 165
        },
        "id": "63OOjGCtuoi2",
        "outputId": "db132886-7d7b-4172-a804-43864635549d"
      },
      "execution_count": null,
      "outputs": [
        {
          "output_type": "error",
          "ename": "AttributeError",
          "evalue": "ignored",
          "traceback": [
            "\u001b[0;31m---------------------------------------------------------------------------\u001b[0m",
            "\u001b[0;31mAttributeError\u001b[0m                            Traceback (most recent call last)",
            "\u001b[0;32m<ipython-input-4-6951be90b42a>\u001b[0m in \u001b[0;36m<module>\u001b[0;34m\u001b[0m\n\u001b[0;32m----> 1\u001b[0;31m \u001b[0mtuple\u001b[0m\u001b[0;34m.\u001b[0m\u001b[0mappend\u001b[0m\u001b[0;34m(\u001b[0m\u001b[0;34m\"dell\"\u001b[0m\u001b[0;34m)\u001b[0m\u001b[0;34m\u001b[0m\u001b[0;34m\u001b[0m\u001b[0m\n\u001b[0m",
            "\u001b[0;31mAttributeError\u001b[0m: 'tuple' object has no attribute 'append'"
          ]
        }
      ]
    },
    {
      "cell_type": "code",
      "source": [
        "tuple[0]"
      ],
      "metadata": {
        "colab": {
          "base_uri": "https://localhost:8080/",
          "height": 36
        },
        "id": "-4wsJ0oZu4oJ",
        "outputId": "c3e9d81e-9c84-4e23-e153-b3ad2ccc70d2"
      },
      "execution_count": null,
      "outputs": [
        {
          "output_type": "execute_result",
          "data": {
            "text/plain": [
              "'dell'"
            ],
            "application/vnd.google.colaboratory.intrinsic+json": {
              "type": "string"
            }
          },
          "metadata": {},
          "execution_count": 6
        }
      ]
    },
    {
      "cell_type": "code",
      "source": [
        "tuple1=(1,2)\n",
        "print(tuple1+tuple)"
      ],
      "metadata": {
        "colab": {
          "base_uri": "https://localhost:8080/"
        },
        "id": "eJxrkxjEvOI_",
        "outputId": "f203a75b-095f-4b79-c703-01aa1612adb3"
      },
      "execution_count": null,
      "outputs": [
        {
          "output_type": "stream",
          "name": "stdout",
          "text": [
            "(1, 2, 'dell', 'ASUS', 'hP', 27)\n"
          ]
        }
      ]
    },
    {
      "cell_type": "code",
      "source": [
        "del(tuple1)"
      ],
      "metadata": {
        "id": "ahSHRd6iviRC"
      },
      "execution_count": null,
      "outputs": []
    },
    {
      "cell_type": "code",
      "source": [
        "print(tuple1)"
      ],
      "metadata": {
        "colab": {
          "base_uri": "https://localhost:8080/",
          "height": 165
        },
        "id": "oqNbvl1mwJdE",
        "outputId": "08b71f1f-15ad-4c4a-d830-7c55c93ddae9"
      },
      "execution_count": null,
      "outputs": [
        {
          "output_type": "error",
          "ename": "NameError",
          "evalue": "ignored",
          "traceback": [
            "\u001b[0;31m---------------------------------------------------------------------------\u001b[0m",
            "\u001b[0;31mNameError\u001b[0m                                 Traceback (most recent call last)",
            "\u001b[0;32m<ipython-input-9-e27b56724cb0>\u001b[0m in \u001b[0;36m<module>\u001b[0;34m\u001b[0m\n\u001b[0;32m----> 1\u001b[0;31m \u001b[0mprint\u001b[0m\u001b[0;34m(\u001b[0m\u001b[0mtuple1\u001b[0m\u001b[0;34m)\u001b[0m\u001b[0;34m\u001b[0m\u001b[0;34m\u001b[0m\u001b[0m\n\u001b[0m",
            "\u001b[0;31mNameError\u001b[0m: name 'tuple1' is not defined"
          ]
        }
      ]
    },
    {
      "cell_type": "code",
      "source": [
        "del(tuple[2])\n",
        "print(tuple)"
      ],
      "metadata": {
        "colab": {
          "base_uri": "https://localhost:8080/",
          "height": 182
        },
        "id": "_bNPXMF5wOPO",
        "outputId": "e9e27751-b001-40ae-8dbb-f031384594d1"
      },
      "execution_count": null,
      "outputs": [
        {
          "output_type": "error",
          "ename": "TypeError",
          "evalue": "ignored",
          "traceback": [
            "\u001b[0;31m---------------------------------------------------------------------------\u001b[0m",
            "\u001b[0;31mTypeError\u001b[0m                                 Traceback (most recent call last)",
            "\u001b[0;32m<ipython-input-10-76ba6300ff12>\u001b[0m in \u001b[0;36m<module>\u001b[0;34m\u001b[0m\n\u001b[0;32m----> 1\u001b[0;31m \u001b[0;32mdel\u001b[0m\u001b[0;34m(\u001b[0m\u001b[0mtuple\u001b[0m\u001b[0;34m[\u001b[0m\u001b[0;36m2\u001b[0m\u001b[0;34m]\u001b[0m\u001b[0;34m)\u001b[0m\u001b[0;34m\u001b[0m\u001b[0;34m\u001b[0m\u001b[0m\n\u001b[0m\u001b[1;32m      2\u001b[0m \u001b[0mprint\u001b[0m\u001b[0;34m(\u001b[0m\u001b[0mtuple\u001b[0m\u001b[0;34m)\u001b[0m\u001b[0;34m\u001b[0m\u001b[0;34m\u001b[0m\u001b[0m\n",
            "\u001b[0;31mTypeError\u001b[0m: 'tuple' object doesn't support item deletion"
          ]
        }
      ]
    },
    {
      "cell_type": "code",
      "source": [
        "#dictionary: it consist of key and the values"
      ],
      "metadata": {
        "id": "a80XxeKcwcmT"
      },
      "execution_count": null,
      "outputs": []
    },
    {
      "cell_type": "code",
      "source": [
        "Dict={\n",
        "    \"name\":\"khushi,\"\"Mivaan\",\n",
        "    \"lang\":\"python\",\n",
        "    \"city\":\"udaipur\"\n",
        "}"
      ],
      "metadata": {
        "id": "_RvAH5J1xFnX"
      },
      "execution_count": null,
      "outputs": []
    },
    {
      "cell_type": "code",
      "source": [
        "print(\"name\")"
      ],
      "metadata": {
        "colab": {
          "base_uri": "https://localhost:8080/"
        },
        "id": "QAqog8DZyOBP",
        "outputId": "77391df4-69f8-455d-f87b-a285dd4d05b7"
      },
      "execution_count": null,
      "outputs": [
        {
          "output_type": "stream",
          "name": "stdout",
          "text": [
            "name\n"
          ]
        }
      ]
    },
    {
      "cell_type": "code",
      "source": [
        "print(Dict)"
      ],
      "metadata": {
        "colab": {
          "base_uri": "https://localhost:8080/"
        },
        "id": "nL8PeQzryYV2",
        "outputId": "3f7a35d8-f41e-4822-8d92-4161ac02b14b"
      },
      "execution_count": null,
      "outputs": [
        {
          "output_type": "stream",
          "name": "stdout",
          "text": [
            "{'name': 'khushi,Mivaan', 'lang': 'python', 'city': 'udaipur'}\n"
          ]
        }
      ]
    },
    {
      "cell_type": "code",
      "source": [
        "print(Dict[\"name\"])"
      ],
      "metadata": {
        "colab": {
          "base_uri": "https://localhost:8080/"
        },
        "id": "9UsE5ttry03E",
        "outputId": "8e77c5bf-9668-4cc7-fe87-35fcb1cddcd4"
      },
      "execution_count": null,
      "outputs": [
        {
          "output_type": "stream",
          "name": "stdout",
          "text": [
            "khushi,Mivaan\n"
          ]
        }
      ]
    },
    {
      "cell_type": "code",
      "source": [
        "print(Dict[\"city\"])"
      ],
      "metadata": {
        "colab": {
          "base_uri": "https://localhost:8080/"
        },
        "id": "3YMC1Dg7zJCX",
        "outputId": "56adde41-b6b0-4bd3-fcb2-0d11e91a1867"
      },
      "execution_count": null,
      "outputs": [
        {
          "output_type": "stream",
          "name": "stdout",
          "text": [
            "udaipur\n"
          ]
        }
      ]
    },
    {
      "cell_type": "code",
      "source": [
        "Dict.keys()\n"
      ],
      "metadata": {
        "colab": {
          "base_uri": "https://localhost:8080/"
        },
        "id": "kIAMRAuu1UZH",
        "outputId": "21888d98-eca4-4c3d-86b5-22f326f08cf5"
      },
      "execution_count": null,
      "outputs": [
        {
          "output_type": "execute_result",
          "data": {
            "text/plain": [
              "dict_keys(['name', 'lang', 'city'])"
            ]
          },
          "metadata": {},
          "execution_count": 6
        }
      ]
    },
    {
      "cell_type": "code",
      "source": [
        "Dict.values()"
      ],
      "metadata": {
        "id": "RN5Fdrul2GM1",
        "colab": {
          "base_uri": "https://localhost:8080/"
        },
        "outputId": "79a4985b-c2a7-4146-840c-47b1347d1ae9"
      },
      "execution_count": null,
      "outputs": [
        {
          "output_type": "execute_result",
          "data": {
            "text/plain": [
              "dict_values(['khushi,Mivaan', 'python', 'udaipur', 3244])"
            ]
          },
          "metadata": {},
          "execution_count": 16
        }
      ]
    },
    {
      "cell_type": "markdown",
      "source": [
        "class4\n"
      ],
      "metadata": {
        "id": "swi6z5cU2dD1"
      }
    },
    {
      "cell_type": "code",
      "source": [
        "Dict[\"model\"]=3244\n",
        "print(Dict)"
      ],
      "metadata": {
        "colab": {
          "base_uri": "https://localhost:8080/"
        },
        "id": "yXWVdkhz2jt6",
        "outputId": "88f61cbb-5843-4a67-e5d7-3cc0c7f714b8"
      },
      "execution_count": null,
      "outputs": [
        {
          "output_type": "stream",
          "name": "stdout",
          "text": [
            "{'name': 'khushi,Mivaan', 'lang': 'python', 'city': 'udaipur', 'model': 3244}\n"
          ]
        }
      ]
    },
    {
      "cell_type": "code",
      "source": [
        "del Dict[\"model\"])\n",
        "print(Dict)z"
      ],
      "metadata": {
        "colab": {
          "base_uri": "https://localhost:8080/",
          "height": 130
        },
        "id": "7Ovh0D7u3Hy-",
        "outputId": "734bdb45-641d-4c06-d2f9-3048a3202660"
      },
      "execution_count": null,
      "outputs": [
        {
          "output_type": "error",
          "ename": "SyntaxError",
          "evalue": "ignored",
          "traceback": [
            "\u001b[0;36m  File \u001b[0;32m\"<ipython-input-25-2eb437dd0e76>\"\u001b[0;36m, line \u001b[0;32m1\u001b[0m\n\u001b[0;31m    del Dict[\"model\"])\u001b[0m\n\u001b[0m                     ^\u001b[0m\n\u001b[0;31mSyntaxError\u001b[0m\u001b[0;31m:\u001b[0m invalid syntax\n"
          ]
        }
      ]
    },
    {
      "cell_type": "code",
      "source": [
        "\n",
        "print(Dict)"
      ],
      "metadata": {
        "colab": {
          "base_uri": "https://localhost:8080/"
        },
        "id": "Y5YuFCBF3OOx",
        "outputId": "99301be0-5733-4e52-ff69-299865b2187e"
      },
      "execution_count": null,
      "outputs": [
        {
          "output_type": "stream",
          "name": "stdout",
          "text": [
            "{'name': 'khushi,Mivaan', 'lang': 'python', 'city': 'udaipur', 'model': 3244}\n"
          ]
        }
      ]
    },
    {
      "cell_type": "code",
      "source": [
        "# index number --> prints individual elements\n",
        "#Slicing -> printing the sequence of elements\n"
      ],
      "metadata": {
        "id": "fZSy7MnT41pI"
      },
      "execution_count": null,
      "outputs": []
    },
    {
      "cell_type": "code",
      "source": [
        "a=\"randomness\"\n",
        "print(a[0:6])"
      ],
      "metadata": {
        "colab": {
          "base_uri": "https://localhost:8080/"
        },
        "id": "RUmwJntH8qtO",
        "outputId": "b32c922e-41e6-4165-82d6-af5468aa38b3"
      },
      "execution_count": null,
      "outputs": [
        {
          "output_type": "stream",
          "name": "stdout",
          "text": [
            "random\n"
          ]
        }
      ]
    },
    {
      "cell_type": "code",
      "source": [
        "print(a[6:])"
      ],
      "metadata": {
        "colab": {
          "base_uri": "https://localhost:8080/"
        },
        "id": "OF9wuWpF8v-8",
        "outputId": "594a14ad-70d2-43fa-ccbc-80e6ca9df749"
      },
      "execution_count": null,
      "outputs": [
        {
          "output_type": "stream",
          "name": "stdout",
          "text": [
            "ness\n"
          ]
        }
      ]
    },
    {
      "cell_type": "code",
      "source": [
        "print(a[0])\n",
        "print(a[6])"
      ],
      "metadata": {
        "colab": {
          "base_uri": "https://localhost:8080/"
        },
        "id": "VfMC5Pfm83V4",
        "outputId": "edfb2b7e-aa11-4b7d-fb6d-705351bda222"
      },
      "execution_count": null,
      "outputs": [
        {
          "output_type": "stream",
          "name": "stdout",
          "text": [
            "r\n",
            "n\n"
          ]
        }
      ]
    },
    {
      "cell_type": "code",
      "source": [
        "print(a[:3])"
      ],
      "metadata": {
        "colab": {
          "base_uri": "https://localhost:8080/"
        },
        "id": "FsJ5lJU09YLz",
        "outputId": "c78af857-4c4c-4904-8007-72188993cbe9"
      },
      "execution_count": null,
      "outputs": [
        {
          "output_type": "stream",
          "name": "stdout",
          "text": [
            "ran\n"
          ]
        }
      ]
    },
    {
      "cell_type": "code",
      "source": [
        "a=\"randomness\"\n",
        "print(a[-10:-4])"
      ],
      "metadata": {
        "colab": {
          "base_uri": "https://localhost:8080/"
        },
        "id": "gmt7F2ym93vh",
        "outputId": "e354105f-9818-41ff-ea8e-20b07c8c04e8"
      },
      "execution_count": null,
      "outputs": [
        {
          "output_type": "stream",
          "name": "stdout",
          "text": [
            "random\n"
          ]
        }
      ]
    },
    {
      "cell_type": "code",
      "source": [
        "print(a[-1:-9])"
      ],
      "metadata": {
        "colab": {
          "base_uri": "https://localhost:8080/"
        },
        "id": "XokOkQtH-ah7",
        "outputId": "88424978-d34f-4ffd-e1a0-6dc804d2bd1e"
      },
      "execution_count": null,
      "outputs": [
        {
          "output_type": "stream",
          "name": "stdout",
          "text": [
            "\n"
          ]
        }
      ]
    },
    {
      "cell_type": "code",
      "source": [
        "print(a[-10:])"
      ],
      "metadata": {
        "colab": {
          "base_uri": "https://localhost:8080/"
        },
        "id": "E8f6rj91-7SQ",
        "outputId": "ce5cbde6-b9e1-44ba-d842-ee6c2deda56d"
      },
      "execution_count": null,
      "outputs": [
        {
          "output_type": "stream",
          "name": "stdout",
          "text": [
            "randomness\n"
          ]
        }
      ]
    },
    {
      "cell_type": "code",
      "source": [
        "#step index\n",
        "b=\"python\"\n",
        "print(b[0:7:2])"
      ],
      "metadata": {
        "colab": {
          "base_uri": "https://localhost:8080/"
        },
        "id": "xLNBxM4y_Q5T",
        "outputId": "a8cbc4fe-6929-4e15-faeb-63b9a12e855c"
      },
      "execution_count": null,
      "outputs": [
        {
          "output_type": "stream",
          "name": "stdout",
          "text": [
            "pto\n"
          ]
        }
      ]
    },
    {
      "cell_type": "code",
      "source": [
        "print(b[0:5:2])"
      ],
      "metadata": {
        "colab": {
          "base_uri": "https://localhost:8080/"
        },
        "id": "uN_USMuDAeTA",
        "outputId": "75e3fdfe-d0ee-407e-b8e1-b0962cea478c"
      },
      "execution_count": null,
      "outputs": [
        {
          "output_type": "stream",
          "name": "stdout",
          "text": [
            "pto\n"
          ]
        }
      ]
    },
    {
      "cell_type": "code",
      "source": [
        "print(b[0:5:3])"
      ],
      "metadata": {
        "colab": {
          "base_uri": "https://localhost:8080/"
        },
        "id": "NTflMaj0CJMB",
        "outputId": "021a724c-a203-43ee-d4fd-6554e1f9e466"
      },
      "execution_count": null,
      "outputs": [
        {
          "output_type": "stream",
          "name": "stdout",
          "text": [
            "ph\n"
          ]
        }
      ]
    },
    {
      "cell_type": "code",
      "source": [
        "print(b[0:7:1])"
      ],
      "metadata": {
        "colab": {
          "base_uri": "https://localhost:8080/"
        },
        "id": "yVvhWRGpCULG",
        "outputId": "993e658f-5905-42ab-a1be-dc62599ebcb9"
      },
      "execution_count": null,
      "outputs": [
        {
          "output_type": "stream",
          "name": "stdout",
          "text": [
            "python\n"
          ]
        }
      ]
    },
    {
      "cell_type": "code",
      "source": [
        "#ASSIGMENT\n",
        "#WORK ON -VE INDEXING ON ATLEAST 4 EXAMPLES\n",
        "#create list,tuple,dict "
      ],
      "metadata": {
        "id": "TNZ0WFSrCXI-"
      },
      "execution_count": null,
      "outputs": []
    },
    {
      "cell_type": "code",
      "source": [
        "print(b[-7:-1:1])"
      ],
      "metadata": {
        "colab": {
          "base_uri": "https://localhost:8080/"
        },
        "id": "MJK8deBHCrcL",
        "outputId": "ebf6abd8-76f4-4e2c-b42f-e355919a27d2"
      },
      "execution_count": null,
      "outputs": [
        {
          "output_type": "stream",
          "name": "stdout",
          "text": [
            "pytho\n"
          ]
        }
      ]
    },
    {
      "cell_type": "code",
      "source": [
        "print(b[-7::2])"
      ],
      "metadata": {
        "colab": {
          "base_uri": "https://localhost:8080/"
        },
        "id": "-F7vil-eDaTg",
        "outputId": "b7855bb5-8a2b-4634-8413-4ec7b3e8aefb"
      },
      "execution_count": null,
      "outputs": [
        {
          "output_type": "stream",
          "name": "stdout",
          "text": [
            "pto\n"
          ]
        }
      ]
    },
    {
      "cell_type": "code",
      "source": [
        "#set: unordered collection of datatype, {},\n",
        "myset={\"A\",\"B\",\"C\",\"A\",324,324.22}\n",
        "print(type(myset))\n"
      ],
      "metadata": {
        "id": "UeKLavBSDkl1",
        "colab": {
          "base_uri": "https://localhost:8080/"
        },
        "outputId": "c1402ffa-6be6-44f8-cabb-5de9624c653c"
      },
      "execution_count": null,
      "outputs": [
        {
          "output_type": "stream",
          "name": "stdout",
          "text": [
            "<class 'set'>\n"
          ]
        }
      ]
    },
    {
      "cell_type": "code",
      "source": [
        "print(myset)"
      ],
      "metadata": {
        "colab": {
          "base_uri": "https://localhost:8080/"
        },
        "id": "qt4rifiSK0XZ",
        "outputId": "a30b744b-82a6-426c-d51b-48bd6923de32"
      },
      "execution_count": null,
      "outputs": [
        {
          "output_type": "stream",
          "name": "stdout",
          "text": [
            "{324.22, 324, 'A', 'B', 'C'}\n"
          ]
        }
      ]
    },
    {
      "cell_type": "code",
      "source": [
        "print(myset[0])"
      ],
      "metadata": {
        "colab": {
          "base_uri": "https://localhost:8080/",
          "height": 165
        },
        "id": "WvETxuv9K-aB",
        "outputId": "14a8fe9d-f84b-4dea-bffd-67f4de980ef5"
      },
      "execution_count": null,
      "outputs": [
        {
          "output_type": "error",
          "ename": "TypeError",
          "evalue": "ignored",
          "traceback": [
            "\u001b[0;31m---------------------------------------------------------------------------\u001b[0m",
            "\u001b[0;31mTypeError\u001b[0m                                 Traceback (most recent call last)",
            "\u001b[0;32m<ipython-input-4-7d1724384d42>\u001b[0m in \u001b[0;36m<module>\u001b[0;34m\u001b[0m\n\u001b[0;32m----> 1\u001b[0;31m \u001b[0mprint\u001b[0m\u001b[0;34m(\u001b[0m\u001b[0mmyset\u001b[0m\u001b[0;34m[\u001b[0m\u001b[0;36m0\u001b[0m\u001b[0;34m]\u001b[0m\u001b[0;34m)\u001b[0m\u001b[0;34m\u001b[0m\u001b[0;34m\u001b[0m\u001b[0m\n\u001b[0m",
            "\u001b[0;31mTypeError\u001b[0m: 'set' object is not subscriptable"
          ]
        }
      ]
    },
    {
      "cell_type": "code",
      "source": [
        "print(len(myset))"
      ],
      "metadata": {
        "colab": {
          "base_uri": "https://localhost:8080/"
        },
        "id": "IQzprY0hLH5v",
        "outputId": "a1db11e4-b657-47bf-9599-897702951bde"
      },
      "execution_count": null,
      "outputs": [
        {
          "output_type": "stream",
          "name": "stdout",
          "text": [
            "5\n"
          ]
        }
      ]
    },
    {
      "cell_type": "code",
      "source": [
        "myset.add(32455)\n",
        "print(myset)"
      ],
      "metadata": {
        "colab": {
          "base_uri": "https://localhost:8080/"
        },
        "id": "PTlM640SL5Xq",
        "outputId": "93833c3a-de82-4899-fc3a-ded85af236fb"
      },
      "execution_count": null,
      "outputs": [
        {
          "output_type": "stream",
          "name": "stdout",
          "text": [
            "{324.22, 324, 32455, 'A', 'B', 'C'}\n"
          ]
        }
      ]
    },
    {
      "cell_type": "code",
      "source": [
        "myset.remove(324)\n",
        "print(myset)"
      ],
      "metadata": {
        "colab": {
          "base_uri": "https://localhost:8080/"
        },
        "id": "AoPAX8IfMike",
        "outputId": "427657b5-1078-4fc4-a1a1-91cf4e086c9c"
      },
      "execution_count": null,
      "outputs": [
        {
          "output_type": "stream",
          "name": "stdout",
          "text": [
            "{324.22, 32455, 'A', 'B', 'C'}\n"
          ]
        }
      ]
    },
    {
      "cell_type": "code",
      "source": [
        "a=set()\n",
        "print(a)"
      ],
      "metadata": {
        "colab": {
          "base_uri": "https://localhost:8080/"
        },
        "id": "OIZR9aSjNA7x",
        "outputId": "91faba12-a097-41f1-a635-6a4683085500"
      },
      "execution_count": null,
      "outputs": [
        {
          "output_type": "stream",
          "name": "stdout",
          "text": [
            "set()\n"
          ]
        }
      ]
    },
    {
      "cell_type": "code",
      "source": [
        "a.add(\"add\")\n",
        "print(a)"
      ],
      "metadata": {
        "colab": {
          "base_uri": "https://localhost:8080/"
        },
        "id": "cUGlgIGrNF7W",
        "outputId": "a9b10e59-3105-44fc-8a95-99bc8ec3395f"
      },
      "execution_count": null,
      "outputs": [
        {
          "output_type": "stream",
          "name": "stdout",
          "text": [
            "{'add'}\n"
          ]
        }
      ]
    },
    {
      "cell_type": "code",
      "source": [
        "#learn about frozenset is assignment"
      ],
      "metadata": {
        "id": "ketmifELL91r"
      },
      "execution_count": null,
      "outputs": []
    },
    {
      "cell_type": "code",
      "source": [
        "myset.pop(0)\n",
        "print(myset)"
      ],
      "metadata": {
        "colab": {
          "base_uri": "https://localhost:8080/",
          "height": 182
        },
        "id": "9pa_RbNCMTrR",
        "outputId": "5197e8ad-ab3e-49e9-e97f-f0e7c304555a"
      },
      "execution_count": null,
      "outputs": [
        {
          "output_type": "error",
          "ename": "TypeError",
          "evalue": "ignored",
          "traceback": [
            "\u001b[0;31m---------------------------------------------------------------------------\u001b[0m",
            "\u001b[0;31mTypeError\u001b[0m                                 Traceback (most recent call last)",
            "\u001b[0;32m<ipython-input-20-8bef6261fb18>\u001b[0m in \u001b[0;36m<module>\u001b[0;34m\u001b[0m\n\u001b[0;32m----> 1\u001b[0;31m \u001b[0mmyset\u001b[0m\u001b[0;34m.\u001b[0m\u001b[0mpop\u001b[0m\u001b[0;34m(\u001b[0m\u001b[0;36m0\u001b[0m\u001b[0;34m)\u001b[0m\u001b[0;34m\u001b[0m\u001b[0;34m\u001b[0m\u001b[0m\n\u001b[0m\u001b[1;32m      2\u001b[0m \u001b[0mprint\u001b[0m\u001b[0;34m(\u001b[0m\u001b[0mmyset\u001b[0m\u001b[0;34m)\u001b[0m\u001b[0;34m\u001b[0m\u001b[0;34m\u001b[0m\u001b[0m\n",
            "\u001b[0;31mTypeError\u001b[0m: pop() takes no arguments (1 given)"
          ]
        }
      ]
    },
    {
      "cell_type": "code",
      "source": [
        "s1={\"data\",\"task\"}\n",
        "s2={0,True,\"data\"}\n",
        "s3=s1|(s2)  #s3=s1.union(s2)\n",
        "print(s3)"
      ],
      "metadata": {
        "colab": {
          "base_uri": "https://localhost:8080/"
        },
        "id": "6BoUBU3jNYa8",
        "outputId": "045fa37f-5a4b-495f-9d80-c138fa2a7eea"
      },
      "execution_count": null,
      "outputs": [
        {
          "output_type": "stream",
          "name": "stdout",
          "text": [
            "{0, True, 'data', 'task'}\n"
          ]
        }
      ]
    },
    {
      "cell_type": "code",
      "source": [
        "s1={\"data\",\"task\"}\n",
        "s2={0,True,\"data\"}\n",
        "s3=s1&(s2) #s3=s1.intersection(s2)\n",
        "print(s3)"
      ],
      "metadata": {
        "colab": {
          "base_uri": "https://localhost:8080/"
        },
        "id": "ebyvJwdjNzJt",
        "outputId": "d075df3e-9950-4c43-c0c6-45e1f64fff95"
      },
      "execution_count": null,
      "outputs": [
        {
          "output_type": "stream",
          "name": "stdout",
          "text": [
            "{'data'}\n"
          ]
        }
      ]
    },
    {
      "cell_type": "code",
      "source": [
        "s1=[1,2,3]\n",
        "s2=[3,4]\n",
        "s3=s1|s2\n",
        "print(s3)\n"
      ],
      "metadata": {
        "colab": {
          "base_uri": "https://localhost:8080/",
          "height": 217
        },
        "id": "2Ie87M2cOE_w",
        "outputId": "d7e1a4e6-25ce-4e03-ec6f-473769d7b35e"
      },
      "execution_count": null,
      "outputs": [
        {
          "output_type": "error",
          "ename": "TypeError",
          "evalue": "ignored",
          "traceback": [
            "\u001b[0;31m---------------------------------------------------------------------------\u001b[0m",
            "\u001b[0;31mTypeError\u001b[0m                                 Traceback (most recent call last)",
            "\u001b[0;32m<ipython-input-23-5488160639e1>\u001b[0m in \u001b[0;36m<module>\u001b[0;34m\u001b[0m\n\u001b[1;32m      1\u001b[0m \u001b[0ms1\u001b[0m\u001b[0;34m=\u001b[0m\u001b[0;34m[\u001b[0m\u001b[0;36m1\u001b[0m\u001b[0;34m,\u001b[0m\u001b[0;36m2\u001b[0m\u001b[0;34m,\u001b[0m\u001b[0;36m3\u001b[0m\u001b[0;34m]\u001b[0m\u001b[0;34m\u001b[0m\u001b[0;34m\u001b[0m\u001b[0m\n\u001b[1;32m      2\u001b[0m \u001b[0ms2\u001b[0m\u001b[0;34m=\u001b[0m\u001b[0;34m[\u001b[0m\u001b[0;36m3\u001b[0m\u001b[0;34m,\u001b[0m\u001b[0;36m4\u001b[0m\u001b[0;34m]\u001b[0m\u001b[0;34m\u001b[0m\u001b[0;34m\u001b[0m\u001b[0m\n\u001b[0;32m----> 3\u001b[0;31m \u001b[0ms3\u001b[0m\u001b[0;34m=\u001b[0m\u001b[0ms1\u001b[0m\u001b[0;34m|\u001b[0m\u001b[0ms2\u001b[0m\u001b[0;34m\u001b[0m\u001b[0;34m\u001b[0m\u001b[0m\n\u001b[0m\u001b[1;32m      4\u001b[0m \u001b[0mprint\u001b[0m\u001b[0;34m(\u001b[0m\u001b[0ms3\u001b[0m\u001b[0;34m)\u001b[0m\u001b[0;34m\u001b[0m\u001b[0;34m\u001b[0m\u001b[0m\n",
            "\u001b[0;31mTypeError\u001b[0m: unsupported operand type(s) for |: 'list' and 'list'"
          ]
        }
      ]
    },
    {
      "cell_type": "code",
      "source": [
        "s1=100\n",
        "s2=100\n",
        "print(s1!=s2)\n",
        "print(s1>=s2)\n",
        "print(s1==s2)"
      ],
      "metadata": {
        "colab": {
          "base_uri": "https://localhost:8080/"
        },
        "id": "lf2U22ZoOnKY",
        "outputId": "fcc12a33-b0a7-45dd-ee96-036a88a48dba"
      },
      "execution_count": null,
      "outputs": [
        {
          "output_type": "stream",
          "name": "stdout",
          "text": [
            "False\n",
            "True\n",
            "True\n"
          ]
        }
      ]
    },
    {
      "cell_type": "code",
      "source": [
        "#function-> a set of code will be executed whenever it is called \n",
        "def greet(name):\n",
        "  print(\"good evening\",name)\n",
        "\n",
        "greet(\"khushi\")"
      ],
      "metadata": {
        "id": "TUxQYNl4PYoq",
        "colab": {
          "base_uri": "https://localhost:8080/"
        },
        "outputId": "82fdf88d-017f-4ec9-b691-73913683ce35"
      },
      "execution_count": null,
      "outputs": [
        {
          "output_type": "stream",
          "name": "stdout",
          "text": [
            "good evening khushi\n"
          ]
        }
      ]
    },
    {
      "cell_type": "code",
      "source": [
        "greet(\"mivaan\")"
      ],
      "metadata": {
        "colab": {
          "base_uri": "https://localhost:8080/"
        },
        "id": "2Cbczu7Ozlsy",
        "outputId": "e3a1c372-1d21-40c6-d9f5-7a8db4416daf"
      },
      "execution_count": null,
      "outputs": [
        {
          "output_type": "stream",
          "name": "stdout",
          "text": [
            "good evening mivaan\n"
          ]
        }
      ]
    },
    {
      "cell_type": "code",
      "source": [
        "def fucn():\n",
        "  for x in range(1,11):\n",
        "    print(\"good\")\n",
        "\n",
        "fucn()"
      ],
      "metadata": {
        "colab": {
          "base_uri": "https://localhost:8080/"
        },
        "id": "wT2r2bIR0I9Q",
        "outputId": "f3540e36-b3d6-4209-a0c9-178fd4d7a5ca"
      },
      "execution_count": null,
      "outputs": [
        {
          "output_type": "stream",
          "name": "stdout",
          "text": [
            "good\n",
            "good\n",
            "good\n",
            "good\n",
            "good\n",
            "good\n",
            "good\n",
            "good\n",
            "good\n",
            "good\n"
          ]
        }
      ]
    },
    {
      "cell_type": "code",
      "source": [
        "list1=[\"data\",\"status\",\"progress\",1,2,3]\n",
        "for values in list1:\n",
        "  print(values)\n"
      ],
      "metadata": {
        "colab": {
          "base_uri": "https://localhost:8080/"
        },
        "id": "iKrwKF3z1RoS",
        "outputId": "27a89e7c-7f0c-4dd6-906a-f4bff5d32aac"
      },
      "execution_count": null,
      "outputs": [
        {
          "output_type": "stream",
          "name": "stdout",
          "text": [
            "data\n",
            "status\n",
            "progress\n",
            "1\n",
            "2\n",
            "3\n"
          ]
        }
      ]
    },
    {
      "cell_type": "code",
      "source": [
        "def add(a,b):\n",
        "  print(a+b)\n",
        "\n",
        "add(1,2)"
      ],
      "metadata": {
        "colab": {
          "base_uri": "https://localhost:8080/"
        },
        "id": "c13liXmR2GV7",
        "outputId": "92852068-e76f-49f7-bfb2-ca0526aa1d6d"
      },
      "execution_count": null,
      "outputs": [
        {
          "output_type": "stream",
          "name": "stdout",
          "text": [
            "3\n"
          ]
        }
      ]
    },
    {
      "cell_type": "code",
      "source": [
        "def sub(a,b):\n",
        "  print(a-b)\n",
        "\n",
        "sub(3,4)"
      ],
      "metadata": {
        "colab": {
          "base_uri": "https://localhost:8080/"
        },
        "id": "qy4utMMd257X",
        "outputId": "d44139e3-89d9-4250-ec17-5c500303922b"
      },
      "execution_count": null,
      "outputs": [
        {
          "output_type": "stream",
          "name": "stdout",
          "text": [
            "-1\n"
          ]
        }
      ]
    },
    {
      "cell_type": "code",
      "source": [
        "def user():\n",
        "  x=input(\"enter the name: \")\n",
        "  print(\"nice to meet you\",x)\n",
        "user()"
      ],
      "metadata": {
        "colab": {
          "base_uri": "https://localhost:8080/"
        },
        "id": "MDDJZEks4Not",
        "outputId": "bbd0e343-c799-4a38-d9e1-7c188b565923"
      },
      "execution_count": null,
      "outputs": [
        {
          "output_type": "stream",
          "name": "stdout",
          "text": [
            "enter the name: mivaan\n",
            "nice to meet you mivaan\n"
          ]
        }
      ]
    },
    {
      "cell_type": "code",
      "source": [
        "user()\n"
      ],
      "metadata": {
        "colab": {
          "base_uri": "https://localhost:8080/"
        },
        "id": "BnNSipuY5lZA",
        "outputId": "d283da64-4ed3-4829-9660-d7f1d302973a"
      },
      "execution_count": null,
      "outputs": [
        {
          "output_type": "stream",
          "name": "stdout",
          "text": [
            "enter the name: khushi\n",
            "nice to meet you khushi\n"
          ]
        }
      ]
    },
    {
      "cell_type": "code",
      "source": [
        "def add():\n",
        "  x=int(input(\"enter the no: \"))\n",
        "  y=int(input(\"enter the no: \"))\n",
        "  print(x+y)\n",
        "add()"
      ],
      "metadata": {
        "colab": {
          "base_uri": "https://localhost:8080/"
        },
        "id": "DNf8In-W55jZ",
        "outputId": "5020c89c-19e7-409e-fa92-ffe081a16cea"
      },
      "execution_count": null,
      "outputs": [
        {
          "output_type": "stream",
          "name": "stdout",
          "text": [
            "enter the no: 33\n",
            "enter the no: 33\n",
            "66\n"
          ]
        }
      ]
    },
    {
      "cell_type": "code",
      "source": [
        "#Advance argument passing\n",
        "#positional arguments\n",
        "def arg(name,batch,year):\n",
        "  print(\"hey this is\",name,\"from batch\",batch,\" and year\",year)\n",
        "\n",
        "arg(\"khushi\",\"sep\",\"2022\")"
      ],
      "metadata": {
        "colab": {
          "base_uri": "https://localhost:8080/"
        },
        "id": "e_Ttk2TA6h1E",
        "outputId": "e4d1c1d3-c640-4517-c5db-1044b06f4cbe"
      },
      "execution_count": null,
      "outputs": [
        {
          "output_type": "stream",
          "name": "stdout",
          "text": [
            "hey this is khushi from batch sep  and year 2022\n"
          ]
        }
      ]
    },
    {
      "cell_type": "code",
      "source": [
        "#frozen set\n",
        "myfrozenset=frozenset([\"e\",\"f\"])\n",
        "print(myfrozenset)"
      ],
      "metadata": {
        "colab": {
          "base_uri": "https://localhost:8080/"
        },
        "id": "xJDnDtrR8xSS",
        "outputId": "5bdc0f99-3af0-44e5-ed8b-65ff116a6d3a"
      },
      "execution_count": null,
      "outputs": [
        {
          "output_type": "stream",
          "name": "stdout",
          "text": [
            "frozenset({'f', 'e'})\n"
          ]
        }
      ]
    },
    {
      "cell_type": "code",
      "source": [
        "#add\n",
        "myfrozenset.add(\"add\")\n",
        "print(myfrozenset)"
      ],
      "metadata": {
        "colab": {
          "base_uri": "https://localhost:8080/",
          "height": 200
        },
        "id": "vOiinSqP-qgJ",
        "outputId": "7548abaf-a6ed-4a4a-a30b-a114279050bd"
      },
      "execution_count": null,
      "outputs": [
        {
          "output_type": "error",
          "ename": "AttributeError",
          "evalue": "ignored",
          "traceback": [
            "\u001b[0;31m---------------------------------------------------------------------------\u001b[0m",
            "\u001b[0;31mAttributeError\u001b[0m                            Traceback (most recent call last)",
            "\u001b[0;32m<ipython-input-23-c1487d51fc96>\u001b[0m in \u001b[0;36m<module>\u001b[0;34m\u001b[0m\n\u001b[1;32m      1\u001b[0m \u001b[0;31m#add\u001b[0m\u001b[0;34m\u001b[0m\u001b[0;34m\u001b[0m\u001b[0;34m\u001b[0m\u001b[0m\n\u001b[0;32m----> 2\u001b[0;31m \u001b[0mmyfrozenset\u001b[0m\u001b[0;34m.\u001b[0m\u001b[0madd\u001b[0m\u001b[0;34m(\u001b[0m\u001b[0;34m\"add\"\u001b[0m\u001b[0;34m)\u001b[0m\u001b[0;34m\u001b[0m\u001b[0;34m\u001b[0m\u001b[0m\n\u001b[0m\u001b[1;32m      3\u001b[0m \u001b[0mprint\u001b[0m\u001b[0;34m(\u001b[0m\u001b[0mmyfrozenset\u001b[0m\u001b[0;34m)\u001b[0m\u001b[0;34m\u001b[0m\u001b[0;34m\u001b[0m\u001b[0m\n",
            "\u001b[0;31mAttributeError\u001b[0m: 'frozenset' object has no attribute 'add'"
          ]
        }
      ]
    },
    {
      "cell_type": "markdown",
      "source": [
        "**CLASS 6**"
      ],
      "metadata": {
        "id": "hesi4Rla5vWC"
      }
    },
    {
      "cell_type": "code",
      "source": [
        "#keyword arguments\n",
        "def key(name,marks,subject):\n",
        "  print(\"hey my name is\",name,\"and i secured\",marks,\"in\",subject)\n",
        "\n",
        "key(\"khushi\",\"65 marks\",\"python\")"
      ],
      "metadata": {
        "colab": {
          "base_uri": "https://localhost:8080/"
        },
        "id": "6-4YdgI05yw8",
        "outputId": "1c32ad3c-9f04-43ac-f9c1-33ee9f12d66f"
      },
      "execution_count": null,
      "outputs": [
        {
          "output_type": "stream",
          "name": "stdout",
          "text": [
            "hey my name is khushi and i secured 65 marks in python\n"
          ]
        }
      ]
    },
    {
      "cell_type": "code",
      "source": [
        "def key(name,marks,subject):\n",
        "  print(\"hey my name is\",name,\"and i secured\",marks,\"in\",subject)\n",
        "\n",
        "key(marks=\"65 marks\",subject=\"python\",name=\"khushi\")"
      ],
      "metadata": {
        "colab": {
          "base_uri": "https://localhost:8080/"
        },
        "id": "4moU_iEO64ib",
        "outputId": "4d0948e1-a8db-48f0-8ebd-1583b3f049cc"
      },
      "execution_count": null,
      "outputs": [
        {
          "output_type": "stream",
          "name": "stdout",
          "text": [
            "hey my name is khushi and i secured 65 marks in python\n"
          ]
        }
      ]
    },
    {
      "cell_type": "code",
      "source": [
        "#default arguments\n",
        "def awesome(name=\"khushi\",city=\"udaipur city\",describe=\"beautiful\"):\n",
        "  print(\"hey i am\",name,\"from\",describe,city)\n",
        "\n",
        "awesome(\"khushi\")"
      ],
      "metadata": {
        "colab": {
          "base_uri": "https://localhost:8080/"
        },
        "id": "UXlx_kBv79eT",
        "outputId": "119cc51d-174f-44da-b3bf-5c5ba792e3be"
      },
      "execution_count": null,
      "outputs": [
        {
          "output_type": "stream",
          "name": "stdout",
          "text": [
            "hey i am khushi from beautiful udaipur city\n"
          ]
        }
      ]
    },
    {
      "cell_type": "code",
      "source": [
        "def awesome(name,city,describe=\"beautiful\"):\n",
        "  print(\"hey i am\",name,\"from\",describe,city)\n",
        "\n",
        "awesome(name=\"khushi\",city=\"udaipur\")"
      ],
      "metadata": {
        "colab": {
          "base_uri": "https://localhost:8080/"
        },
        "id": "HbJFaiFRAgEf",
        "outputId": "73d3af4d-2b0b-4676-e350-77a1151a0fe6"
      },
      "execution_count": null,
      "outputs": [
        {
          "output_type": "stream",
          "name": "stdout",
          "text": [
            "hey i am khushi from beautiful udaipur\n"
          ]
        }
      ]
    },
    {
      "cell_type": "code",
      "source": [
        "#ques-if you have 1500 student data and you fill marks in the student but you don't know who is 1st and 2nd and all\n",
        "def func(teacher,*args):\n",
        "  print(\"the teacher name is\",teacher,args)\n",
        "  for rollno in args:\n",
        "    print(\"student\",rollno)\n",
        "func(\"khushi\",\"1=naresh\",\"2=atul\",3,\"4-mivaan\",4,8,5)\n"
      ],
      "metadata": {
        "colab": {
          "base_uri": "https://localhost:8080/"
        },
        "id": "mrLYoOlZBXZX",
        "outputId": "a37427ee-51da-492e-d0e4-b463e9632365"
      },
      "execution_count": null,
      "outputs": [
        {
          "output_type": "stream",
          "name": "stdout",
          "text": [
            "the teacher name is khushi ('1=naresh', '2=atul', 3, '4-mivaan', 4, 8, 5)\n",
            "student 1=naresh\n",
            "student 2=atul\n",
            "student 3\n",
            "student 4-mivaan\n",
            "student 4\n",
            "student 8\n",
            "student 5\n"
          ]
        }
      ]
    },
    {
      "cell_type": "code",
      "source": [
        "#important\n",
        "def func(teacher,*args,**kwards):\n",
        "  print(\"the teacher name is\",teacher,args)\n",
        "  for rollno in args:\n",
        "    print(\"student\",rollno)\n",
        "  for subject in kwards:\n",
        "    print(subject,kwards[subject])\n",
        "func(\"khushi\",\"1=naresh\",\"2=atul\",3,\"4-mivaan\",4,8,5,science=10,english=4)\n"
      ],
      "metadata": {
        "colab": {
          "base_uri": "https://localhost:8080/"
        },
        "id": "UvhMy0BqDBtU",
        "outputId": "0b361d58-bed5-4ef4-8968-f02e6d4ca185"
      },
      "execution_count": null,
      "outputs": [
        {
          "output_type": "stream",
          "name": "stdout",
          "text": [
            "the teacher name is khushi ('1=naresh', '2=atul', 3, '4-mivaan', 4, 8, 5)\n",
            "student 1=naresh\n",
            "student 2=atul\n",
            "student 3\n",
            "student 4-mivaan\n",
            "student 4\n",
            "student 8\n",
            "student 5\n",
            "science 10\n",
            "english 4\n"
          ]
        }
      ]
    },
    {
      "cell_type": "code",
      "source": [
        "#sequence\n",
        "list=[\"a\",\"b\",\"c\",\"d\"]\n",
        "print(\"a\" in list)\n",
        "print(\"data\" in list)\n",
        "print(\"data\" not in list)\n",
        "print(len(list))"
      ],
      "metadata": {
        "colab": {
          "base_uri": "https://localhost:8080/"
        },
        "id": "rlkSLSpeFG1x",
        "outputId": "6c45885e-2a83-45e9-9086-c046ac5eef7d"
      },
      "execution_count": null,
      "outputs": [
        {
          "output_type": "stream",
          "name": "stdout",
          "text": [
            "True\n",
            "False\n",
            "True\n",
            "4\n"
          ]
        }
      ]
    },
    {
      "cell_type": "code",
      "source": [
        "seq=\"helllllo\"\n",
        "print(seq.index(\"l\",4,10))"
      ],
      "metadata": {
        "colab": {
          "base_uri": "https://localhost:8080/"
        },
        "id": "9atplngaGv25",
        "outputId": "d6cc9947-d5de-4095-f393-e5610cd5d898"
      },
      "execution_count": null,
      "outputs": [
        {
          "output_type": "stream",
          "name": "stdout",
          "text": [
            "4\n"
          ]
        }
      ]
    },
    {
      "cell_type": "code",
      "source": [
        "#sequence\n",
        "b=[1,1,1,1,2,3,4,5,5,5,6,7,8,9,8]\n",
        "print(b.index(1,2,10))          #1st \"1\":showing for which no. you want to check \n",
        "                                #2nd \"2\": showing when 2nd time again \"1\"come \n",
        "                                #3rd \"10\":showing the range "
      ],
      "metadata": {
        "colab": {
          "base_uri": "https://localhost:8080/"
        },
        "id": "FbvtnhQSHB6r",
        "outputId": "30b1c8b4-1fa5-45fd-a000-a9efefe4ef18"
      },
      "execution_count": null,
      "outputs": [
        {
          "output_type": "stream",
          "name": "stdout",
          "text": [
            "2\n"
          ]
        }
      ]
    },
    {
      "cell_type": "markdown",
      "source": [
        "CLASS-7"
      ],
      "metadata": {
        "id": "5ToNEqL-FYfB"
      }
    },
    {
      "cell_type": "code",
      "source": [
        "#files-the information can be written, read, modified and stored(saved)\n",
        "#different type of modes\n",
        "#Read mode(r)\n",
        "#Write mode(w)\n",
        "#Append mode(a)"
      ],
      "metadata": {
        "id": "Jr0NoEsfIPW_"
      },
      "execution_count": null,
      "outputs": []
    },
    {
      "cell_type": "code",
      "source": [
        "myfile=open(\"file.txt\",\"r\")\n",
        "print(myfile.read())"
      ],
      "metadata": {
        "id": "uhEjwsgnJgYv",
        "colab": {
          "base_uri": "https://localhost:8080/"
        },
        "outputId": "0f706f98-83d1-4905-b35c-a0020f690581"
      },
      "execution_count": null,
      "outputs": [
        {
          "output_type": "stream",
          "name": "stdout",
          "text": [
            "print(\"hello everyone\")\n",
            "\n"
          ]
        }
      ]
    },
    {
      "cell_type": "code",
      "source": [],
      "metadata": {
        "id": "uXd_div6HUtQ"
      },
      "execution_count": null,
      "outputs": []
    },
    {
      "cell_type": "code",
      "source": [
        "myfile=open(\"file1.txt\",\"w\")\n",
        "myfile.write(\n",
        "    \"hi i am devloping a GAME\"\n",
        ")\n"
      ],
      "metadata": {
        "colab": {
          "base_uri": "https://localhost:8080/"
        },
        "id": "jXpi_Jd5HoKc",
        "outputId": "c1fb57c3-9d39-462d-d9c6-f882c63d3025"
      },
      "execution_count": null,
      "outputs": [
        {
          "output_type": "execute_result",
          "data": {
            "text/plain": [
              "24"
            ]
          },
          "metadata": {},
          "execution_count": 29
        }
      ]
    },
    {
      "cell_type": "code",
      "source": [
        "myfile=open(\"file1.txt\",\"r\")\n",
        "print(myfile.read())"
      ],
      "metadata": {
        "colab": {
          "base_uri": "https://localhost:8080/"
        },
        "id": "SOdyWH8dH6SZ",
        "outputId": "df9f2be1-f169-4fef-a902-0d0d8dcd90a5"
      },
      "execution_count": null,
      "outputs": [
        {
          "output_type": "stream",
          "name": "stdout",
          "text": [
            "hi i am devloping a GAME\n"
          ]
        }
      ]
    },
    {
      "cell_type": "code",
      "source": [
        "myfile=open(\"file1.txt\",\"a\")\n",
        "myfile.write(\"\\n how'z it???\")\n"
      ],
      "metadata": {
        "colab": {
          "base_uri": "https://localhost:8080/"
        },
        "id": "rU5srDRVH_Rp",
        "outputId": "27f0bdfe-eaa2-40e0-beae-a84d2e8f306f"
      },
      "execution_count": null,
      "outputs": [
        {
          "output_type": "execute_result",
          "data": {
            "text/plain": [
              "13"
            ]
          },
          "metadata": {},
          "execution_count": 32
        }
      ]
    },
    {
      "cell_type": "code",
      "source": [
        "myfile=open(\"file1.txt\",\"r\")\n",
        "print(myfile.read())"
      ],
      "metadata": {
        "colab": {
          "base_uri": "https://localhost:8080/"
        },
        "id": "CvKtphFxJWMS",
        "outputId": "b8ed91b6-167b-4ede-a472-dfe94a5db484"
      },
      "execution_count": null,
      "outputs": [
        {
          "output_type": "stream",
          "name": "stdout",
          "text": [
            "hi i am devloping a GAME\n",
            " how'z it???\n"
          ]
        }
      ]
    },
    {
      "cell_type": "code",
      "source": [
        "myfile.close()"
      ],
      "metadata": {
        "id": "2DtqomPPJZdD"
      },
      "execution_count": null,
      "outputs": []
    },
    {
      "cell_type": "code",
      "source": [
        "#context manager-\n",
        "with open(\"file.txt\",\"r\") as file:\n",
        "    print(file.read())"
      ],
      "metadata": {
        "colab": {
          "base_uri": "https://localhost:8080/"
        },
        "id": "Bm3rSgRGLSa6",
        "outputId": "6ec4b114-29c5-43e8-fea6-601a0ce08696"
      },
      "execution_count": null,
      "outputs": [
        {
          "output_type": "stream",
          "name": "stdout",
          "text": [
            "print(\"hello everyone\")\n",
            "\n"
          ]
        }
      ]
    },
    {
      "cell_type": "code",
      "source": [
        "mylines=[\"task is been scheduled \\n\",\"ststus of the task \\n\",\"good to go\"]\n",
        "with open(\"file.txt\",\"a\") as file:\n",
        "  file.writelines(mylines)\n"
      ],
      "metadata": {
        "id": "IVa5Par8LxCf"
      },
      "execution_count": null,
      "outputs": []
    },
    {
      "cell_type": "code",
      "source": [
        "with open(\"file.txt\",\"r\") as file:\n",
        "    print(file.read())"
      ],
      "metadata": {
        "colab": {
          "base_uri": "https://localhost:8080/"
        },
        "id": "Zr5t5AEEL9uu",
        "outputId": "6ead27d7-23cf-4afb-8f9f-cb73281be6a8"
      },
      "execution_count": null,
      "outputs": [
        {
          "output_type": "stream",
          "name": "stdout",
          "text": [
            "print(\"hello everyone\")\n",
            "task is been scheduled \n",
            "ststus of the task \n",
            "good to go\n"
          ]
        }
      ]
    },
    {
      "cell_type": "code",
      "source": [
        "#assigment-3:\n",
        "'''what is r+, w+, a+\n",
        "create a calci where the values are operators need to be given by the user and store the values in the file'''"
      ],
      "metadata": {
        "colab": {
          "base_uri": "https://localhost:8080/",
          "height": 35
        },
        "id": "atgXom5ENZNJ",
        "outputId": "45d87b87-9190-44ef-9ae0-760c353e2ece"
      },
      "execution_count": null,
      "outputs": [
        {
          "output_type": "execute_result",
          "data": {
            "text/plain": [
              "'what is r+, w+, a+\\ncreate a calci where the values are operators need to be given by the user and store the values in the file'"
            ],
            "application/vnd.google.colaboratory.intrinsic+json": {
              "type": "string"
            }
          },
          "metadata": {},
          "execution_count": 43
        }
      ]
    },
    {
      "cell_type": "code",
      "source": [
        "#modules\n",
        "#Built in function\n",
        "import math\n",
        "print(math.sin(1))"
      ],
      "metadata": {
        "colab": {
          "base_uri": "https://localhost:8080/"
        },
        "id": "oVSeDnQQO1KT",
        "outputId": "12b4405c-6a96-4142-ccff-b2596c81afec"
      },
      "execution_count": null,
      "outputs": [
        {
          "output_type": "stream",
          "name": "stdout",
          "text": [
            "0.8414709848078965\n"
          ]
        }
      ]
    },
    {
      "cell_type": "code",
      "source": [
        "print(math.pi)"
      ],
      "metadata": {
        "colab": {
          "base_uri": "https://localhost:8080/"
        },
        "id": "B6jjkJo2PwPi",
        "outputId": "7a127d23-fdf8-4a7a-f8b0-3201ed04d08a"
      },
      "execution_count": null,
      "outputs": [
        {
          "output_type": "stream",
          "name": "stdout",
          "text": [
            "3.141592653589793\n"
          ]
        }
      ]
    },
    {
      "cell_type": "code",
      "source": [
        "import datetime\n",
        "x=datetime.datetime.now()\n",
        "print(x)\n",
        "#OR\n",
        "print(datetime.datetime.now())\n",
        "print(x.strftime(\"%m\"))\n",
        "print(x.strftime(\"%c\"))\n",
        "print(x.strftime(\"%d\"))\n",
        "print(x.strftime(\"%w\"))  #showing week\n",
        "print(x.strftime(\"%y\"))\n",
        "print(x.strftime(\"%j\"))  #don't know check it??"
      ],
      "metadata": {
        "colab": {
          "base_uri": "https://localhost:8080/"
        },
        "id": "nb6VC79OP3vE",
        "outputId": "7c7e2ceb-80f6-42ca-b015-abf9de2b08c2"
      },
      "execution_count": null,
      "outputs": [
        {
          "output_type": "stream",
          "name": "stdout",
          "text": [
            "2022-09-21 13:48:41.761128\n",
            "2022-09-21 13:48:41.763759\n",
            "09\n",
            "Wed Sep 21 13:48:41 2022\n",
            "21\n",
            "3\n",
            "22\n",
            "264\n"
          ]
        }
      ]
    },
    {
      "cell_type": "code",
      "source": [
        "from datetime import date\n",
        "today=date.today()\n",
        "print(today)"
      ],
      "metadata": {
        "colab": {
          "base_uri": "https://localhost:8080/"
        },
        "id": "WMnaLuvXQBwL",
        "outputId": "9d908daa-b3f4-4147-e455-3c341c570d48"
      },
      "execution_count": null,
      "outputs": [
        {
          "output_type": "stream",
          "name": "stdout",
          "text": [
            "2022-09-21\n"
          ]
        }
      ]
    },
    {
      "cell_type": "code",
      "source": [
        "# r+,w+,a+\n",
        "with open('file.txt', 'w+') as f:                #w+ :it's write and read the file\n",
        "    f.write(\"hi \\n\")\n",
        "    f.write(\"i am khushi\\n\")\n",
        "    f.write(\"welcome to my pc \\n\")\n",
        "    f.seek(0)                       # move the file pointer to the beginning\n",
        "    lines = f.read()                # read it, now we can read!\n",
        "    print(lines)                "
      ],
      "metadata": {
        "id": "OiIedp3oT3_1"
      },
      "execution_count": null,
      "outputs": []
    },
    {
      "cell_type": "code",
      "source": [
        "with open('file.txt', 'r+') as f:                 #r+ :it's read and write in file \n",
        "    f.write(\"welcome khushi\")   "
      ],
      "metadata": {
        "id": "BrfOkMfClDF6"
      },
      "execution_count": null,
      "outputs": []
    },
    {
      "cell_type": "code",
      "source": [
        "with open('file.txt', 'a+') as f:\n",
        "    f.write(\"i am starting new project\")\n",
        "    f.seek(0)                       # file pointer at end, move to beginning\n",
        "    lines = f.readlines()           # read all and file pointer at end again\n",
        "    print(lines)                   # append number of lines to a file"
      ],
      "metadata": {
        "id": "Ya-eVMpklHsm"
      },
      "execution_count": null,
      "outputs": []
    },
    {
      "cell_type": "code",
      "source": [
        "#with open('file.txt', 'a+') as f:\n",
        "    # f.seek(0)                       # file pointer at end, move to beginning\n",
        "    # lines = f.readlines()           # read all and file pointer at end again\n",
        "    # f.write(\"\\n\" + str(len(lines))) # append number of lines to a file"
      ],
      "metadata": {
        "id": "f2_DsyYylN2R"
      },
      "execution_count": null,
      "outputs": []
    },
    {
      "cell_type": "markdown",
      "source": [
        "CLASS 8"
      ],
      "metadata": {
        "id": "3EWi3NoQwr86"
      }
    },
    {
      "cell_type": "code",
      "source": [
        "#comprehension-making a task in presize way\n",
        "mylist=[1,2,3,4,5,5,6]\n",
        "print(mylist)\n"
      ],
      "metadata": {
        "colab": {
          "base_uri": "https://localhost:8080/"
        },
        "id": "xIvNibBowwt5",
        "outputId": "61a48fe4-112d-47c8-c1ca-669bee2b2926"
      },
      "execution_count": null,
      "outputs": [
        {
          "output_type": "stream",
          "name": "stdout",
          "text": [
            "[1, 2, 3, 4, 5, 5, 6]\n"
          ]
        }
      ]
    },
    {
      "cell_type": "code",
      "source": [
        "even_list=[]\n",
        "for x in mylist:\n",
        "  if x %2==0:\n",
        "    even_list.append(x)\n",
        "print(even_list)\n",
        "\n",
        "odd_list=[]\n",
        "for x in mylist:\n",
        "  if x %2!=0:\n",
        "    odd_list.append(x)\n",
        "print(odd_list)"
      ],
      "metadata": {
        "colab": {
          "base_uri": "https://localhost:8080/"
        },
        "id": "RI6ur9h11jOe",
        "outputId": "6b43b9bc-c0c0-4400-a01c-46bd33cb798a"
      },
      "execution_count": null,
      "outputs": [
        {
          "output_type": "stream",
          "name": "stdout",
          "text": [
            "[2, 4, 6]\n",
            "[1, 3, 5, 5]\n"
          ]
        }
      ]
    },
    {
      "cell_type": "code",
      "source": [
        "#list comprehension\n",
        "evenlist=[y for y in mylist if y%2==0]\n",
        "print(\"the even numbers are\",evenlist)\n",
        "oddlist=[y for y in mylist if y%2!=0]\n",
        "print(\"the even numbers are\",oddlist)\n"
      ],
      "metadata": {
        "colab": {
          "base_uri": "https://localhost:8080/"
        },
        "id": "2qv6IunB2dFd",
        "outputId": "7417c2b8-de38-4bd6-f3b8-771d7c0336f9"
      },
      "execution_count": null,
      "outputs": [
        {
          "output_type": "stream",
          "name": "stdout",
          "text": [
            "the even numbers are [2, 4, 6]\n",
            "the even numbers are [1, 3, 5, 5]\n"
          ]
        }
      ]
    },
    {
      "cell_type": "code",
      "source": [
        "#dic\n",
        "mydic={}\n",
        "for z in mylist:\n",
        "  mydic[z]=z**2\n",
        "print(mydic)"
      ],
      "metadata": {
        "colab": {
          "base_uri": "https://localhost:8080/"
        },
        "id": "t3PqYsT34A1J",
        "outputId": "55974361-035d-4d61-afd3-f629d9383df0"
      },
      "execution_count": null,
      "outputs": [
        {
          "output_type": "stream",
          "name": "stdout",
          "text": [
            "{1: 1, 2: 4, 3: 9, 4: 16, 5: 25, 6: 36}\n"
          ]
        }
      ]
    },
    {
      "cell_type": "code",
      "source": [
        "#dic comprehension\n",
        "mydic={z:z**2 for z in mylist}\n",
        "print(mydic)"
      ],
      "metadata": {
        "colab": {
          "base_uri": "https://localhost:8080/"
        },
        "id": "QKHLGOi25qqJ",
        "outputId": "10c77e88-ab94-45bb-fde3-33f0a411acd5"
      },
      "execution_count": null,
      "outputs": [
        {
          "output_type": "stream",
          "name": "stdout",
          "text": [
            "{1: 1, 2: 4, 3: 9, 4: 16, 5: 25, 6: 36}\n"
          ]
        }
      ]
    },
    {
      "cell_type": "code",
      "source": [
        "#iterator-printing data one by one\n",
        "list=[1,2,3,4,5,6,]\n",
        "myiteration=iter(list)  #iter-passing up the value of my list\n",
        "print(next(myiteration))"
      ],
      "metadata": {
        "colab": {
          "base_uri": "https://localhost:8080/"
        },
        "id": "Z4nGiMmz6v9-",
        "outputId": "ce9c9b0b-b3fb-4882-ee80-2cfd628fc450"
      },
      "execution_count": null,
      "outputs": [
        {
          "output_type": "stream",
          "name": "stdout",
          "text": [
            "1\n"
          ]
        }
      ]
    },
    {
      "cell_type": "code",
      "source": [
        "print(next(myiteration)) "
      ],
      "metadata": {
        "colab": {
          "base_uri": "https://localhost:8080/"
        },
        "id": "nlFiYk6479yc",
        "outputId": "65ae300c-27dd-46c8-80b7-5df469abb039"
      },
      "execution_count": null,
      "outputs": [
        {
          "output_type": "stream",
          "name": "stdout",
          "text": [
            "2\n"
          ]
        }
      ]
    },
    {
      "cell_type": "code",
      "source": [
        "print(next(myiteration))           # it give error at last when you don't have further data but for loop automically stop at last without error\n",
        "                               "
      ],
      "metadata": {
        "colab": {
          "base_uri": "https://localhost:8080/"
        },
        "id": "Fe3KKs5H8S0D",
        "outputId": "f57f1e59-82a2-44b6-e202-fcff285fd059"
      },
      "execution_count": null,
      "outputs": [
        {
          "output_type": "stream",
          "name": "stdout",
          "text": [
            "3\n"
          ]
        }
      ]
    },
    {
      "cell_type": "code",
      "source": [
        "for z in list:\n",
        "  print(z)"
      ],
      "metadata": {
        "colab": {
          "base_uri": "https://localhost:8080/"
        },
        "id": "ZabQobkQ8V2J",
        "outputId": "3ed21c0f-1afa-4dce-8c84-b8314cb28be1"
      },
      "execution_count": null,
      "outputs": [
        {
          "output_type": "stream",
          "name": "stdout",
          "text": [
            "1\n",
            "2\n",
            "3\n",
            "4\n",
            "5\n",
            "6\n"
          ]
        }
      ]
    },
    {
      "cell_type": "code",
      "source": [
        "#Generator comp -advance version of comprehension\n",
        "#yield keyword\n",
        "def gen(x):\n",
        "  yield x+6\n",
        "  yield x-6\n",
        "  yield x*6\n",
        "for y in gen(7):\n",
        "    print(y)\n",
        "  \n"
      ],
      "metadata": {
        "colab": {
          "base_uri": "https://localhost:8080/"
        },
        "id": "VxnVNu6D8hVU",
        "outputId": "6d390cac-48be-4e2d-d82e-4e957dfecdd6"
      },
      "execution_count": null,
      "outputs": [
        {
          "output_type": "stream",
          "name": "stdout",
          "text": [
            "13\n",
            "1\n",
            "42\n"
          ]
        }
      ]
    },
    {
      "cell_type": "code",
      "source": [
        "def gen(x):\n",
        "  print(x+6)\n",
        "  print(x-6)\n",
        "  print(x*6)\n",
        "\n",
        "gen(7)"
      ],
      "metadata": {
        "colab": {
          "base_uri": "https://localhost:8080/"
        },
        "id": "sXs8P46790Qi",
        "outputId": "98762991-9e7b-4311-9d04-c32e767ab9eb"
      },
      "execution_count": null,
      "outputs": [
        {
          "output_type": "stream",
          "name": "stdout",
          "text": [
            "13\n",
            "1\n",
            "42\n"
          ]
        }
      ]
    },
    {
      "cell_type": "code",
      "source": [
        "set={z for z in list}"
      ],
      "metadata": {
        "id": "5MccJgCJ_cUd"
      },
      "execution_count": null,
      "outputs": []
    },
    {
      "cell_type": "code",
      "source": [
        "print(set)"
      ],
      "metadata": {
        "colab": {
          "base_uri": "https://localhost:8080/"
        },
        "id": "Xn7lWoxl_zLD",
        "outputId": "4d28ba54-6a7d-48f6-be78-240b69beb9ff"
      },
      "execution_count": null,
      "outputs": [
        {
          "output_type": "stream",
          "name": "stdout",
          "text": [
            "{1, 2, 3, 4, 5, 6}\n"
          ]
        }
      ]
    },
    {
      "cell_type": "code",
      "source": [
        "s=set()\n",
        "for x in mylist:\n",
        "  if x%2==0:\n",
        "    add(x)\n",
        "print()\n",
        "\n",
        "# odd_set=set()\n",
        "# for x in mylist:\n",
        "#   if x %2!=0:\n",
        "#     odd_set.add(x)\n",
        "# print(odd_set)"
      ],
      "metadata": {
        "colab": {
          "base_uri": "https://localhost:8080/",
          "height": 235
        },
        "id": "u8vdldov_1LK",
        "outputId": "edd318aa-875f-4091-97d5-03e717a47c85"
      },
      "execution_count": null,
      "outputs": [
        {
          "output_type": "error",
          "ename": "TypeError",
          "evalue": "ignored",
          "traceback": [
            "\u001b[0;31m---------------------------------------------------------------------------\u001b[0m",
            "\u001b[0;31mTypeError\u001b[0m                                 Traceback (most recent call last)",
            "\u001b[0;32m<ipython-input-42-f5e07347a56d>\u001b[0m in \u001b[0;36m<module>\u001b[0;34m\u001b[0m\n\u001b[0;32m----> 1\u001b[0;31m \u001b[0mset\u001b[0m\u001b[0;34m(\u001b[0m\u001b[0;34m)\u001b[0m\u001b[0;34m\u001b[0m\u001b[0;34m\u001b[0m\u001b[0m\n\u001b[0m\u001b[1;32m      2\u001b[0m \u001b[0;32mfor\u001b[0m \u001b[0mx\u001b[0m \u001b[0;32min\u001b[0m \u001b[0mmylist\u001b[0m\u001b[0;34m:\u001b[0m\u001b[0;34m\u001b[0m\u001b[0;34m\u001b[0m\u001b[0m\n\u001b[1;32m      3\u001b[0m   \u001b[0;32mif\u001b[0m \u001b[0mx\u001b[0m\u001b[0;34m%\u001b[0m\u001b[0;36m2\u001b[0m\u001b[0;34m==\u001b[0m\u001b[0;36m0\u001b[0m\u001b[0;34m:\u001b[0m\u001b[0;34m\u001b[0m\u001b[0;34m\u001b[0m\u001b[0m\n\u001b[1;32m      4\u001b[0m     \u001b[0madd\u001b[0m\u001b[0;34m(\u001b[0m\u001b[0mx\u001b[0m\u001b[0;34m)\u001b[0m\u001b[0;34m\u001b[0m\u001b[0;34m\u001b[0m\u001b[0m\n\u001b[1;32m      5\u001b[0m \u001b[0mprint\u001b[0m\u001b[0;34m(\u001b[0m\u001b[0;34m)\u001b[0m\u001b[0;34m\u001b[0m\u001b[0;34m\u001b[0m\u001b[0m\n",
            "\u001b[0;31mTypeError\u001b[0m: 'set' object is not callable"
          ]
        }
      ]
    },
    {
      "cell_type": "code",
      "source": [
        "#dic comprehension\n",
        "evenset={y for y in mylist if y%2==0}\n",
        "print(\"the even numbers are\",evenset)\n",
        "oddset={y for y in mylist if y%2!=0}\n",
        "print(\"the even numbers are\",oddset)\n"
      ],
      "metadata": {
        "colab": {
          "base_uri": "https://localhost:8080/"
        },
        "id": "DvgM1C5cAdW0",
        "outputId": "9443597e-3cee-459b-84b8-ca79dc0ff65d"
      },
      "execution_count": null,
      "outputs": [
        {
          "output_type": "stream",
          "name": "stdout",
          "text": [
            "the even numbers are {2, 4, 6}\n",
            "the even numbers are {1, 3, 5}\n"
          ]
        }
      ]
    },
    {
      "cell_type": "code",
      "source": [],
      "metadata": {
        "id": "fWMO_COJBwye"
      },
      "execution_count": null,
      "outputs": []
    },
    {
      "cell_type": "markdown",
      "source": [
        "CLASS 9"
      ],
      "metadata": {
        "id": "8rd7I0HD8_MN"
      }
    },
    {
      "cell_type": "code",
      "source": [
        "#exceptional handling\n"
      ],
      "metadata": {
        "id": "ABo0IbLB9BTY"
      },
      "execution_count": null,
      "outputs": []
    },
    {
      "cell_type": "code",
      "source": [
        "print(1/0)"
      ],
      "metadata": {
        "colab": {
          "base_uri": "https://localhost:8080/",
          "height": 165
        },
        "id": "urD-87Q69GjX",
        "outputId": "a4ede06d-5f25-4443-c7ab-7e29d7ed71cd"
      },
      "execution_count": null,
      "outputs": [
        {
          "output_type": "error",
          "ename": "ZeroDivisionError",
          "evalue": "ignored",
          "traceback": [
            "\u001b[0;31m---------------------------------------------------------------------------\u001b[0m",
            "\u001b[0;31mZeroDivisionError\u001b[0m                         Traceback (most recent call last)",
            "\u001b[0;32m<ipython-input-2-2fc232d1511a>\u001b[0m in \u001b[0;36m<module>\u001b[0;34m\u001b[0m\n\u001b[0;32m----> 1\u001b[0;31m \u001b[0mprint\u001b[0m\u001b[0;34m(\u001b[0m\u001b[0;36m1\u001b[0m\u001b[0;34m/\u001b[0m\u001b[0;36m0\u001b[0m\u001b[0;34m)\u001b[0m\u001b[0;34m\u001b[0m\u001b[0;34m\u001b[0m\u001b[0m\n\u001b[0m",
            "\u001b[0;31mZeroDivisionError\u001b[0m: division by zero"
          ]
        }
      ]
    },
    {
      "cell_type": "code",
      "source": [
        "try:\n",
        "  print(a)\n",
        "  print(\"hello everyone\")\n",
        "except:\n",
        "  print(\"an error occurred\")"
      ],
      "metadata": {
        "colab": {
          "base_uri": "https://localhost:8080/"
        },
        "id": "_RbdL4NR9I5N",
        "outputId": "dd6088dc-232e-40a0-a3a8-da521594ad69"
      },
      "execution_count": null,
      "outputs": [
        {
          "output_type": "stream",
          "name": "stdout",
          "text": [
            "an error occurred\n"
          ]
        }
      ]
    },
    {
      "cell_type": "code",
      "source": [
        "mylist=[1,23,3,5,0,56,4]\n",
        "try:\n",
        "  print(mylist[4])\n",
        "  print(mylist[1])\n",
        "  print(mylist[0])\n",
        "except:\n",
        "  print(\"the value is not defined\")\n"
      ],
      "metadata": {
        "colab": {
          "base_uri": "https://localhost:8080/"
        },
        "id": "W7aDyDwH9Wrm",
        "outputId": "010905b0-0d62-41d7-fe0b-6b3c3f1d51b7"
      },
      "execution_count": null,
      "outputs": [
        {
          "output_type": "stream",
          "name": "stdout",
          "text": [
            "0\n",
            "23\n",
            "1\n"
          ]
        }
      ]
    },
    {
      "cell_type": "code",
      "source": [
        "try:\n",
        "  print(2/0)\n",
        "except:\n",
        "  print(\"ZeroDivisionError\")"
      ],
      "metadata": {
        "colab": {
          "base_uri": "https://localhost:8080/"
        },
        "id": "BcixTIAy-UOz",
        "outputId": "5d4b71a7-0026-4338-8ce8-9b25efdc4a3c"
      },
      "execution_count": null,
      "outputs": [
        {
          "output_type": "stream",
          "name": "stdout",
          "text": [
            "ZeroDivisionError\n"
          ]
        }
      ]
    },
    {
      "cell_type": "code",
      "source": [
        "t=[12,22,44]\n",
        "try:\n",
        "  print(t[0])\n",
        "  print(t[1])\n",
        "  print(t[6])\n",
        "except:\n",
        "  print(\"error occured\")"
      ],
      "metadata": {
        "colab": {
          "base_uri": "https://localhost:8080/"
        },
        "id": "WbxkQkKy-vAt",
        "outputId": "2d5465e0-9c96-4a60-9e05-e6b2b8ba51d3"
      },
      "execution_count": null,
      "outputs": [
        {
          "output_type": "stream",
          "name": "stdout",
          "text": [
            "12\n",
            "22\n",
            "error occured\n"
          ]
        }
      ]
    },
    {
      "cell_type": "code",
      "source": [
        "list=[11,23,45,51,41]\n",
        "try:\n",
        "  for value in list:\n",
        "    if(value<5):\n",
        "      print(value)\n",
        "except:\n",
        "  print(\"error occured\")"
      ],
      "metadata": {
        "id": "3_Ntouh-_p3j"
      },
      "execution_count": null,
      "outputs": []
    },
    {
      "cell_type": "code",
      "source": [
        "try:\n",
        "  x=open(\"python.txt\",\"r\")\n",
        "  print(x.read())\n",
        "except:\n",
        "  print(\"doesn't exist\")\n",
        "finally:\n",
        "  print(\"the task is partially done\")"
      ],
      "metadata": {
        "colab": {
          "base_uri": "https://localhost:8080/"
        },
        "id": "oIO9VhOkAHj0",
        "outputId": "fe314728-c376-4065-a62d-fe84742da644"
      },
      "execution_count": null,
      "outputs": [
        {
          "output_type": "stream",
          "name": "stdout",
          "text": [
            "hai everyone\n",
            "the task is partially done\n"
          ]
        }
      ]
    },
    {
      "cell_type": "code",
      "source": [
        "try:\n",
        "  raise NameError(\"data is present\")\n",
        "except NameError:\n",
        "  print(\"an error occured\")\n",
        "  raise"
      ],
      "metadata": {
        "colab": {
          "base_uri": "https://localhost:8080/",
          "height": 252
        },
        "id": "s3LLEJxgBAyx",
        "outputId": "f45ea353-f79f-4460-8a8e-cb26996d5f49"
      },
      "execution_count": null,
      "outputs": [
        {
          "output_type": "stream",
          "name": "stdout",
          "text": [
            "an error occured\n"
          ]
        },
        {
          "output_type": "error",
          "ename": "NameError",
          "evalue": "ignored",
          "traceback": [
            "\u001b[0;31m---------------------------------------------------------------------------\u001b[0m",
            "\u001b[0;31mNameError\u001b[0m                                 Traceback (most recent call last)",
            "\u001b[0;32m<ipython-input-25-7d3b1c7e865c>\u001b[0m in \u001b[0;36m<module>\u001b[0;34m\u001b[0m\n\u001b[1;32m      1\u001b[0m \u001b[0;32mtry\u001b[0m\u001b[0;34m:\u001b[0m\u001b[0;34m\u001b[0m\u001b[0;34m\u001b[0m\u001b[0m\n\u001b[0;32m----> 2\u001b[0;31m   \u001b[0;32mraise\u001b[0m \u001b[0mNameError\u001b[0m\u001b[0;34m(\u001b[0m\u001b[0;34m\"data is present\"\u001b[0m\u001b[0;34m)\u001b[0m\u001b[0;34m\u001b[0m\u001b[0;34m\u001b[0m\u001b[0m\n\u001b[0m\u001b[1;32m      3\u001b[0m \u001b[0;32mexcept\u001b[0m \u001b[0mNameError\u001b[0m\u001b[0;34m:\u001b[0m\u001b[0;34m\u001b[0m\u001b[0;34m\u001b[0m\u001b[0m\n\u001b[1;32m      4\u001b[0m   \u001b[0mprint\u001b[0m\u001b[0;34m(\u001b[0m\u001b[0;34m\"an error occured\"\u001b[0m\u001b[0;34m)\u001b[0m\u001b[0;34m\u001b[0m\u001b[0;34m\u001b[0m\u001b[0m\n\u001b[1;32m      5\u001b[0m   \u001b[0;32mraise\u001b[0m\u001b[0;34m\u001b[0m\u001b[0;34m\u001b[0m\u001b[0m\n",
            "\u001b[0;31mNameError\u001b[0m: data is present"
          ]
        }
      ]
    },
    {
      "cell_type": "code",
      "source": [
        "try:\n",
        "  raise NameError(\"data is present\")\n",
        "except:\n",
        "  print(\"an error occured\")\n",
        "  raise"
      ],
      "metadata": {
        "colab": {
          "base_uri": "https://localhost:8080/",
          "height": 252
        },
        "id": "Kp8bwZd1CNmN",
        "outputId": "c86351d3-a300-4a98-be98-d79c6974affe"
      },
      "execution_count": null,
      "outputs": [
        {
          "output_type": "stream",
          "name": "stdout",
          "text": [
            "an error occured\n"
          ]
        },
        {
          "output_type": "error",
          "ename": "NameError",
          "evalue": "ignored",
          "traceback": [
            "\u001b[0;31m---------------------------------------------------------------------------\u001b[0m",
            "\u001b[0;31mNameError\u001b[0m                                 Traceback (most recent call last)",
            "\u001b[0;32m<ipython-input-26-2d7040f33bc8>\u001b[0m in \u001b[0;36m<module>\u001b[0;34m\u001b[0m\n\u001b[1;32m      1\u001b[0m \u001b[0;32mtry\u001b[0m\u001b[0;34m:\u001b[0m\u001b[0;34m\u001b[0m\u001b[0;34m\u001b[0m\u001b[0m\n\u001b[0;32m----> 2\u001b[0;31m   \u001b[0;32mraise\u001b[0m \u001b[0mNameError\u001b[0m\u001b[0;34m(\u001b[0m\u001b[0;34m\"data is present\"\u001b[0m\u001b[0;34m)\u001b[0m\u001b[0;34m\u001b[0m\u001b[0;34m\u001b[0m\u001b[0m\n\u001b[0m\u001b[1;32m      3\u001b[0m \u001b[0;32mexcept\u001b[0m\u001b[0;34m:\u001b[0m\u001b[0;34m\u001b[0m\u001b[0;34m\u001b[0m\u001b[0m\n\u001b[1;32m      4\u001b[0m   \u001b[0mprint\u001b[0m\u001b[0;34m(\u001b[0m\u001b[0;34m\"an error occured\"\u001b[0m\u001b[0;34m)\u001b[0m\u001b[0;34m\u001b[0m\u001b[0;34m\u001b[0m\u001b[0m\n\u001b[1;32m      5\u001b[0m   \u001b[0;32mraise\u001b[0m\u001b[0;34m\u001b[0m\u001b[0;34m\u001b[0m\u001b[0m\n",
            "\u001b[0;31mNameError\u001b[0m: data is present"
          ]
        }
      ]
    },
    {
      "cell_type": "code",
      "source": [
        "try:\n",
        "  raise ZeroDivisionError(\"data is present\")\n",
        "except NameError as e:\n",
        "  print(\"custom msg\")\n",
        "  raise"
      ],
      "metadata": {
        "colab": {
          "base_uri": "https://localhost:8080/",
          "height": 235
        },
        "id": "NFjfSs0xD4z-",
        "outputId": "e8f3a6c6-050a-4809-8f08-4c76d73f1692"
      },
      "execution_count": null,
      "outputs": [
        {
          "output_type": "error",
          "ename": "ZeroDivisionError",
          "evalue": "ignored",
          "traceback": [
            "\u001b[0;31m---------------------------------------------------------------------------\u001b[0m",
            "\u001b[0;31mZeroDivisionError\u001b[0m                         Traceback (most recent call last)",
            "\u001b[0;32m<ipython-input-29-74bbc6478e84>\u001b[0m in \u001b[0;36m<module>\u001b[0;34m\u001b[0m\n\u001b[1;32m      1\u001b[0m \u001b[0;32mtry\u001b[0m\u001b[0;34m:\u001b[0m\u001b[0;34m\u001b[0m\u001b[0;34m\u001b[0m\u001b[0m\n\u001b[0;32m----> 2\u001b[0;31m   \u001b[0;32mraise\u001b[0m \u001b[0mZeroDivisionError\u001b[0m\u001b[0;34m(\u001b[0m\u001b[0;34m\"data is present\"\u001b[0m\u001b[0;34m)\u001b[0m\u001b[0;34m\u001b[0m\u001b[0;34m\u001b[0m\u001b[0m\n\u001b[0m\u001b[1;32m      3\u001b[0m \u001b[0;32mexcept\u001b[0m \u001b[0mNameError\u001b[0m \u001b[0;32mas\u001b[0m \u001b[0me\u001b[0m\u001b[0;34m:\u001b[0m\u001b[0;34m\u001b[0m\u001b[0;34m\u001b[0m\u001b[0m\n\u001b[1;32m      4\u001b[0m   \u001b[0mprint\u001b[0m\u001b[0;34m(\u001b[0m\u001b[0;34m\"custom msg\"\u001b[0m\u001b[0;34m)\u001b[0m\u001b[0;34m\u001b[0m\u001b[0;34m\u001b[0m\u001b[0m\n\u001b[1;32m      5\u001b[0m   \u001b[0;32mraise\u001b[0m\u001b[0;34m\u001b[0m\u001b[0;34m\u001b[0m\u001b[0m\n",
            "\u001b[0;31mZeroDivisionError\u001b[0m: data is present"
          ]
        }
      ]
    },
    {
      "cell_type": "code",
      "source": [
        "print(2+3+)"
      ],
      "metadata": {
        "colab": {
          "base_uri": "https://localhost:8080/",
          "height": 130
        },
        "id": "pxVNiXYgEN8R",
        "outputId": "c0b53aff-99c0-45e0-b5c5-dc61cd5afb36"
      },
      "execution_count": null,
      "outputs": [
        {
          "output_type": "error",
          "ename": "SyntaxError",
          "evalue": "ignored",
          "traceback": [
            "\u001b[0;36m  File \u001b[0;32m\"<ipython-input-31-c30972f27e4c>\"\u001b[0;36m, line \u001b[0;32m1\u001b[0m\n\u001b[0;31m    print(2+3+)\u001b[0m\n\u001b[0m              ^\u001b[0m\n\u001b[0;31mSyntaxError\u001b[0m\u001b[0;31m:\u001b[0m invalid syntax\n"
          ]
        }
      ]
    },
    {
      "cell_type": "code",
      "source": [
        "print(2/0)"
      ],
      "metadata": {
        "colab": {
          "base_uri": "https://localhost:8080/",
          "height": 165
        },
        "id": "ZqCkriFjEW3d",
        "outputId": "e795fd5e-e5b4-4c2c-b8e3-b5055461334d"
      },
      "execution_count": null,
      "outputs": [
        {
          "output_type": "error",
          "ename": "ZeroDivisionError",
          "evalue": "ignored",
          "traceback": [
            "\u001b[0;31m---------------------------------------------------------------------------\u001b[0m",
            "\u001b[0;31mZeroDivisionError\u001b[0m                         Traceback (most recent call last)",
            "\u001b[0;32m<ipython-input-32-d2c0889640ff>\u001b[0m in \u001b[0;36m<module>\u001b[0;34m\u001b[0m\n\u001b[0;32m----> 1\u001b[0;31m \u001b[0mprint\u001b[0m\u001b[0;34m(\u001b[0m\u001b[0;36m2\u001b[0m\u001b[0;34m/\u001b[0m\u001b[0;36m0\u001b[0m\u001b[0;34m)\u001b[0m\u001b[0;34m\u001b[0m\u001b[0;34m\u001b[0m\u001b[0m\n\u001b[0m",
            "\u001b[0;31mZeroDivisionError\u001b[0m: division by zero"
          ]
        }
      ]
    },
    {
      "cell_type": "code",
      "source": [
        "# Regular expression-it's a search pattern(you can search anything) "
      ],
      "metadata": {
        "id": "xala7n5bCzDJ"
      },
      "execution_count": null,
      "outputs": []
    },
    {
      "cell_type": "code",
      "source": [
        "import re\n",
        "reg=\"hello, you are welcome\""
      ],
      "metadata": {
        "id": "7V8PFmsdC4h4"
      },
      "execution_count": null,
      "outputs": []
    },
    {
      "cell_type": "code",
      "source": [
        "x=re.search(\"you are\",reg)\n",
        "print(x)"
      ],
      "metadata": {
        "colab": {
          "base_uri": "https://localhost:8080/"
        },
        "id": "OTvjODyaFW_a",
        "outputId": "f4d30472-ae3b-4f25-ab37-515999adf6e5"
      },
      "execution_count": null,
      "outputs": [
        {
          "output_type": "stream",
          "name": "stdout",
          "text": [
            "<re.Match object; span=(7, 14), match='you are'>\n"
          ]
        }
      ]
    },
    {
      "cell_type": "code",
      "source": [
        "print(\"start of the index number\",x.start())\n",
        "print(\"start of the index number\",x.end())"
      ],
      "metadata": {
        "colab": {
          "base_uri": "https://localhost:8080/"
        },
        "id": "atPG-74hFgA8",
        "outputId": "9fe3aab9-db42-4a39-a098-d3d9f992a897"
      },
      "execution_count": null,
      "outputs": [
        {
          "output_type": "stream",
          "name": "stdout",
          "text": [
            "start of the index number 7\n",
            "start of the index number 14\n"
          ]
        }
      ]
    },
    {
      "cell_type": "code",
      "source": [
        "print(reg[7:15])"
      ],
      "metadata": {
        "colab": {
          "base_uri": "https://localhost:8080/"
        },
        "id": "6u5UMUK0F8mT",
        "outputId": "8e5b21e1-c9b9-4c36-a28b-76d272d16cc5"
      },
      "execution_count": null,
      "outputs": [
        {
          "output_type": "stream",
          "name": "stdout",
          "text": [
            "you are \n"
          ]
        }
      ]
    },
    {
      "cell_type": "code",
      "source": [
        "#sub\n",
        "reg=\"hello, you are wellcome\"\n",
        "match=re.sub(\"\\s\",\"and\",reg)\n",
        "print(match)"
      ],
      "metadata": {
        "colab": {
          "base_uri": "https://localhost:8080/"
        },
        "id": "LOxr1BxEGNQJ",
        "outputId": "dca267f0-9ca5-4350-c7aa-d35a62dd9134"
      },
      "execution_count": null,
      "outputs": [
        {
          "output_type": "stream",
          "name": "stdout",
          "text": [
            "hello,andyouandareandwellcome\n"
          ]
        }
      ]
    },
    {
      "cell_type": "code",
      "source": [
        "reg=\"hello, you are wellcome\"\n",
        "match=re.sub(\"\\s\",reg)\n",
        "print(match)"
      ],
      "metadata": {
        "colab": {
          "base_uri": "https://localhost:8080/",
          "height": 200
        },
        "id": "mFWDfI1PG7M8",
        "outputId": "68a7148e-7a82-466a-bf1c-4838970eef53"
      },
      "execution_count": null,
      "outputs": [
        {
          "output_type": "error",
          "ename": "TypeError",
          "evalue": "ignored",
          "traceback": [
            "\u001b[0;31m---------------------------------------------------------------------------\u001b[0m",
            "\u001b[0;31mTypeError\u001b[0m                                 Traceback (most recent call last)",
            "\u001b[0;32m<ipython-input-39-14b0b6483a44>\u001b[0m in \u001b[0;36m<module>\u001b[0;34m\u001b[0m\n\u001b[1;32m      1\u001b[0m \u001b[0mreg\u001b[0m\u001b[0;34m=\u001b[0m\u001b[0;34m\"hello, you are wellcome\"\u001b[0m\u001b[0;34m\u001b[0m\u001b[0;34m\u001b[0m\u001b[0m\n\u001b[0;32m----> 2\u001b[0;31m \u001b[0mmatch\u001b[0m\u001b[0;34m=\u001b[0m\u001b[0mre\u001b[0m\u001b[0;34m.\u001b[0m\u001b[0msub\u001b[0m\u001b[0;34m(\u001b[0m\u001b[0;34m\"\\s\"\u001b[0m\u001b[0;34m,\u001b[0m\u001b[0mreg\u001b[0m\u001b[0;34m)\u001b[0m\u001b[0;34m\u001b[0m\u001b[0;34m\u001b[0m\u001b[0m\n\u001b[0m\u001b[1;32m      3\u001b[0m \u001b[0mprint\u001b[0m\u001b[0;34m(\u001b[0m\u001b[0mmatch\u001b[0m\u001b[0;34m)\u001b[0m\u001b[0;34m\u001b[0m\u001b[0;34m\u001b[0m\u001b[0m\n",
            "\u001b[0;31mTypeError\u001b[0m: sub() missing 1 required positional argument: 'string'"
          ]
        }
      ]
    },
    {
      "cell_type": "code",
      "source": [
        "greet=\"welcome 00099\"\n",
        "match3=re.findall(\"\\d+\",greet)\n",
        "print(match3)"
      ],
      "metadata": {
        "colab": {
          "base_uri": "https://localhost:8080/"
        },
        "id": "iP21D1wrHOW0",
        "outputId": "1c552aa7-1ed4-4ade-b4d0-94136322c3bf"
      },
      "execution_count": null,
      "outputs": [
        {
          "output_type": "stream",
          "name": "stdout",
          "text": [
            "['00099']\n"
          ]
        }
      ]
    },
    {
      "cell_type": "code",
      "source": [
        "import re\n",
        "s=\"hello there, my num is 8740\"\n",
        "d=re.search(\"\\\\d\\-\\d\\dd-\\d\",s)\n",
        "print(d.group(0))"
      ],
      "metadata": {
        "colab": {
          "base_uri": "https://localhost:8080/",
          "height": 200
        },
        "id": "K1bMYNqyJDSH",
        "outputId": "7c6c00cc-5260-470c-de76-1580b79c5dc0"
      },
      "execution_count": null,
      "outputs": [
        {
          "output_type": "error",
          "ename": "AttributeError",
          "evalue": "ignored",
          "traceback": [
            "\u001b[0;31m---------------------------------------------------------------------------\u001b[0m",
            "\u001b[0;31mAttributeError\u001b[0m                            Traceback (most recent call last)",
            "\u001b[0;32m<ipython-input-41-a53a3b4899ca>\u001b[0m in \u001b[0;36m<module>\u001b[0;34m\u001b[0m\n\u001b[1;32m      2\u001b[0m \u001b[0ms\u001b[0m\u001b[0;34m=\u001b[0m\u001b[0;34m\"hello there, my num is 8740\"\u001b[0m\u001b[0;34m\u001b[0m\u001b[0;34m\u001b[0m\u001b[0m\n\u001b[1;32m      3\u001b[0m \u001b[0md\u001b[0m\u001b[0;34m=\u001b[0m\u001b[0mre\u001b[0m\u001b[0;34m.\u001b[0m\u001b[0msearch\u001b[0m\u001b[0;34m(\u001b[0m\u001b[0;34m\"\\\\d\\-\\d\\dd-\\d\"\u001b[0m\u001b[0;34m,\u001b[0m\u001b[0ms\u001b[0m\u001b[0;34m)\u001b[0m\u001b[0;34m\u001b[0m\u001b[0;34m\u001b[0m\u001b[0m\n\u001b[0;32m----> 4\u001b[0;31m \u001b[0mprint\u001b[0m\u001b[0;34m(\u001b[0m\u001b[0md\u001b[0m\u001b[0;34m.\u001b[0m\u001b[0mgroup\u001b[0m\u001b[0;34m(\u001b[0m\u001b[0;36m0\u001b[0m\u001b[0;34m)\u001b[0m\u001b[0;34m)\u001b[0m\u001b[0;34m\u001b[0m\u001b[0;34m\u001b[0m\u001b[0m\n\u001b[0m",
            "\u001b[0;31mAttributeError\u001b[0m: 'NoneType' object has no attribute 'group'"
          ]
        }
      ]
    },
    {
      "cell_type": "code",
      "source": [
        "#lambda function\n",
        "def a(a,d):\n",
        "  print(a,d)\n",
        "a(1,2)"
      ],
      "metadata": {
        "colab": {
          "base_uri": "https://localhost:8080/"
        },
        "id": "vl94WHSuJX3c",
        "outputId": "2a069292-2092-4a4e-d3d7-886e9018251e"
      },
      "execution_count": null,
      "outputs": [
        {
          "output_type": "stream",
          "name": "stdout",
          "text": [
            "1 2\n"
          ]
        }
      ]
    },
    {
      "cell_type": "code",
      "source": [
        "x=lambda x:x+10/32\n",
        "(x(4))"
      ],
      "metadata": {
        "colab": {
          "base_uri": "https://localhost:8080/"
        },
        "id": "I77bEUwWJghr",
        "outputId": "72c24d6e-3540-4d6a-d20d-edcd604f7f80"
      },
      "execution_count": null,
      "outputs": [
        {
          "output_type": "execute_result",
          "data": {
            "text/plain": [
              "4.3125"
            ]
          },
          "metadata": {},
          "execution_count": 45
        }
      ]
    },
    {
      "cell_type": "code",
      "source": [
        "x1=lambda x,y,z:x+y+z\n",
        "print(x1(4,3,2))"
      ],
      "metadata": {
        "colab": {
          "base_uri": "https://localhost:8080/"
        },
        "id": "b6T2UKEeJvrF",
        "outputId": "64c59cf2-74de-4bb1-c372-6177bf8c226e"
      },
      "execution_count": null,
      "outputs": [
        {
          "output_type": "stream",
          "name": "stdout",
          "text": [
            "9\n"
          ]
        }
      ]
    },
    {
      "cell_type": "code",
      "source": [
        "print((lambda a,b,c:a+b+c)(1,2,3))"
      ],
      "metadata": {
        "colab": {
          "base_uri": "https://localhost:8080/"
        },
        "id": "vxjwvXBJKDBm",
        "outputId": "602396cc-32c9-4215-b1b2-b70a89c0b4fa"
      },
      "execution_count": null,
      "outputs": [
        {
          "output_type": "stream",
          "name": "stdout",
          "text": [
            "6\n"
          ]
        }
      ]
    },
    {
      "cell_type": "code",
      "source": [
        "tables=[lambda x=x:x*10 for x in range (1,11)]\n",
        "for table in tables:\n",
        "  print(table())"
      ],
      "metadata": {
        "colab": {
          "base_uri": "https://localhost:8080/"
        },
        "id": "lDX1igoTKM9z",
        "outputId": "d851f2a3-c695-45b6-d54a-b8f9efd965fb"
      },
      "execution_count": null,
      "outputs": [
        {
          "output_type": "stream",
          "name": "stdout",
          "text": [
            "10\n",
            "20\n",
            "30\n",
            "40\n",
            "50\n",
            "60\n",
            "70\n",
            "80\n",
            "90\n",
            "100\n"
          ]
        }
      ]
    },
    {
      "cell_type": "code",
      "source": [
        "tables=[lambda x:x*10 for x in range (1,5)]\n",
        "for table in tables:\n",
        "  print(table(4))"
      ],
      "metadata": {
        "colab": {
          "base_uri": "https://localhost:8080/"
        },
        "id": "yFOzSsp5KyX4",
        "outputId": "2252da19-5267-49da-d4b3-b131ed4387bc"
      },
      "execution_count": null,
      "outputs": [
        {
          "output_type": "stream",
          "name": "stdout",
          "text": [
            "40\n",
            "40\n",
            "40\n",
            "40\n"
          ]
        }
      ]
    },
    {
      "cell_type": "code",
      "source": [
        "y=lambda a,b: a if(a>b) else b\n",
        "print(y(3,2))"
      ],
      "metadata": {
        "colab": {
          "base_uri": "https://localhost:8080/"
        },
        "id": "YO8OU5J4LSeQ",
        "outputId": "2268c023-6321-4379-9d7c-6e177ec145f8"
      },
      "execution_count": null,
      "outputs": [
        {
          "output_type": "stream",
          "name": "stdout",
          "text": [
            "3\n"
          ]
        }
      ]
    },
    {
      "cell_type": "code",
      "source": [],
      "metadata": {
        "id": "YKXuuXedLg6D"
      },
      "execution_count": null,
      "outputs": []
    },
    {
      "cell_type": "markdown",
      "source": [
        "CLASS 10"
      ],
      "metadata": {
        "id": "cJphSm4nHR-q"
      }
    },
    {
      "cell_type": "code",
      "source": [
        "#oops-> object oriented programming\n",
        "# few fundamentals concepts on oop\n"
      ],
      "metadata": {
        "id": "pMwmZvKCHTe6"
      },
      "execution_count": null,
      "outputs": []
    },
    {
      "cell_type": "code",
      "source": [
        "#class-> it is a blueprint for creating objects\n",
        "class event():\n",
        "  processor=\"intel IS\"\n",
        "  display=\"the data is displayed in full HD\" \n",
        "event.processor=\"Intel I7\" "
      ],
      "metadata": {
        "id": "EinUXgMHHnQb"
      },
      "execution_count": null,
      "outputs": []
    },
    {
      "cell_type": "code",
      "source": [
        "object1=event()\n",
        "object2=event()\n",
        "object3=event()\n",
        "print(object1.processor)\n",
        "print(object1.display)\n",
        "print(object2.processor)\n",
        "print(object3.processor)"
      ],
      "metadata": {
        "colab": {
          "base_uri": "https://localhost:8080/"
        },
        "id": "RR1bZRGXJLHE",
        "outputId": "36ec171d-9dbf-4d78-8237-db452ce5916f"
      },
      "execution_count": null,
      "outputs": [
        {
          "output_type": "stream",
          "name": "stdout",
          "text": [
            "Intel I7\n",
            "the data is displayed in full HD\n",
            "Intel I7\n",
            "Intel I7\n"
          ]
        }
      ]
    },
    {
      "cell_type": "code",
      "source": [
        "class employee:\n",
        "  company=\"Google\"\n",
        "  emp_id=\"2222\"\n",
        "employee.company=\"microsoft\"\n"
      ],
      "metadata": {
        "id": "fCukU2jdJp1d"
      },
      "execution_count": null,
      "outputs": []
    },
    {
      "cell_type": "code",
      "source": [
        "object1=employee()\n",
        "print(object1.company)\n"
      ],
      "metadata": {
        "colab": {
          "base_uri": "https://localhost:8080/"
        },
        "id": "mN7rxZxhK_JH",
        "outputId": "00b8f0a0-d7cc-447d-c651-26adeedebee5"
      },
      "execution_count": null,
      "outputs": [
        {
          "output_type": "stream",
          "name": "stdout",
          "text": [
            "microsoft\n"
          ]
        }
      ]
    },
    {
      "cell_type": "code",
      "source": [
        "object1.company=\"google\"\n",
        "print(object1.company)"
      ],
      "metadata": {
        "colab": {
          "base_uri": "https://localhost:8080/"
        },
        "id": "WM7Rl-trLH_u",
        "outputId": "f31981cf-9d96-4b1b-adba-63bf42b07337"
      },
      "execution_count": null,
      "outputs": [
        {
          "output_type": "stream",
          "name": "stdout",
          "text": [
            "google\n"
          ]
        }
      ]
    },
    {
      "cell_type": "code",
      "source": [
        "#instance attribute\n",
        "class event():\n",
        "  processor=\"intel IS\"\n",
        "  display=\"the data is displayed in full HD\" \n",
        "  #instance attribute\n",
        "  # def __init__(self,color):\n",
        "  #   self.color=color\n",
        "  def task(self):\n",
        "    print(\"hello\")\n",
        "\n",
        "\n",
        "event.processor=\"Intel I7\" \n",
        "\n"
      ],
      "metadata": {
        "id": "8dPKyTbaL6jk"
      },
      "execution_count": null,
      "outputs": []
    },
    {
      "cell_type": "code",
      "source": [
        "# object1=event()\n",
        "# object2=event()\n",
        "# object3=event()\n",
        "# obj3.processor=\"Pentium\"\n",
        "\n",
        "# print(object1.processor)\n",
        "# print(object1.display)\n",
        "# print(object2.processor)\n",
        "# print(object3.processor)\n",
        "# print(obj3.processor)"
      ],
      "metadata": {
        "id": "rilWbtCCNj6P"
      },
      "execution_count": null,
      "outputs": []
    },
    {
      "cell_type": "code",
      "source": [
        "myobj1=event(\"red\")\n",
        "myobj2=event(\"Black\")\n",
        "print(myobj1.processor, myjob1.color)"
      ],
      "metadata": {
        "colab": {
          "base_uri": "https://localhost:8080/",
          "height": 200
        },
        "id": "_JEx3C6_NCg6",
        "outputId": "3b51c772-260a-4f27-fddd-9c22451a5659"
      },
      "execution_count": null,
      "outputs": [
        {
          "output_type": "error",
          "ename": "TypeError",
          "evalue": "ignored",
          "traceback": [
            "\u001b[0;31m---------------------------------------------------------------------------\u001b[0m",
            "\u001b[0;31mTypeError\u001b[0m                                 Traceback (most recent call last)",
            "\u001b[0;32m<ipython-input-32-2ef9bc9f0741>\u001b[0m in \u001b[0;36m<module>\u001b[0;34m\u001b[0m\n\u001b[0;32m----> 1\u001b[0;31m \u001b[0mmyobj1\u001b[0m\u001b[0;34m=\u001b[0m\u001b[0mevent\u001b[0m\u001b[0;34m(\u001b[0m\u001b[0;34m\"red\"\u001b[0m\u001b[0;34m)\u001b[0m\u001b[0;34m\u001b[0m\u001b[0;34m\u001b[0m\u001b[0m\n\u001b[0m\u001b[1;32m      2\u001b[0m \u001b[0mmyobj2\u001b[0m\u001b[0;34m=\u001b[0m\u001b[0mevent\u001b[0m\u001b[0;34m(\u001b[0m\u001b[0;34m\"Black\"\u001b[0m\u001b[0;34m)\u001b[0m\u001b[0;34m\u001b[0m\u001b[0;34m\u001b[0m\u001b[0m\n\u001b[1;32m      3\u001b[0m \u001b[0mprint\u001b[0m\u001b[0;34m(\u001b[0m\u001b[0mmyobj1\u001b[0m\u001b[0;34m.\u001b[0m\u001b[0mprocessor\u001b[0m\u001b[0;34m,\u001b[0m \u001b[0mmyjob1\u001b[0m\u001b[0;34m.\u001b[0m\u001b[0mcolor\u001b[0m\u001b[0;34m)\u001b[0m\u001b[0;34m\u001b[0m\u001b[0;34m\u001b[0m\u001b[0m\n",
            "\u001b[0;31mTypeError\u001b[0m: event() takes no arguments"
          ]
        }
      ]
    },
    {
      "cell_type": "code",
      "source": [
        "myobj=event()\n",
        "myobj.task()"
      ],
      "metadata": {
        "colab": {
          "base_uri": "https://localhost:8080/"
        },
        "id": "Wy86kkHJOz4Q",
        "outputId": "2ce9ceed-982c-417d-f0f8-a43d546a4f54"
      },
      "execution_count": null,
      "outputs": [
        {
          "output_type": "stream",
          "name": "stdout",
          "text": [
            "hello\n"
          ]
        }
      ]
    },
    {
      "cell_type": "code",
      "source": [
        "#inheritance\n",
        "class event():\n",
        "  processor=\"intel IS\"\n",
        "  display=\"the data is displayed in full HD\" \n",
        "  #instance attribute\n",
        "  # def __init__(self,color):\n",
        "  #   self.color=color\n",
        "  # def task(self):\n",
        "  #   print(\"hello\")\n",
        "\n",
        "class game(event):\n",
        "  def __init__(self,color,camera):\n",
        "    self.camera=camera\n",
        "  def simple(self):\n",
        "    print(\"this is game class which is inhertited class from event\")\n",
        "\n",
        "\n",
        "event.processor=\"Intel I7\" \n"
      ],
      "metadata": {
        "id": "5GqFWLJ3P3y7"
      },
      "execution_count": null,
      "outputs": []
    },
    {
      "cell_type": "code",
      "source": [
        "object4=game(\"white\",\"HP\")\n",
        "print(object4.camera,object4.processor,object4.display)\n",
        "object4.simple()\n"
      ],
      "metadata": {
        "colab": {
          "base_uri": "https://localhost:8080/"
        },
        "id": "QWsap4EARw9Y",
        "outputId": "718924da-bba6-4caf-f781-0b0962bbfd23"
      },
      "execution_count": null,
      "outputs": [
        {
          "output_type": "stream",
          "name": "stdout",
          "text": [
            "HP Intel I7 the data is displayed in full HD\n",
            "this is game class which is inhertited class from event\n"
          ]
        }
      ]
    },
    {
      "cell_type": "code",
      "source": [
        "#Encapsulation\n",
        "class admin():\n",
        "    def __init__(a,username,password):\n",
        "      a.username=username\n",
        "      # a.password=password\n",
        "    #hide password\n",
        "      a.__password=password       #it will show eror\n",
        "    #so use this\n",
        "    def secret(a):\n",
        "      print(a.__password)\n",
        "\n",
        "\n"
      ],
      "metadata": {
        "id": "BcnfoCvNSWd3"
      },
      "execution_count": null,
      "outputs": []
    },
    {
      "cell_type": "code",
      "source": [
        "obj5=admin(\"admin\",\"pass\")\n",
        "print(obj5.username)\n",
        "# print(obj5.password)\n",
        "obj5.secret()"
      ],
      "metadata": {
        "colab": {
          "base_uri": "https://localhost:8080/"
        },
        "id": "IBhdYK8dTp_g",
        "outputId": "7c4a1084-3175-4a47-c3f2-a57a07a373fd"
      },
      "execution_count": null,
      "outputs": [
        {
          "output_type": "stream",
          "name": "stdout",
          "text": [
            "admin\n",
            "pass\n"
          ]
        }
      ]
    },
    {
      "cell_type": "markdown",
      "source": [
        "CLASS 11"
      ],
      "metadata": {
        "id": "W2NpcAi0Jsa9"
      }
    },
    {
      "cell_type": "code",
      "source": [
        "  #Polymorphism-creating multiple forms\n",
        "  class Bird():\n",
        "    def intro(self):\n",
        "      print(\"there are diff type of birds\")\n",
        "    def fly(self):\n",
        "      print(\"most of the birds can't fly\")\n",
        "  class Parrot(Bird):\n",
        "    def fly(self):\n",
        "      print(\"parrot can fly\")\n",
        "  class Penguin(Bird):\n",
        "    def fly(self):\n",
        "      print(\"penguin can not fly\")"
      ],
      "metadata": {
        "id": "U4WwaweSUAUU"
      },
      "execution_count": null,
      "outputs": []
    },
    {
      "cell_type": "code",
      "source": [
        "obj_Bird=Bird()\n",
        "obj_parr=Parrot()\n",
        "obj_peng=Penguin()\n",
        "\n",
        "obj_Bird.intro()\n",
        "obj_parr.intro()\n",
        "obj_peng.intro()\n",
        "\n",
        "obj_Bird.fly()\n",
        "obj_parr.fly()\n",
        "obj_peng.fly()\n",
        "\n",
        "\n"
      ],
      "metadata": {
        "colab": {
          "base_uri": "https://localhost:8080/"
        },
        "id": "cBVW-r72Kc4c",
        "outputId": "446a561c-fa0f-47b9-ddc8-155957e4a5d9"
      },
      "execution_count": null,
      "outputs": [
        {
          "output_type": "stream",
          "name": "stdout",
          "text": [
            "there are diff type of birds\n",
            "there are diff type of birds\n",
            "there are diff type of birds\n",
            "most of the birds can't fly\n",
            "parrot can fly\n",
            "penguin can not fly\n"
          ]
        }
      ]
    },
    {
      "cell_type": "code",
      "source": [
        "class department():\n",
        "  def employee(self):\n",
        "    print(\"active employee\")\n",
        "  def salary(self):\n",
        "    print(\"8 lac\")\n",
        "class new(department):\n",
        "  def salary(self):\n",
        "    print(\"12 lac\")\n"
      ],
      "metadata": {
        "id": "l7533cxzL75f"
      },
      "execution_count": null,
      "outputs": []
    },
    {
      "cell_type": "code",
      "source": [
        "obj_dep=department()\n",
        "obj_new=new()\n",
        "\n",
        "obj_dep.employee()\n",
        "obj_new.employee()\n",
        "\n",
        "obj_dep.salary()\n",
        "obj_new.salary()"
      ],
      "metadata": {
        "colab": {
          "base_uri": "https://localhost:8080/"
        },
        "id": "bd1ZVIGFNCOr",
        "outputId": "5fe3d048-b54f-46aa-972c-41216a8ce92d"
      },
      "execution_count": null,
      "outputs": [
        {
          "output_type": "stream",
          "name": "stdout",
          "text": [
            "active employee\n",
            "active employee\n",
            "8 lac\n",
            "12 lac\n"
          ]
        }
      ]
    },
    {
      "cell_type": "code",
      "source": [
        "#String formatting-two types\n",
        "#1. %operator\n",
        "#2. .format()\n",
        "#3. fstring\n",
        "#4. string template class \n",
        "\n"
      ],
      "metadata": {
        "id": "Yc6Jz1uyNr7X"
      },
      "execution_count": null,
      "outputs": []
    },
    {
      "cell_type": "code",
      "source": [
        "print(\"hello %s,welcome all\"%\"class\")"
      ],
      "metadata": {
        "colab": {
          "base_uri": "https://localhost:8080/"
        },
        "id": "Z_ncOzrQOe1P",
        "outputId": "48b7e268-83fb-4d15-9ff8-84422b8c95ab"
      },
      "execution_count": null,
      "outputs": [
        {
          "output_type": "stream",
          "name": "stdout",
          "text": [
            "hello class,welcome all\n"
          ]
        }
      ]
    },
    {
      "cell_type": "code",
      "source": [
        "print(\"hai %s,welcome %s\" %(\"khushi\",\"how are you\"))"
      ],
      "metadata": {
        "colab": {
          "base_uri": "https://localhost:8080/"
        },
        "id": "Q65BtbyAOytA",
        "outputId": "e78dcabd-33e0-4c99-bee0-ba266e920593"
      },
      "execution_count": null,
      "outputs": [
        {
          "output_type": "stream",
          "name": "stdout",
          "text": [
            "hai khushi,welcome how are you\n"
          ]
        }
      ]
    },
    {
      "cell_type": "code",
      "source": [
        "print(\"hello {2}, you are {0},batch {1}\".format(\"welcome\",2022,\"all\"))"
      ],
      "metadata": {
        "colab": {
          "base_uri": "https://localhost:8080/"
        },
        "id": "mmy0JlBZPPkr",
        "outputId": "03862e9b-c924-412d-e859-e83460764e31"
      },
      "execution_count": null,
      "outputs": [
        {
          "output_type": "stream",
          "name": "stdout",
          "text": [
            "hello all, you are welcome,batch 2022\n"
          ]
        }
      ]
    },
    {
      "cell_type": "code",
      "source": [
        "print(\"hello:{a}\".format(a=\"class you are welcome\"))"
      ],
      "metadata": {
        "colab": {
          "base_uri": "https://localhost:8080/"
        },
        "id": "Y3hEGd7wPxFe",
        "outputId": "f0e36284-1723-41a6-9942-6130b6cd5c12"
      },
      "execution_count": null,
      "outputs": [
        {
          "output_type": "stream",
          "name": "stdout",
          "text": [
            "hello:class you are welcome\n"
          ]
        }
      ]
    },
    {
      "cell_type": "code",
      "source": [
        "name=\"khushi\"\n",
        "print(\"my favorite is \" +name)"
      ],
      "metadata": {
        "colab": {
          "base_uri": "https://localhost:8080/"
        },
        "id": "Swq1sjEqQU9k",
        "outputId": "8bf6235e-1a97-4edd-c4a7-71c28d555d69"
      },
      "execution_count": null,
      "outputs": [
        {
          "output_type": "stream",
          "name": "stdout",
          "text": [
            "my favorite is khushi\n"
          ]
        }
      ]
    },
    {
      "cell_type": "code",
      "source": [
        "n1=1234\n",
        "n2=127.22\n",
        "print(f\"the addition is {n1+n2}\")"
      ],
      "metadata": {
        "colab": {
          "base_uri": "https://localhost:8080/"
        },
        "id": "HT8sV75lQxBJ",
        "outputId": "cb117a3c-913a-47df-f8bc-62e7ae7dc5d8"
      },
      "execution_count": null,
      "outputs": [
        {
          "output_type": "stream",
          "name": "stdout",
          "text": [
            "the addition is 1361.22\n"
          ]
        }
      ]
    },
    {
      "cell_type": "code",
      "source": [
        "#assignment4 -string template class with example"
      ],
      "metadata": {
        "id": "Z-IbUPz_Q94G"
      },
      "execution_count": null,
      "outputs": []
    },
    {
      "cell_type": "code",
      "source": [
        "#python decoraators- use to modify the code with decorator without change the name function \n",
        "def greet():\n",
        "  print(\"hello all\")"
      ],
      "metadata": {
        "id": "WdkUbWYLRoHk"
      },
      "execution_count": null,
      "outputs": []
    },
    {
      "cell_type": "code",
      "source": [
        "greet1=greet()\n",
        "greet1\n",
        "greet()"
      ],
      "metadata": {
        "colab": {
          "base_uri": "https://localhost:8080/"
        },
        "id": "A3GbXACTRsZ1",
        "outputId": "b86961be-4ba4-4ba0-96d0-cd5290560317"
      },
      "execution_count": null,
      "outputs": [
        {
          "output_type": "stream",
          "name": "stdout",
          "text": [
            "hello all\n",
            "hello all\n"
          ]
        }
      ]
    },
    {
      "cell_type": "code",
      "source": [
        "def increment(num1):\n",
        "  return num1+1\n",
        "def decrement(num1):\n",
        "  return num1-1"
      ],
      "metadata": {
        "id": "Km1QjIFyR7ET"
      },
      "execution_count": null,
      "outputs": []
    },
    {
      "cell_type": "code",
      "source": [
        "increment(10)"
      ],
      "metadata": {
        "colab": {
          "base_uri": "https://localhost:8080/"
        },
        "id": "WTVhVCxMSsU6",
        "outputId": "64ffaff1-c0b4-452b-be86-ec972b1f96e2"
      },
      "execution_count": null,
      "outputs": [
        {
          "output_type": "execute_result",
          "data": {
            "text/plain": [
              "11"
            ]
          },
          "metadata": {},
          "execution_count": 30
        }
      ]
    },
    {
      "cell_type": "code",
      "source": [
        "decrement(11)"
      ],
      "metadata": {
        "colab": {
          "base_uri": "https://localhost:8080/"
        },
        "id": "x_TydUUYSwY_",
        "outputId": "d8ca2a87-d4e6-496a-b1e0-aac186deb0a3"
      },
      "execution_count": null,
      "outputs": [
        {
          "output_type": "execute_result",
          "data": {
            "text/plain": [
              "10"
            ]
          },
          "metadata": {},
          "execution_count": 31
        }
      ]
    },
    {
      "cell_type": "code",
      "source": [
        "def incdec(func,num1):\n",
        "  result=func(num1)\n",
        "  return result\n",
        "incdec(increment,10)\n",
        "incdec(decrement,10)"
      ],
      "metadata": {
        "colab": {
          "base_uri": "https://localhost:8080/"
        },
        "id": "OPlmfBYySyZz",
        "outputId": "6170fe8a-e30d-4fc7-dbb4-1c02da48dc12"
      },
      "execution_count": null,
      "outputs": [
        {
          "output_type": "execute_result",
          "data": {
            "text/plain": [
              "9"
            ]
          },
          "metadata": {},
          "execution_count": 33
        }
      ]
    },
    {
      "cell_type": "code",
      "source": [
        "def sum(n1,n2):\n",
        "  return (n1+n2)\n",
        "def sub(n1,n2):\n",
        "  return (n1-n2)\n"
      ],
      "metadata": {
        "id": "JDRxcWZNTTby"
      },
      "execution_count": null,
      "outputs": []
    },
    {
      "cell_type": "code",
      "source": [
        "def sumsub(func,n1,n2):\n",
        "  result=func(n1,n2)\n",
        "  return result\n",
        "sumsub(sum,10,5)"
      ],
      "metadata": {
        "colab": {
          "base_uri": "https://localhost:8080/"
        },
        "id": "PfcbvbKPT3s8",
        "outputId": "af0c0df6-1f87-4e67-d4f5-a0df314c7984"
      },
      "execution_count": null,
      "outputs": [
        {
          "output_type": "execute_result",
          "data": {
            "text/plain": [
              "15"
            ]
          },
          "metadata": {},
          "execution_count": 38
        }
      ]
    },
    {
      "cell_type": "code",
      "source": [
        "a=\"khushi\"\n",
        "b=\"teachnook\"\n",
        "print(f\"hai \" +a, \"welcome to \" +b)"
      ],
      "metadata": {
        "colab": {
          "base_uri": "https://localhost:8080/"
        },
        "id": "NJOT5dl3Uo7R",
        "outputId": "320f3f2d-14fd-4b73-ab65-5894aaabc766"
      },
      "execution_count": null,
      "outputs": [
        {
          "output_type": "stream",
          "name": "stdout",
          "text": [
            "hai khushi welcome to teachnook\n"
          ]
        }
      ]
    },
    {
      "cell_type": "code",
      "source": [
        "#Assignment5=create a BMI calculator"
      ],
      "metadata": {
        "id": "NK67beJrWOAc"
      },
      "execution_count": null,
      "outputs": []
    },
    {
      "cell_type": "code",
      "source": [],
      "metadata": {
        "id": "fFAg7fSlYBpQ"
      },
      "execution_count": null,
      "outputs": []
    }
  ]
}