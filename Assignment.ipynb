{
  "nbformat": 4,
  "nbformat_minor": 0,
  "metadata": {
    "colab": {
      "provenance": [],
      "collapsed_sections": []
    },
    "kernelspec": {
      "name": "python3",
      "display_name": "Python 3"
    },
    "language_info": {
      "name": "python"
    }
  },
  "cells": [
    {
      "cell_type": "markdown",
      "source": [
        "### **List**:  Ordered collection of datatypes,[ ],mutable(changable)"
      ],
      "metadata": {
        "id": "o5T4lqHkXjS1"
      }
    },
    {
      "cell_type": "code",
      "source": [
        "list=[\"khushi\",\"Want to be Data-Scientist in\",2022,True]"
      ],
      "metadata": {
        "id": "K2GOBuDAXfvK"
      },
      "execution_count": 1,
      "outputs": []
    },
    {
      "cell_type": "code",
      "source": [
        "print(type(list))"
      ],
      "metadata": {
        "colab": {
          "base_uri": "https://localhost:8080/"
        },
        "id": "U6YLP-BeYQny",
        "outputId": "ee13e747-b67c-4de6-9347-eee787af0356"
      },
      "execution_count": 2,
      "outputs": [
        {
          "output_type": "stream",
          "name": "stdout",
          "text": [
            "<class 'list'>\n"
          ]
        }
      ]
    },
    {
      "cell_type": "code",
      "source": [
        "print(list)"
      ],
      "metadata": {
        "colab": {
          "base_uri": "https://localhost:8080/"
        },
        "id": "CyCe4UgIYVlw",
        "outputId": "51c65d2a-b2e5-4a16-a20f-96d45deaf575"
      },
      "execution_count": 3,
      "outputs": [
        {
          "output_type": "stream",
          "name": "stdout",
          "text": [
            "['khushi', 'Want to be Data-Scientist in', 2022, True]\n"
          ]
        }
      ]
    },
    {
      "cell_type": "code",
      "source": [
        "#indexing"
      ],
      "metadata": {
        "id": "jtiMSWwcYckl"
      },
      "execution_count": 4,
      "outputs": []
    },
    {
      "cell_type": "code",
      "source": [
        "print(list[0])"
      ],
      "metadata": {
        "colab": {
          "base_uri": "https://localhost:8080/"
        },
        "id": "Whcs50vaYjfe",
        "outputId": "b631ce76-24b2-42d9-ee42-a2842c807a5f"
      },
      "execution_count": 5,
      "outputs": [
        {
          "output_type": "stream",
          "name": "stdout",
          "text": [
            "khushi\n"
          ]
        }
      ]
    },
    {
      "cell_type": "code",
      "source": [
        "#slicing\n",
        "print(list[0:1])\n",
        "print(list[0:2])\n",
        "print(list[0:3])\n",
        "print(list[0:4])\n"
      ],
      "metadata": {
        "colab": {
          "base_uri": "https://localhost:8080/"
        },
        "id": "iaZyU0j6Ym1e",
        "outputId": "73ef4f9e-4b1f-476d-eb50-06eac90a8b10"
      },
      "execution_count": 6,
      "outputs": [
        {
          "output_type": "stream",
          "name": "stdout",
          "text": [
            "['khushi']\n",
            "['khushi', 'Want to be Data-Scientist in']\n",
            "['khushi', 'Want to be Data-Scientist in', 2022]\n",
            "['khushi', 'Want to be Data-Scientist in', 2022, True]\n"
          ]
        }
      ]
    },
    {
      "cell_type": "code",
      "source": [
        "#negative slicing\n",
        "print(list[-4:-3])\n",
        "print(list[-4:-2])\n",
        "print(list[-4:-1])\n",
        "print(list[-4:])"
      ],
      "metadata": {
        "colab": {
          "base_uri": "https://localhost:8080/"
        },
        "id": "VyLMlSGaY6GB",
        "outputId": "c41f99dd-b099-44c0-d88c-e3f6bc590445"
      },
      "execution_count": 7,
      "outputs": [
        {
          "output_type": "stream",
          "name": "stdout",
          "text": [
            "['khushi']\n",
            "['khushi', 'Want to be Data-Scientist in']\n",
            "['khushi', 'Want to be Data-Scientist in', 2022]\n",
            "['khushi', 'Want to be Data-Scientist in', 2022, True]\n"
          ]
        }
      ]
    },
    {
      "cell_type": "code",
      "source": [
        "#list methods\n",
        "#sort\n",
        "num=[1,7,4,5,9,6,3,2]\n",
        "num.sort()\n",
        "print(num)"
      ],
      "metadata": {
        "colab": {
          "base_uri": "https://localhost:8080/"
        },
        "id": "v8gdiWMzZKzj",
        "outputId": "9cebd179-183d-402b-de9a-41d4af28c29f"
      },
      "execution_count": 8,
      "outputs": [
        {
          "output_type": "stream",
          "name": "stdout",
          "text": [
            "[1, 2, 3, 4, 5, 6, 7, 9]\n"
          ]
        }
      ]
    },
    {
      "cell_type": "code",
      "source": [
        "#reverse\n",
        "num.reverse()\n",
        "print(num)"
      ],
      "metadata": {
        "colab": {
          "base_uri": "https://localhost:8080/"
        },
        "id": "6uDveowNagad",
        "outputId": "0d2536ba-e7c3-4dfe-99cd-31855ac28b87"
      },
      "execution_count": 9,
      "outputs": [
        {
          "output_type": "stream",
          "name": "stdout",
          "text": [
            "[9, 7, 6, 5, 4, 3, 2, 1]\n"
          ]
        }
      ]
    },
    {
      "cell_type": "code",
      "source": [
        "#append\n",
        "num.append(10) #in append add at last \n",
        "print(num)"
      ],
      "metadata": {
        "colab": {
          "base_uri": "https://localhost:8080/"
        },
        "id": "xNu3euWbaoBi",
        "outputId": "647d2417-f809-45f9-b94a-e38179ba6b44"
      },
      "execution_count": 10,
      "outputs": [
        {
          "output_type": "stream",
          "name": "stdout",
          "text": [
            "[9, 7, 6, 5, 4, 3, 2, 1, 10]\n"
          ]
        }
      ]
    },
    {
      "cell_type": "code",
      "source": [
        "#insert\n",
        "num.insert(3,8) #add 8 at index 3\n",
        "print(num)\n",
        "\n",
        "list.insert(1,\"Yadav\")\n",
        "print(list)"
      ],
      "metadata": {
        "colab": {
          "base_uri": "https://localhost:8080/"
        },
        "id": "Rnv44tZ6bF54",
        "outputId": "55a420e5-fe13-484e-ae52-7c769ff2aaab"
      },
      "execution_count": 11,
      "outputs": [
        {
          "output_type": "stream",
          "name": "stdout",
          "text": [
            "[9, 7, 6, 8, 5, 4, 3, 2, 1, 10]\n",
            "['khushi', 'Yadav', 'Want to be Data-Scientist in', 2022, True]\n"
          ]
        }
      ]
    },
    {
      "cell_type": "code",
      "source": [
        "#pop\n",
        "num.pop(3)"
      ],
      "metadata": {
        "colab": {
          "base_uri": "https://localhost:8080/"
        },
        "id": "heSwNVfXb5hP",
        "outputId": "d694570e-0737-4ba9-851d-d4ebe1c7b298"
      },
      "execution_count": 12,
      "outputs": [
        {
          "output_type": "execute_result",
          "data": {
            "text/plain": [
              "8"
            ]
          },
          "metadata": {},
          "execution_count": 12
        }
      ]
    },
    {
      "cell_type": "code",
      "source": [
        "print(num)"
      ],
      "metadata": {
        "colab": {
          "base_uri": "https://localhost:8080/"
        },
        "id": "EtLbEg4JcIpX",
        "outputId": "49897961-607c-4695-f9e2-260cf050362d"
      },
      "execution_count": 13,
      "outputs": [
        {
          "output_type": "stream",
          "name": "stdout",
          "text": [
            "[9, 7, 6, 5, 4, 3, 2, 1, 10]\n"
          ]
        }
      ]
    },
    {
      "cell_type": "code",
      "source": [
        "#remove\n",
        "num.remove(10)\n",
        "print(num)"
      ],
      "metadata": {
        "colab": {
          "base_uri": "https://localhost:8080/"
        },
        "id": "uESuLDJEcL54",
        "outputId": "e9ef64f3-3ac2-4f1a-d2db-20beea1f9c37"
      },
      "execution_count": 14,
      "outputs": [
        {
          "output_type": "stream",
          "name": "stdout",
          "text": [
            "[9, 7, 6, 5, 4, 3, 2, 1]\n"
          ]
        }
      ]
    },
    {
      "cell_type": "code",
      "source": [
        "#update\n",
        "num[1]=10\n",
        "print(num)"
      ],
      "metadata": {
        "colab": {
          "base_uri": "https://localhost:8080/"
        },
        "id": "OTSjMQs5cV1J",
        "outputId": "299caf92-4cde-4d1e-d9fe-bd25cbad29e9"
      },
      "execution_count": 15,
      "outputs": [
        {
          "output_type": "stream",
          "name": "stdout",
          "text": [
            "[9, 10, 6, 5, 4, 3, 2, 1]\n"
          ]
        }
      ]
    },
    {
      "cell_type": "code",
      "source": [
        "#delet\n",
        "del(num[1])\n",
        "print(num)"
      ],
      "metadata": {
        "colab": {
          "base_uri": "https://localhost:8080/"
        },
        "id": "M59qlQDTck7S",
        "outputId": "126c7357-243e-4540-bb3e-a7617d578ab3"
      },
      "execution_count": 16,
      "outputs": [
        {
          "output_type": "stream",
          "name": "stdout",
          "text": [
            "[9, 6, 5, 4, 3, 2, 1]\n"
          ]
        }
      ]
    },
    {
      "cell_type": "code",
      "source": [
        "#so we append,delet,pop,update etc so we say list is mutable "
      ],
      "metadata": {
        "id": "m6TNPNMXdG3t"
      },
      "execution_count": 17,
      "outputs": []
    },
    {
      "cell_type": "markdown",
      "source": [
        "**TUPLE** : ordered collection of data types,( ),immutable"
      ],
      "metadata": {
        "id": "LZqZUnQzeUcM"
      }
    },
    {
      "cell_type": "code",
      "source": [
        "tuple=(\"khushi\",\"Want to be Data-Scientist in\",2022,True)"
      ],
      "metadata": {
        "id": "94zNzYSGeaA6"
      },
      "execution_count": 18,
      "outputs": []
    },
    {
      "cell_type": "code",
      "source": [
        "print(type(tuple))"
      ],
      "metadata": {
        "colab": {
          "base_uri": "https://localhost:8080/"
        },
        "id": "vM2hgKJNenfi",
        "outputId": "e9787ab6-317a-46db-e2ba-9362e21db06e"
      },
      "execution_count": 19,
      "outputs": [
        {
          "output_type": "stream",
          "name": "stdout",
          "text": [
            "<class 'tuple'>\n"
          ]
        }
      ]
    },
    {
      "cell_type": "code",
      "source": [
        "print(tuple)"
      ],
      "metadata": {
        "colab": {
          "base_uri": "https://localhost:8080/"
        },
        "id": "zXkmXPSKeqX0",
        "outputId": "0b4f4d82-a5fc-45ae-895b-1924ec306e9b"
      },
      "execution_count": 20,
      "outputs": [
        {
          "output_type": "stream",
          "name": "stdout",
          "text": [
            "('khushi', 'Want to be Data-Scientist in', 2022, True)\n"
          ]
        }
      ]
    },
    {
      "cell_type": "code",
      "source": [
        "#indexing\n",
        "print(tuple[0])"
      ],
      "metadata": {
        "colab": {
          "base_uri": "https://localhost:8080/"
        },
        "id": "pNIMM-q3et-L",
        "outputId": "839992b9-a8cf-40a2-ad3a-feab8b54c8fa"
      },
      "execution_count": 21,
      "outputs": [
        {
          "output_type": "stream",
          "name": "stdout",
          "text": [
            "khushi\n"
          ]
        }
      ]
    },
    {
      "cell_type": "code",
      "source": [
        "#slicing\n",
        "print(tuple[0:1])\n",
        "print(tuple[0:2])\n",
        "print(tuple[0:3])\n",
        "print(tuple[0:4])\n",
        "\n"
      ],
      "metadata": {
        "colab": {
          "base_uri": "https://localhost:8080/"
        },
        "id": "j1CfBl1je4A_",
        "outputId": "714aaae9-f741-4094-c6ca-368b9f97e418"
      },
      "execution_count": 22,
      "outputs": [
        {
          "output_type": "stream",
          "name": "stdout",
          "text": [
            "('khushi',)\n",
            "('khushi', 'Want to be Data-Scientist in')\n",
            "('khushi', 'Want to be Data-Scientist in', 2022)\n",
            "('khushi', 'Want to be Data-Scientist in', 2022, True)\n"
          ]
        }
      ]
    },
    {
      "cell_type": "code",
      "source": [
        "#negative slicing\n",
        "print(tuple[-4:-3])\n",
        "print(tuple[-4:-2])\n",
        "print(tuple[-4:-1])\n",
        "print(tuple[-4:])"
      ],
      "metadata": {
        "colab": {
          "base_uri": "https://localhost:8080/"
        },
        "id": "PChFph71fF2g",
        "outputId": "5a00a5ca-6606-4fc8-becf-fed698455696"
      },
      "execution_count": 23,
      "outputs": [
        {
          "output_type": "stream",
          "name": "stdout",
          "text": [
            "('khushi',)\n",
            "('khushi', 'Want to be Data-Scientist in')\n",
            "('khushi', 'Want to be Data-Scientist in', 2022)\n",
            "('khushi', 'Want to be Data-Scientist in', 2022, True)\n"
          ]
        }
      ]
    },
    {
      "cell_type": "code",
      "source": [
        "#tuple methods\n",
        "a=()\n",
        "print(type(a))"
      ],
      "metadata": {
        "colab": {
          "base_uri": "https://localhost:8080/"
        },
        "id": "mdrVfkqPfofz",
        "outputId": "37d98138-b027-43be-fb27-13a04eb822fc"
      },
      "execution_count": 24,
      "outputs": [
        {
          "output_type": "stream",
          "name": "stdout",
          "text": [
            "<class 'tuple'>\n"
          ]
        }
      ]
    },
    {
      "cell_type": "code",
      "source": [
        "a=(1,)\n",
        "print(type(a))"
      ],
      "metadata": {
        "colab": {
          "base_uri": "https://localhost:8080/"
        },
        "id": "vHUdEicDguGX",
        "outputId": "a49304dd-ac9c-473b-88a7-2501692e4408"
      },
      "execution_count": 25,
      "outputs": [
        {
          "output_type": "stream",
          "name": "stdout",
          "text": [
            "<class 'tuple'>\n"
          ]
        }
      ]
    },
    {
      "cell_type": "code",
      "source": [
        "a=(1,2,5,4,8)  \n",
        "a.sort()               #sort and reverse not working in tuple \n",
        "print(a)\n",
        "\n",
        "a.reverse()\n",
        "print(a)"
      ],
      "metadata": {
        "colab": {
          "base_uri": "https://localhost:8080/",
          "height": 235
        },
        "id": "0SPYBuuVgyJ4",
        "outputId": "6a0b7265-0e11-43cb-859c-64e72e3fb91e"
      },
      "execution_count": 26,
      "outputs": [
        {
          "output_type": "error",
          "ename": "AttributeError",
          "evalue": "ignored",
          "traceback": [
            "\u001b[0;31m---------------------------------------------------------------------------\u001b[0m",
            "\u001b[0;31mAttributeError\u001b[0m                            Traceback (most recent call last)",
            "\u001b[0;32m<ipython-input-26-11d641a498be>\u001b[0m in \u001b[0;36m<module>\u001b[0;34m\u001b[0m\n\u001b[1;32m      1\u001b[0m \u001b[0ma\u001b[0m\u001b[0;34m=\u001b[0m\u001b[0;34m(\u001b[0m\u001b[0;36m1\u001b[0m\u001b[0;34m,\u001b[0m\u001b[0;36m2\u001b[0m\u001b[0;34m,\u001b[0m\u001b[0;36m5\u001b[0m\u001b[0;34m,\u001b[0m\u001b[0;36m4\u001b[0m\u001b[0;34m,\u001b[0m\u001b[0;36m8\u001b[0m\u001b[0;34m)\u001b[0m\u001b[0;34m\u001b[0m\u001b[0;34m\u001b[0m\u001b[0m\n\u001b[0;32m----> 2\u001b[0;31m \u001b[0ma\u001b[0m\u001b[0;34m.\u001b[0m\u001b[0msort\u001b[0m\u001b[0;34m(\u001b[0m\u001b[0;34m)\u001b[0m               \u001b[0;31m#sort and reverse not working in tuple\u001b[0m\u001b[0;34m\u001b[0m\u001b[0;34m\u001b[0m\u001b[0m\n\u001b[0m\u001b[1;32m      3\u001b[0m \u001b[0mprint\u001b[0m\u001b[0;34m(\u001b[0m\u001b[0ma\u001b[0m\u001b[0;34m)\u001b[0m\u001b[0;34m\u001b[0m\u001b[0;34m\u001b[0m\u001b[0m\n\u001b[1;32m      4\u001b[0m \u001b[0;34m\u001b[0m\u001b[0m\n\u001b[1;32m      5\u001b[0m \u001b[0ma\u001b[0m\u001b[0;34m.\u001b[0m\u001b[0mreverse\u001b[0m\u001b[0;34m(\u001b[0m\u001b[0;34m)\u001b[0m\u001b[0;34m\u001b[0m\u001b[0;34m\u001b[0m\u001b[0m\n",
            "\u001b[0;31mAttributeError\u001b[0m: 'tuple' object has no attribute 'sort'"
          ]
        }
      ]
    },
    {
      "cell_type": "code",
      "source": [
        "a.append(9)                #append not working\n",
        "print(a)"
      ],
      "metadata": {
        "colab": {
          "base_uri": "https://localhost:8080/",
          "height": 182
        },
        "id": "h8NQc4jYhGF8",
        "outputId": "24b986a9-9f11-431f-ad2e-a96f26d0c3ec"
      },
      "execution_count": 27,
      "outputs": [
        {
          "output_type": "error",
          "ename": "AttributeError",
          "evalue": "ignored",
          "traceback": [
            "\u001b[0;31m---------------------------------------------------------------------------\u001b[0m",
            "\u001b[0;31mAttributeError\u001b[0m                            Traceback (most recent call last)",
            "\u001b[0;32m<ipython-input-27-b0a3f54fe78b>\u001b[0m in \u001b[0;36m<module>\u001b[0;34m\u001b[0m\n\u001b[0;32m----> 1\u001b[0;31m \u001b[0ma\u001b[0m\u001b[0;34m.\u001b[0m\u001b[0mappend\u001b[0m\u001b[0;34m(\u001b[0m\u001b[0;36m9\u001b[0m\u001b[0;34m)\u001b[0m                \u001b[0;31m#append not working\u001b[0m\u001b[0;34m\u001b[0m\u001b[0;34m\u001b[0m\u001b[0m\n\u001b[0m\u001b[1;32m      2\u001b[0m \u001b[0mprint\u001b[0m\u001b[0;34m(\u001b[0m\u001b[0ma\u001b[0m\u001b[0;34m)\u001b[0m\u001b[0;34m\u001b[0m\u001b[0;34m\u001b[0m\u001b[0m\n",
            "\u001b[0;31mAttributeError\u001b[0m: 'tuple' object has no attribute 'append'"
          ]
        }
      ]
    },
    {
      "cell_type": "code",
      "source": [
        "b=(1,2,3)   #we can concatenate\n",
        "b=(1,2,3)    \n",
        "b=(1,2,3)  \n",
        "c=(4,5,6)\n",
        "print(b+c)"
      ],
      "metadata": {
        "colab": {
          "base_uri": "https://localhost:8080/"
        },
        "id": "DBly3Zm-hlOy",
        "outputId": "8fdb8270-e7bd-454d-8610-1070a6a32e10"
      },
      "execution_count": 28,
      "outputs": [
        {
          "output_type": "stream",
          "name": "stdout",
          "text": [
            "(1, 2, 3, 4, 5, 6)\n"
          ]
        }
      ]
    },
    {
      "cell_type": "code",
      "source": [
        "a=(1,1,3,4,1,3,1,5)\n",
        "a.count(1)\n"
      ],
      "metadata": {
        "colab": {
          "base_uri": "https://localhost:8080/"
        },
        "id": "On4i4mZBh7jW",
        "outputId": "272a63ef-ec0b-41fa-dfb9-d31e5b10ec47"
      },
      "execution_count": 29,
      "outputs": [
        {
          "output_type": "execute_result",
          "data": {
            "text/plain": [
              "4"
            ]
          },
          "metadata": {},
          "execution_count": 29
        }
      ]
    },
    {
      "cell_type": "code",
      "source": [
        "a.index(3) #showing first occurance \n"
      ],
      "metadata": {
        "colab": {
          "base_uri": "https://localhost:8080/"
        },
        "id": "7EZlMnQribm6",
        "outputId": "3fc3ab7a-e6d0-47f8-eb5e-76be167b6c17"
      },
      "execution_count": 30,
      "outputs": [
        {
          "output_type": "execute_result",
          "data": {
            "text/plain": [
              "2"
            ]
          },
          "metadata": {},
          "execution_count": 30
        }
      ]
    },
    {
      "cell_type": "markdown",
      "source": [
        "**Dictionary**: it consist of key and the values"
      ],
      "metadata": {
        "id": "lF6HclSpjbaQ"
      }
    },
    {
      "cell_type": "code",
      "source": [
        "Dict={\n",
        "    \"name\":\"Khushi Yadav\",\n",
        "    \"lang\":\"Python\",\n",
        "    \"city\":\"Udaipur\",\n",
        "    \"state\":\"Rajasthan\"\n",
        "}"
      ],
      "metadata": {
        "id": "6C7qsW5xjezx"
      },
      "execution_count": 49,
      "outputs": []
    },
    {
      "cell_type": "code",
      "source": [
        "print(type(Dict))"
      ],
      "metadata": {
        "colab": {
          "base_uri": "https://localhost:8080/"
        },
        "id": "LxWaFngJj1yA",
        "outputId": "0406fcb8-1919-4951-e54a-7d80dc65b30e"
      },
      "execution_count": 50,
      "outputs": [
        {
          "output_type": "stream",
          "name": "stdout",
          "text": [
            "<class 'dict'>\n"
          ]
        }
      ]
    },
    {
      "cell_type": "code",
      "source": [
        "print(Dict)"
      ],
      "metadata": {
        "colab": {
          "base_uri": "https://localhost:8080/"
        },
        "id": "d92uZQ5vj7dm",
        "outputId": "4862740b-86b8-4576-c719-f7c83c0dabd9"
      },
      "execution_count": 51,
      "outputs": [
        {
          "output_type": "stream",
          "name": "stdout",
          "text": [
            "{'name': 'Khushi Yadav', 'lang': 'Python', 'city': 'Udaipur', 'state': 'Rajasthan'}\n"
          ]
        }
      ]
    },
    {
      "cell_type": "code",
      "source": [
        "print(Dict[\"name\"])"
      ],
      "metadata": {
        "colab": {
          "base_uri": "https://localhost:8080/"
        },
        "id": "5Lu6V_QAj-le",
        "outputId": "0a8a49c0-737c-4163-91a6-43b0acb0f486"
      },
      "execution_count": 52,
      "outputs": [
        {
          "output_type": "stream",
          "name": "stdout",
          "text": [
            "Khushi Yadav\n"
          ]
        }
      ]
    },
    {
      "cell_type": "code",
      "source": [
        "print(Dict[\"city\"])"
      ],
      "metadata": {
        "colab": {
          "base_uri": "https://localhost:8080/"
        },
        "id": "NnFHVXo0kJWR",
        "outputId": "bff9dfaa-15a4-4726-b8e2-174e7c3b0f37"
      },
      "execution_count": 53,
      "outputs": [
        {
          "output_type": "stream",
          "name": "stdout",
          "text": [
            "Udaipur\n"
          ]
        }
      ]
    },
    {
      "cell_type": "code",
      "source": [
        "Dict.keys()"
      ],
      "metadata": {
        "colab": {
          "base_uri": "https://localhost:8080/"
        },
        "id": "evU5cWD4kP3_",
        "outputId": "0d3d4302-8465-4615-e591-8b460b20b04e"
      },
      "execution_count": 54,
      "outputs": [
        {
          "output_type": "execute_result",
          "data": {
            "text/plain": [
              "dict_keys(['name', 'lang', 'city', 'state'])"
            ]
          },
          "metadata": {},
          "execution_count": 54
        }
      ]
    },
    {
      "cell_type": "code",
      "source": [
        "Dict.values()"
      ],
      "metadata": {
        "colab": {
          "base_uri": "https://localhost:8080/"
        },
        "id": "dhe7UGCMka7_",
        "outputId": "75dbb364-de58-44fa-b479-e8e688828a68"
      },
      "execution_count": 55,
      "outputs": [
        {
          "output_type": "execute_result",
          "data": {
            "text/plain": [
              "dict_values(['Khushi Yadav', 'Python', 'Udaipur', 'Rajasthan'])"
            ]
          },
          "metadata": {},
          "execution_count": 55
        }
      ]
    },
    {
      "cell_type": "code",
      "source": [
        "#indexing\n",
        "print(Dict[\"name\"[0:4]])\n",
        "print(Dict[\"lang\"[0:8]])"
      ],
      "metadata": {
        "colab": {
          "base_uri": "https://localhost:8080/"
        },
        "id": "MYyo6HpykgBe",
        "outputId": "05c7a03a-4732-4040-ece5-4712b424de36"
      },
      "execution_count": 56,
      "outputs": [
        {
          "output_type": "stream",
          "name": "stdout",
          "text": [
            "Khushi Yadav\n",
            "Python\n"
          ]
        }
      ]
    },
    {
      "cell_type": "code",
      "source": [
        "#slicing\n",
        "print(dict[0])             #direct slicing not working"
      ],
      "metadata": {
        "colab": {
          "base_uri": "https://localhost:8080/",
          "height": 182
        },
        "id": "huHYwHKIknyE",
        "outputId": "3461f41c-6405-481e-c9ff-a64642b84d1e"
      },
      "execution_count": 57,
      "outputs": [
        {
          "output_type": "error",
          "ename": "TypeError",
          "evalue": "ignored",
          "traceback": [
            "\u001b[0;31m---------------------------------------------------------------------------\u001b[0m",
            "\u001b[0;31mTypeError\u001b[0m                                 Traceback (most recent call last)",
            "\u001b[0;32m<ipython-input-57-3e37656220e4>\u001b[0m in \u001b[0;36m<module>\u001b[0;34m\u001b[0m\n\u001b[1;32m      1\u001b[0m \u001b[0;31m#slicing\u001b[0m\u001b[0;34m\u001b[0m\u001b[0;34m\u001b[0m\u001b[0;34m\u001b[0m\u001b[0m\n\u001b[0;32m----> 2\u001b[0;31m \u001b[0mprint\u001b[0m\u001b[0;34m(\u001b[0m\u001b[0mdict\u001b[0m\u001b[0;34m[\u001b[0m\u001b[0;36m0\u001b[0m\u001b[0;34m]\u001b[0m\u001b[0;34m)\u001b[0m             \u001b[0;31m#direct slicing not working\u001b[0m\u001b[0;34m\u001b[0m\u001b[0;34m\u001b[0m\u001b[0m\n\u001b[0m",
            "\u001b[0;31mTypeError\u001b[0m: 'type' object is not subscriptable"
          ]
        }
      ]
    },
    {
      "cell_type": "code",
      "source": [
        "#Dictonary methods"
      ],
      "metadata": {
        "id": "kLWyQ_qnlWYn"
      },
      "execution_count": 58,
      "outputs": []
    },
    {
      "cell_type": "code",
      "source": [
        "#update \n",
        "Dict[\"Data Scientist\"]=2022\n",
        "print(Dict)"
      ],
      "metadata": {
        "id": "-BhFsVzGlztT",
        "colab": {
          "base_uri": "https://localhost:8080/"
        },
        "outputId": "69b8d9ec-7208-4898-b3ce-12158fbf33af"
      },
      "execution_count": 59,
      "outputs": [
        {
          "output_type": "stream",
          "name": "stdout",
          "text": [
            "{'name': 'Khushi Yadav', 'lang': 'Python', 'city': 'Udaipur', 'state': 'Rajasthan', 'Data Scientist': 2022}\n"
          ]
        }
      ]
    },
    {
      "cell_type": "code",
      "source": [
        "#delet\n",
        "del Dict[\"Data Scientist\"]\n",
        "print(Dict)"
      ],
      "metadata": {
        "colab": {
          "base_uri": "https://localhost:8080/"
        },
        "id": "SEsDVPy_Fi0q",
        "outputId": "b1625c11-4dd4-4fd6-db54-79a0e7ac7737"
      },
      "execution_count": 60,
      "outputs": [
        {
          "output_type": "stream",
          "name": "stdout",
          "text": [
            "{'name': 'Khushi Yadav', 'lang': 'Python', 'city': 'Udaipur', 'state': 'Rajasthan'}\n"
          ]
        }
      ]
    },
    {
      "cell_type": "code",
      "source": [
        "#update\n",
        "Dict.update({\"Data scientist\":\" in 2022\"})\n",
        "print(Dict)"
      ],
      "metadata": {
        "colab": {
          "base_uri": "https://localhost:8080/"
        },
        "id": "syX3xST7GakQ",
        "outputId": "2b31c468-3fa4-4e82-dd26-d67daf68a67a"
      },
      "execution_count": 61,
      "outputs": [
        {
          "output_type": "stream",
          "name": "stdout",
          "text": [
            "{'name': 'Khushi Yadav', 'lang': 'Python', 'city': 'Udaipur', 'state': 'Rajasthan', 'Data scientist': ' in 2022'}\n"
          ]
        }
      ]
    },
    {
      "cell_type": "code",
      "source": [
        "Dict.get(\"name\")"
      ],
      "metadata": {
        "colab": {
          "base_uri": "https://localhost:8080/",
          "height": 36
        },
        "id": "Rddu97j7G7RV",
        "outputId": "66419710-de9b-4525-99ad-f7e35d83a5ad"
      },
      "execution_count": 62,
      "outputs": [
        {
          "output_type": "execute_result",
          "data": {
            "text/plain": [
              "'Khushi Yadav'"
            ],
            "application/vnd.google.colaboratory.intrinsic+json": {
              "type": "string"
            }
          },
          "metadata": {},
          "execution_count": 62
        }
      ]
    },
    {
      "cell_type": "markdown",
      "source": [
        "**set**: unordered collection of datatype, { }"
      ],
      "metadata": {
        "id": "IdgHCndqHniY"
      }
    },
    {
      "cell_type": "code",
      "source": [
        "set={\"khushi\",\"khushi\",\"Want to be Data-Scientist in\",2022,2022,True}"
      ],
      "metadata": {
        "id": "iyMaALGFHspG"
      },
      "execution_count": 66,
      "outputs": []
    },
    {
      "cell_type": "code",
      "source": [
        "print(type(set))"
      ],
      "metadata": {
        "colab": {
          "base_uri": "https://localhost:8080/"
        },
        "id": "EzLdsI6dIBxb",
        "outputId": "3649bb10-d48b-4e37-c880-a4e99341a6e3"
      },
      "execution_count": 67,
      "outputs": [
        {
          "output_type": "stream",
          "name": "stdout",
          "text": [
            "<class 'set'>\n"
          ]
        }
      ]
    },
    {
      "cell_type": "code",
      "source": [
        "print(set)"
      ],
      "metadata": {
        "colab": {
          "base_uri": "https://localhost:8080/"
        },
        "id": "hx-kB2IiIEk3",
        "outputId": "59b64d5e-82be-4d25-c259-43470cda23b7"
      },
      "execution_count": 68,
      "outputs": [
        {
          "output_type": "stream",
          "name": "stdout",
          "text": [
            "{2022, 'Want to be Data-Scientist in', 'khushi', True}\n"
          ]
        }
      ]
    },
    {
      "cell_type": "code",
      "source": [
        "print(len(set))"
      ],
      "metadata": {
        "colab": {
          "base_uri": "https://localhost:8080/"
        },
        "id": "nHi-95koIcpy",
        "outputId": "304db008-c646-49b6-958a-866115ea025a"
      },
      "execution_count": 69,
      "outputs": [
        {
          "output_type": "stream",
          "name": "stdout",
          "text": [
            "4\n"
          ]
        }
      ]
    },
    {
      "cell_type": "code",
      "source": [
        "set.add(2023)\n",
        "print(set)"
      ],
      "metadata": {
        "colab": {
          "base_uri": "https://localhost:8080/"
        },
        "id": "H5uggY7JI4PK",
        "outputId": "63af20a2-3145-4fb3-90cf-4b044c607de3"
      },
      "execution_count": 70,
      "outputs": [
        {
          "output_type": "stream",
          "name": "stdout",
          "text": [
            "{True, 2022, 2023, 'khushi', 'Want to be Data-Scientist in'}\n"
          ]
        }
      ]
    },
    {
      "cell_type": "code",
      "source": [
        "set.remove(2023)\n",
        "print(set)"
      ],
      "metadata": {
        "colab": {
          "base_uri": "https://localhost:8080/"
        },
        "id": "JPQCtTgiJD6Z",
        "outputId": "3266c52d-c9eb-4d15-e1b8-19c1a8e3a769"
      },
      "execution_count": 71,
      "outputs": [
        {
          "output_type": "stream",
          "name": "stdout",
          "text": [
            "{True, 2022, 'khushi', 'Want to be Data-Scientist in'}\n"
          ]
        }
      ]
    },
    {
      "cell_type": "code",
      "source": [
        "#union\n",
        "set1={\"khushi\",\"yadav\"}\n",
        "set2={\"khushi\"}\n",
        "set3=set1|(set2)\n",
        "print(set3)"
      ],
      "metadata": {
        "colab": {
          "base_uri": "https://localhost:8080/"
        },
        "id": "iv33RhvpJZJZ",
        "outputId": "3d3f0b98-37bd-4a31-ef5f-59cd5bf0c868"
      },
      "execution_count": 73,
      "outputs": [
        {
          "output_type": "stream",
          "name": "stdout",
          "text": [
            "{'yadav', 'khushi'}\n"
          ]
        }
      ]
    },
    {
      "cell_type": "code",
      "source": [
        "#intersection\n",
        "set1={\"khushi\",\"yadav\"}\n",
        "set2={\"khushi\"}\n",
        "set3=set1&(set2)\n",
        "print(set3)"
      ],
      "metadata": {
        "colab": {
          "base_uri": "https://localhost:8080/"
        },
        "id": "6i0lkn47KE3h",
        "outputId": "7e266184-d564-4210-aa8b-e0ec9c4f3eae"
      },
      "execution_count": 74,
      "outputs": [
        {
          "output_type": "stream",
          "name": "stdout",
          "text": [
            "{'khushi'}\n"
          ]
        }
      ]
    },
    {
      "cell_type": "code",
      "source": [
        "s1=101\n",
        "s2=100\n",
        "print(s1!=s2)\n",
        "print(s1>=s2)\n",
        "print(s1==s2)"
      ],
      "metadata": {
        "colab": {
          "base_uri": "https://localhost:8080/"
        },
        "id": "IXqui9PIKub6",
        "outputId": "3fdb9a39-9b09-4168-c74e-af97ba8cf851"
      },
      "execution_count": 76,
      "outputs": [
        {
          "output_type": "stream",
          "name": "stdout",
          "text": [
            "True\n",
            "True\n",
            "False\n"
          ]
        }
      ]
    },
    {
      "cell_type": "code",
      "source": [],
      "metadata": {
        "id": "mHD8QMscK2Gd"
      },
      "execution_count": null,
      "outputs": []
    }
  ]
}