{
  "nbformat": 4,
  "nbformat_minor": 0,
  "metadata": {
    "colab": {
      "provenance": [],
      "collapsed_sections": []
    },
    "kernelspec": {
      "name": "python3",
      "display_name": "Python 3"
    },
    "language_info": {
      "name": "python"
    }
  },
  "cells": [
    {
      "cell_type": "markdown",
      "source": [
        "String Template Class\n"
      ],
      "metadata": {
        "id": "PtyTVAgkLowN"
      }
    },
    {
      "cell_type": "code",
      "execution_count": 4,
      "metadata": {
        "colab": {
          "base_uri": "https://localhost:8080/"
        },
        "id": "-puKYH2KH7mU",
        "outputId": "90f82f34-b6a1-4208-a3d7-947b3232923f"
      },
      "outputs": [
        {
          "output_type": "stream",
          "name": "stdout",
          "text": [
            "hi khushi, your age is 30\n",
            "hi mivaan, your age is 3\n",
            "hi naresh, your age is 32\n"
          ]
        }
      ],
      "source": [
        "#string template class\n",
        "from string import Template\n",
        "student=[('khushi',30),('mivaan',3),('naresh',32)]\n",
        "t=Template('hi $name, your age is $age')\n",
        "\n",
        "for i in student:\n",
        "  print(t.substitute(name=i[0],age=i[1]))"
      ]
    },
    {
      "cell_type": "code",
      "source": [
        "from string import Template\n",
        "template=Template('$name is a $job in $company')\n",
        "string=template.safe_substitute(name='khushi',job='CEO',company='google')\n",
        "print(string)\n"
      ],
      "metadata": {
        "colab": {
          "base_uri": "https://localhost:8080/"
        },
        "id": "uya0PnjmJajN",
        "outputId": "239b5977-91d3-454f-fc32-f721a3195400"
      },
      "execution_count": 5,
      "outputs": [
        {
          "output_type": "stream",
          "name": "stdout",
          "text": [
            "khushi is a CEO in google\n"
          ]
        }
      ]
    },
    {
      "cell_type": "code",
      "source": [
        "t = Template( 'That $noun looks ${noun}y')\n",
        "string = t.substitute(noun='Fish')\n",
        "print(string)"
      ],
      "metadata": {
        "colab": {
          "base_uri": "https://localhost:8080/"
        },
        "id": "QojQ3tiELG92",
        "outputId": "aab91715-3935-431c-8638-100bc9337745"
      },
      "execution_count": 6,
      "outputs": [
        {
          "output_type": "stream",
          "name": "stdout",
          "text": [
            "That Fish looks Fishy\n"
          ]
        }
      ]
    },
    {
      "cell_type": "markdown",
      "source": [
        "BMI Calculator"
      ],
      "metadata": {
        "id": "d5lR_h2tLwSD"
      }
    },
    {
      "cell_type": "code",
      "source": [
        "height = float(input(\"Enter your height in cm: \"))  \n",
        "weight = float(input(\"Enter your weight in kg: \"))  \n",
        "\n",
        "BMI = weight/(height/100)**2  \n",
        "print(\"Your Body Mass Index is \",BMI) \n",
        "\n",
        "if BMI <= 18.5:  \n",
        "    print(\"You are underweight... please gain some weight\")  \n",
        "elif BMI <= 24.9:  \n",
        "    print(\"amazing! You are healthy.\")  \n",
        "elif BMI <= 29.9:  \n",
        "    print(\"You are overweight...please reduce some weight\")  \n",
        "else:  \n",
        "    print(\"You are obese.\")  \n",
        "\n"
      ],
      "metadata": {
        "colab": {
          "base_uri": "https://localhost:8080/"
        },
        "id": "yBn42UlcLhto",
        "outputId": "aa890e03-6a8e-46fa-bd75-c0791454b9e4"
      },
      "execution_count": 15,
      "outputs": [
        {
          "output_type": "stream",
          "name": "stdout",
          "text": [
            "Enter your height in cm: 156\n",
            "Enter your weight in kg: 60\n",
            "Your Body Mass Index is  24.654832347140037\n",
            "amazing! You are healthy.\n"
          ]
        }
      ]
    },
    {
      "cell_type": "code",
      "source": [],
      "metadata": {
        "id": "Qu5z1FhgNxzO"
      },
      "execution_count": null,
      "outputs": []
    }
  ]
}