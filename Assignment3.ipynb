{
  "nbformat": 4,
  "nbformat_minor": 0,
  "metadata": {
    "colab": {
      "provenance": [],
      "collapsed_sections": []
    },
    "kernelspec": {
      "name": "python3",
      "display_name": "Python 3"
    },
    "language_info": {
      "name": "python"
    }
  },
  "cells": [
    {
      "cell_type": "markdown",
      "source": [
        "**ASSIGNMENT-3** '''what is r+, w+, a+\n",
        "and Create a calci where the values are operators need to be given by the user and store the values in the file'''\n"
      ],
      "metadata": {
        "id": "Nq6UVaSAYqnQ"
      }
    },
    {
      "cell_type": "code",
      "source": [
        "with open('file.txt', 'w+') as f:                #w+ :it's write and read the file\n",
        "    f.write(\"hi \\n\")\n",
        "    f.write(\"i am khushi\\n\")\n",
        "    f.write(\"welcome to my pc \\n\")\n",
        "    f.seek(0)                       # move the file pointer to the beginning\n",
        "    lines = f.read()                # read it, now we can read!\n",
        "    print(lines)                "
      ],
      "metadata": {
        "colab": {
          "base_uri": "https://localhost:8080/"
        },
        "id": "Nzt3DYarZdYz",
        "outputId": "00a51ffa-5ff5-4a08-b7ca-7ee6a6cf90b2"
      },
      "execution_count": null,
      "outputs": [
        {
          "output_type": "stream",
          "name": "stdout",
          "text": [
            "hi \n",
            "i am khushi\n",
            "welcome to my pc \n",
            "\n"
          ]
        }
      ]
    },
    {
      "cell_type": "code",
      "source": [
        "with open('file.txt', 'r+') as f:                 #r+ :it's read and write in file \n",
        "    f.write(\"welcome khushi\")        \n",
        "           "
      ],
      "metadata": {
        "id": "SSjFdS41Y00-"
      },
      "execution_count": null,
      "outputs": []
    },
    {
      "cell_type": "code",
      "source": [
        "with open('file.txt', 'a+') as f:\n",
        "    f.write(\"i am starting new project\")\n",
        "    f.seek(0)                       # file pointer at end, move to beginning\n",
        "    lines = f.readlines()           # read all and file pointer at end again\n",
        "    print(lines)                   # append number of lines to a file"
      ],
      "metadata": {
        "colab": {
          "base_uri": "https://localhost:8080/"
        },
        "id": "BBdYZ4N9ZvXC",
        "outputId": "798db328-cc9b-4c09-9f71-4bc4fa4d2c05"
      },
      "execution_count": null,
      "outputs": [
        {
          "output_type": "stream",
          "name": "stdout",
          "text": [
            "['welcome khushii\\n', 'welcome to my pc \\n', 'i am starting new project']\n"
          ]
        }
      ]
    },
    {
      "cell_type": "markdown",
      "source": [
        "### **CALCULATOR**\n",
        "\n",
        "\n",
        "\n",
        "\n",
        "\n"
      ],
      "metadata": {
        "id": "KQGTPi4_g7Nk"
      }
    },
    {
      "cell_type": "code",
      "source": [
        "def sum():\n",
        "  a=int(input(\"enter the num1- \"))\n",
        "  b=int(input(\"enter the num1- \"))\n",
        "  print(\"sum\",a+b)\n",
        "  with open('calculator.txt',\"a\") as f:\n",
        "    f.write(f\"\\n sum of {a} and {b} is {a+b}\\n\")\n",
        "  # f.write(\"sum of\",a,\"and\",b,\"is\",a+b,\"\\n\")     #why it's showing error????\n",
        "\n",
        "def sub():\n",
        "  a=int(input(\"enter the num1- \"))\n",
        "  b=int(input(\"enter the num1- \"))\n",
        "  print(\"sub\",a-b)\n",
        "  with open('calculator.txt',\"a\") as f:\n",
        "      f.write(f\"\\n subtraction of {a} and {b} is {a-b}\\n\")\n",
        "  \n",
        "def mul():\n",
        "  a=int(input(\"enter the num1- \"))\n",
        "  b=int(input(\"enter the num1- \"))\n",
        "  print(\"mul\",a*b)\n",
        "  with open('calculator.txt',\"a\") as f:\n",
        "     f.write(f\"\\n multiplication of {a} and {b} is {a*b}\\n\")\n",
        "\n",
        "def div():\n",
        "  a=int(input(\"enter the num1- \"))\n",
        "  b=int(input(\"enter the num1- \"))\n",
        "  print(\"div\",a/b)\n",
        "  with open('calculator.txt',\"a\") as f:\n",
        "       f.write(f\"\\n division of {a} and {b} is {a/b}\\n\")"
      ],
      "metadata": {
        "id": "lKpJa1JthFRO"
      },
      "execution_count": null,
      "outputs": []
    },
    {
      "cell_type": "code",
      "source": [
        "mul()\n",
        "sum()\n"
      ],
      "metadata": {
        "id": "DVxe_tv6h2zg",
        "colab": {
          "base_uri": "https://localhost:8080/"
        },
        "outputId": "74feb8fd-855a-4675-b15e-6d0f96603d2b"
      },
      "execution_count": null,
      "outputs": [
        {
          "output_type": "stream",
          "name": "stdout",
          "text": [
            "enter the num1- 3\n",
            "enter the num1- 3\n",
            "mul 9\n"
          ]
        }
      ]
    },
    {
      "cell_type": "code",
      "source": [],
      "metadata": {
        "id": "7WrGE4P0gvrB"
      },
      "execution_count": null,
      "outputs": []
    }
  ]
}